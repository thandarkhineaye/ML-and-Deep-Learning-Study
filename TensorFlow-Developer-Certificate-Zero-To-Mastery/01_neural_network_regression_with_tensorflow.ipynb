{
  "nbformat": 4,
  "nbformat_minor": 0,
  "metadata": {
    "colab": {
      "provenance": []
    },
    "kernelspec": {
      "name": "python3",
      "display_name": "Python 3"
    },
    "language_info": {
      "name": "python"
    }
  },
  "cells": [
    {
      "cell_type": "markdown",
      "source": [
        "# Introduction to Regression with Neural Networks in Tensorflow\n",
        "\n",
        "There are many definitions for a regression problem but in our case, \n",
        "we're going to simplify it: prdicting a numerical variable based on some other combination of variables, even shorter.. predicting a number."
      ],
      "metadata": {
        "id": "byymgh7fSPt5"
      }
    },
    {
      "cell_type": "code",
      "source": [
        "# Import TensorFlow\n",
        "import tensorflow as tf\n",
        "print(tf.__version__)"
      ],
      "metadata": {
        "colab": {
          "base_uri": "https://localhost:8080/"
        },
        "id": "iVgr1fyGS_tW",
        "outputId": "182b7e5f-1c53-42bf-a1fd-9d65fc1bde2b"
      },
      "execution_count": 1,
      "outputs": [
        {
          "output_type": "stream",
          "name": "stdout",
          "text": [
            "2.9.2\n"
          ]
        }
      ]
    },
    {
      "cell_type": "markdown",
      "source": [
        "### Creating some data to view and fit"
      ],
      "metadata": {
        "id": "Oye1gRxoTUEe"
      }
    },
    {
      "cell_type": "code",
      "source": [
        "import numpy as np\n",
        "import matplotlib.pyplot as plt\n",
        "\n",
        "# Create features\n",
        "x = np.array([-3.0, 0.0, 3.0, 6.0, 9.0, 12.0, 15.0, 18.0])\n",
        "\n",
        "# Create labels\n",
        "y = np.array([ 7., 10., 13., 16., 19., 22., 25., 28.])\n",
        "\n",
        "# Visualize it\n",
        "plt.scatter(x, y);"
      ],
      "metadata": {
        "colab": {
          "base_uri": "https://localhost:8080/",
          "height": 265
        },
        "id": "4lb7snBnUe9b",
        "outputId": "a7087dee-d65e-4258-8e8c-0a9362432419"
      },
      "execution_count": 2,
      "outputs": [
        {
          "output_type": "display_data",
          "data": {
            "text/plain": [
              "<Figure size 432x288 with 1 Axes>"
            ],
            "image/png": "[encoded data removed]"
          },
          "metadata": {
            "needs_background": "light"
          }
        }
      ]
    },
    {
      "cell_type": "markdown",
      "source": [
        "## Input and Output shapes"
      ],
      "metadata": {
        "id": "ST2QZj0iYst2"
      }
    },
    {
      "cell_type": "code",
      "source": [
        "# Create a demo tensor for our housing price prediction problem\n",
        "house_info = tf.constant([\"bedroom\", \"bathroom\", \"garage\"])\n",
        "house_price = tf.constant([939700])\n",
        "house_info, house_price"
      ],
      "metadata": {
        "colab": {
          "base_uri": "https://localhost:8080/"
        },
        "id": "MnYlWXGUZCLu",
        "outputId": "1b8b9794-a6e7-484a-8143-5a3208e8f165"
      },
      "execution_count": 3,
      "outputs": [
        {
          "output_type": "execute_result",
          "data": {
            "text/plain": [
              "(<tf.Tensor: shape=(3,), dtype=string, numpy=array([b'bedroom', b'bathroom', b'garage'], dtype=object)>,\n",
              " <tf.Tensor: shape=(1,), dtype=int32, numpy=array([939700], dtype=int32)>)"
            ]
          },
          "metadata": {},
          "execution_count": 3
        }
      ]
    },
    {
      "cell_type": "markdown",
      "source": [
        "## Steps in modelling with TensorFlow\n",
        "1. **Creating a model** - define the input and output layers, as well as the hidden layers of a deep learning model.house_price\n",
        "2. **Compiling a model** - define \n",
        "   2.1 *the loss function* (in other words, the function which tells our model how wrong it is) and \n",
        "   2.2 *the optimizer* (tells our model how to impove the patterns its learning) and \n",
        "   2.3 *the evaluation metrice* (what we can use to interpret the performance of our model)\n",
        "3. **Fitting a model** - letting the model try to find patterns between X & y (features and labels)."
      ],
      "metadata": {
        "id": "5qeBigjAc25S"
      }
    },
    {
      "cell_type": "code",
      "source": [
        "# Turn NumPy arrays into Tensors \n",
        "X = tf.cast(tf.constant(x), dtype=tf.float32)\n",
        "Y = tf.cast(tf.constant(y), dtype=tf.float32)\n",
        "X, Y"
      ],
      "metadata": {
        "colab": {
          "base_uri": "https://localhost:8080/"
        },
        "id": "nHojsmELuWaS",
        "outputId": "5dbb1f0a-c6e9-41d0-a030-e4dc33a68c49"
      },
      "execution_count": 4,
      "outputs": [
        {
          "output_type": "execute_result",
          "data": {
            "text/plain": [
              "(<tf.Tensor: shape=(8,), dtype=float32, numpy=array([-3.,  0.,  3.,  6.,  9., 12., 15., 18.], dtype=float32)>,\n",
              " <tf.Tensor: shape=(8,), dtype=float32, numpy=array([ 7., 10., 13., 16., 19., 22., 25., 28.], dtype=float32)>)"
            ]
          },
          "metadata": {},
          "execution_count": 4
        }
      ]
    },
    {
      "cell_type": "code",
      "source": [
        "# Set random seed (Very first model which create together with lecturer)\n",
        "tf.random.set_seed(42)\n",
        "\n",
        "# 1. Create a model using the Sequential API\n",
        "model = tf.keras.Sequential([\n",
        " tf.keras.layers.Dense(1)   \n",
        "])\n",
        "\n",
        "# 2. Compiling the model\n",
        "model.compile(loss = tf.keras.losses.mae, # 'mae' is short for Mean Absolute Error\n",
        "              optimizer = tf.keras.optimizers.SGD(), # 'sgd' is short for Stochasitc Gradient Descent\n",
        "              metrics = [\"mae\"])\n",
        "\n",
        "# 3. Fit the model (OLD)\n",
        "# model.fit(X, Y, epochs=20)\n",
        "\n",
        "# 3. Fit the model (NEW)\n",
        "model.fit(tf.expand_dims(X, axis=-1), Y, epochs=5) # <- update this line cause of New Tensorflow version"
      ],
      "metadata": {
        "colab": {
          "base_uri": "https://localhost:8080/"
        },
        "id": "SZUt_k9UgbxH",
        "outputId": "01eebcda-b94f-4390-f2cd-304c09cd8415"
      },
      "execution_count": 5,
      "outputs": [
        {
          "output_type": "stream",
          "name": "stdout",
          "text": [
            "Epoch 1/5\n",
            "1/1 [==============================] - 1s 1s/step - loss: 13.2246 - mae: 13.2246\n",
            "Epoch 2/5\n",
            "1/1 [==============================] - 0s 21ms/step - loss: 12.6521 - mae: 12.6521\n",
            "Epoch 3/5\n",
            "1/1 [==============================] - 0s 26ms/step - loss: 12.0796 - mae: 12.0796\n",
            "Epoch 4/5\n",
            "1/1 [==============================] - 0s 12ms/step - loss: 11.5071 - mae: 11.5071\n",
            "Epoch 5/5\n",
            "1/1 [==============================] - 0s 12ms/step - loss: 10.9346 - mae: 10.9346\n"
          ]
        },
        {
          "output_type": "execute_result",
          "data": {
            "text/plain": [
              "<keras.callbacks.History at 0x7f3b6323d850>"
            ]
          },
          "metadata": {},
          "execution_count": 5
        }
      ]
    },
    {
      "cell_type": "code",
      "source": [
        "# Check out X and Y\n",
        "X, Y"
      ],
      "metadata": {
        "colab": {
          "base_uri": "https://localhost:8080/"
        },
        "id": "g6RkTfBG1IQ-",
        "outputId": "d7aa72e0-1f79-4659-f8b2-6bf88b2080fe"
      },
      "execution_count": 6,
      "outputs": [
        {
          "output_type": "execute_result",
          "data": {
            "text/plain": [
              "(<tf.Tensor: shape=(8,), dtype=float32, numpy=array([-3.,  0.,  3.,  6.,  9., 12., 15., 18.], dtype=float32)>,\n",
              " <tf.Tensor: shape=(8,), dtype=float32, numpy=array([ 7., 10., 13., 16., 19., 22., 25., 28.], dtype=float32)>)"
            ]
          },
          "metadata": {},
          "execution_count": 6
        }
      ]
    },
    {
      "cell_type": "code",
      "source": [
        "# Try and make a prediction using our model\n",
        "Y_pred = model.predict([21.0])\n",
        "Y_pred"
      ],
      "metadata": {
        "colab": {
          "base_uri": "https://localhost:8080/"
        },
        "id": "l2_vqCmN1MCx",
        "outputId": "d8b956a5-5541-49c3-bee5-b41e4a37fa23"
      },
      "execution_count": 7,
      "outputs": [
        {
          "output_type": "stream",
          "name": "stdout",
          "text": [
            "1/1 [==============================] - 0s 153ms/step\n"
          ]
        },
        {
          "output_type": "execute_result",
          "data": {
            "text/plain": [
              "array([[19.896255]], dtype=float32)"
            ]
          },
          "metadata": {},
          "execution_count": 7
        }
      ]
    },
    {
      "cell_type": "code",
      "source": [
        "Y_pred + 11"
      ],
      "metadata": {
        "colab": {
          "base_uri": "https://localhost:8080/"
        },
        "id": "b0OtA4qC110-",
        "outputId": "9a4e6fc9-7b82-4518-c9f3-d1da3b65bae0"
      },
      "execution_count": 8,
      "outputs": [
        {
          "output_type": "execute_result",
          "data": {
            "text/plain": [
              "array([[30.896255]], dtype=float32)"
            ]
          },
          "metadata": {},
          "execution_count": 8
        }
      ]
    },
    {
      "cell_type": "markdown",
      "source": [
        "## Improving our Model\n",
        "\n",
        "We can improve the model by altering the steps we took to create a model.\n",
        "1. **Creating a model** - here we might add more layers, increase the number of hidden units (all called neurons) within each of the hidden layers, change the activation function of each layers.\n",
        "2. **Compiling a model** - here we might change the optimization function or perhaps the **learning rate** of the optimization function.\n",
        "3. **Fitting a model** - here we might fit a model for more epochs (leave it traning for longer) or on more data (give the model more examples to learn from)."
      ],
      "metadata": {
        "id": "ap63ZJoBHx0L"
      }
    },
    {
      "cell_type": "code",
      "source": [
        "# Rebuild the model (The model which improved by myself! YESSSS )\n",
        "# 1. Create the model\n",
        "model = tf.keras.Sequential([\n",
        " tf.keras.layers.Dense(100, activation=\"relu\"),\n",
        " #tf.keras.layers.Dense(150, activation=\"relu\"),\n",
        " #tf.keras.layers.Dense(150, activation=\"relu\"),\n",
        " tf.keras.layers.Dense(1)\n",
        "])\n",
        "# 2. Compile the model\n",
        "model.compile(loss = tf.keras.losses.mae, \n",
        "              optimizer = tf.keras.optimizers.Adam(lr=0.1), \n",
        "              metrics = [\"mae\"])\n",
        "\n",
        "# 3. Fitting the model(this time will tranin for longer)\n",
        "model.fit(tf.expand_dims(X, axis=-1), Y, epochs=100)"
      ],
      "metadata": {
        "colab": {
          "base_uri": "https://localhost:8080/"
        },
        "id": "iDihW2dhHLNj",
        "outputId": "708c6f22-9e5b-4ede-fa68-5aa0f324cdf9"
      },
      "execution_count": 9,
      "outputs": [
        {
          "output_type": "stream",
          "name": "stdout",
          "text": [
            "Epoch 1/100\n"
          ]
        },
        {
          "output_type": "stream",
          "name": "stderr",
          "text": [
            "/usr/local/lib/python3.7/dist-packages/keras/optimizers/optimizer_v2/adam.py:110: UserWarning: The `lr` argument is deprecated, use `learning_rate` instead.\n",
            "  super(Adam, self).__init__(name, **kwargs)\n"
          ]
        },
        {
          "output_type": "stream",
          "name": "stdout",
          "text": [
            "1/1 [==============================] - 1s 863ms/step - loss: 18.5608 - mae: 18.5608\n",
            "Epoch 2/100\n",
            "1/1 [==============================] - 0s 10ms/step - loss: 5.5077 - mae: 5.5077\n",
            "Epoch 3/100\n",
            "1/1 [==============================] - 0s 10ms/step - loss: 11.8342 - mae: 11.8342\n",
            "Epoch 4/100\n",
            "1/1 [==============================] - 0s 11ms/step - loss: 11.7281 - mae: 11.7281\n",
            "Epoch 5/100\n",
            "1/1 [==============================] - 0s 16ms/step - loss: 6.6698 - mae: 6.6698\n",
            "Epoch 6/100\n",
            "1/1 [==============================] - 0s 15ms/step - loss: 3.1246 - mae: 3.1246\n",
            "Epoch 7/100\n",
            "1/1 [==============================] - 0s 18ms/step - loss: 5.8537 - mae: 5.8537\n",
            "Epoch 8/100\n",
            "1/1 [==============================] - 0s 13ms/step - loss: 5.7284 - mae: 5.7284\n",
            "Epoch 9/100\n",
            "1/1 [==============================] - 0s 11ms/step - loss: 3.1913 - mae: 3.1913\n",
            "Epoch 10/100\n",
            "1/1 [==============================] - 0s 13ms/step - loss: 4.0417 - mae: 4.0417\n",
            "Epoch 11/100\n",
            "1/1 [==============================] - 0s 35ms/step - loss: 5.5695 - mae: 5.5695\n",
            "Epoch 12/100\n",
            "1/1 [==============================] - 0s 14ms/step - loss: 4.3828 - mae: 4.3828\n",
            "Epoch 13/100\n",
            "1/1 [==============================] - 0s 28ms/step - loss: 2.3757 - mae: 2.3757\n",
            "Epoch 14/100\n",
            "1/1 [==============================] - 0s 10ms/step - loss: 2.5343 - mae: 2.5343\n",
            "Epoch 15/100\n",
            "1/1 [==============================] - 0s 12ms/step - loss: 1.9075 - mae: 1.9075\n",
            "Epoch 16/100\n",
            "1/1 [==============================] - 0s 11ms/step - loss: 2.2493 - mae: 2.2493\n",
            "Epoch 17/100\n",
            "1/1 [==============================] - 0s 12ms/step - loss: 2.7006 - mae: 2.7006\n",
            "Epoch 18/100\n",
            "1/1 [==============================] - 0s 27ms/step - loss: 1.1926 - mae: 1.1926\n",
            "Epoch 19/100\n",
            "1/1 [==============================] - 0s 11ms/step - loss: 1.9633 - mae: 1.9633\n",
            "Epoch 20/100\n",
            "1/1 [==============================] - 0s 18ms/step - loss: 1.8800 - mae: 1.8800\n",
            "Epoch 21/100\n",
            "1/1 [==============================] - 0s 11ms/step - loss: 0.5418 - mae: 0.5418\n",
            "Epoch 22/100\n",
            "1/1 [==============================] - 0s 18ms/step - loss: 0.7387 - mae: 0.7387\n",
            "Epoch 23/100\n",
            "1/1 [==============================] - 0s 15ms/step - loss: 1.7827 - mae: 1.7827\n",
            "Epoch 24/100\n",
            "1/1 [==============================] - 0s 11ms/step - loss: 1.8831 - mae: 1.8831\n",
            "Epoch 25/100\n",
            "1/1 [==============================] - 0s 15ms/step - loss: 0.6520 - mae: 0.6520\n",
            "Epoch 26/100\n",
            "1/1 [==============================] - 0s 14ms/step - loss: 3.3335 - mae: 3.3335\n",
            "Epoch 27/100\n",
            "1/1 [==============================] - 0s 22ms/step - loss: 3.8184 - mae: 3.8184\n",
            "Epoch 28/100\n",
            "1/1 [==============================] - 0s 8ms/step - loss: 2.1330 - mae: 2.1330\n",
            "Epoch 29/100\n",
            "1/1 [==============================] - 0s 26ms/step - loss: 1.3370 - mae: 1.3370\n",
            "Epoch 30/100\n",
            "1/1 [==============================] - 0s 40ms/step - loss: 2.3651 - mae: 2.3651\n",
            "Epoch 31/100\n",
            "1/1 [==============================] - 0s 26ms/step - loss: 1.8796 - mae: 1.8796\n",
            "Epoch 32/100\n",
            "1/1 [==============================] - 0s 27ms/step - loss: 0.5261 - mae: 0.5261\n",
            "Epoch 33/100\n",
            "1/1 [==============================] - 0s 19ms/step - loss: 1.7124 - mae: 1.7124\n",
            "Epoch 34/100\n",
            "1/1 [==============================] - 0s 20ms/step - loss: 1.4499 - mae: 1.4499\n",
            "Epoch 35/100\n",
            "1/1 [==============================] - 0s 13ms/step - loss: 0.4810 - mae: 0.4810\n",
            "Epoch 36/100\n",
            "1/1 [==============================] - 0s 29ms/step - loss: 1.2342 - mae: 1.2342\n",
            "Epoch 37/100\n",
            "1/1 [==============================] - 0s 10ms/step - loss: 0.5452 - mae: 0.5452\n",
            "Epoch 38/100\n",
            "1/1 [==============================] - 0s 39ms/step - loss: 0.8236 - mae: 0.8236\n",
            "Epoch 39/100\n",
            "1/1 [==============================] - 0s 16ms/step - loss: 0.5136 - mae: 0.5136\n",
            "Epoch 40/100\n",
            "1/1 [==============================] - 0s 12ms/step - loss: 1.0386 - mae: 1.0386\n",
            "Epoch 41/100\n",
            "1/1 [==============================] - 0s 15ms/step - loss: 0.7111 - mae: 0.7111\n",
            "Epoch 42/100\n",
            "1/1 [==============================] - 0s 14ms/step - loss: 1.0861 - mae: 1.0861\n",
            "Epoch 43/100\n",
            "1/1 [==============================] - 0s 15ms/step - loss: 1.0960 - mae: 1.0960\n",
            "Epoch 44/100\n",
            "1/1 [==============================] - 0s 22ms/step - loss: 0.6184 - mae: 0.6184\n",
            "Epoch 45/100\n",
            "1/1 [==============================] - 0s 14ms/step - loss: 0.4868 - mae: 0.4868\n",
            "Epoch 46/100\n",
            "1/1 [==============================] - 0s 13ms/step - loss: 1.1768 - mae: 1.1768\n",
            "Epoch 47/100\n",
            "1/1 [==============================] - 0s 10ms/step - loss: 1.0487 - mae: 1.0487\n",
            "Epoch 48/100\n",
            "1/1 [==============================] - 0s 9ms/step - loss: 0.6653 - mae: 0.6653\n",
            "Epoch 49/100\n",
            "1/1 [==============================] - 0s 11ms/step - loss: 0.7816 - mae: 0.7816\n",
            "Epoch 50/100\n",
            "1/1 [==============================] - 0s 16ms/step - loss: 0.5678 - mae: 0.5678\n",
            "Epoch 51/100\n",
            "1/1 [==============================] - 0s 12ms/step - loss: 0.3287 - mae: 0.3287\n",
            "Epoch 52/100\n",
            "1/1 [==============================] - 0s 12ms/step - loss: 1.2917 - mae: 1.2917\n",
            "Epoch 53/100\n",
            "1/1 [==============================] - 0s 20ms/step - loss: 1.3683 - mae: 1.3683\n",
            "Epoch 54/100\n",
            "1/1 [==============================] - 0s 9ms/step - loss: 0.2949 - mae: 0.2949\n",
            "Epoch 55/100\n",
            "1/1 [==============================] - 0s 17ms/step - loss: 2.0214 - mae: 2.0214\n",
            "Epoch 56/100\n",
            "1/1 [==============================] - 0s 14ms/step - loss: 2.3980 - mae: 2.3980\n",
            "Epoch 57/100\n",
            "1/1 [==============================] - 0s 20ms/step - loss: 1.3118 - mae: 1.3118\n",
            "Epoch 58/100\n",
            "1/1 [==============================] - 0s 14ms/step - loss: 1.0617 - mae: 1.0617\n",
            "Epoch 59/100\n",
            "1/1 [==============================] - 0s 15ms/step - loss: 1.6690 - mae: 1.6690\n",
            "Epoch 60/100\n",
            "1/1 [==============================] - 0s 12ms/step - loss: 0.9647 - mae: 0.9647\n",
            "Epoch 61/100\n",
            "1/1 [==============================] - 0s 12ms/step - loss: 0.9992 - mae: 0.9992\n",
            "Epoch 62/100\n",
            "1/1 [==============================] - 0s 15ms/step - loss: 1.3874 - mae: 1.3874\n",
            "Epoch 63/100\n",
            "1/1 [==============================] - 0s 11ms/step - loss: 0.3223 - mae: 0.3223\n",
            "Epoch 64/100\n",
            "1/1 [==============================] - 0s 11ms/step - loss: 1.9636 - mae: 1.9636\n",
            "Epoch 65/100\n",
            "1/1 [==============================] - 0s 11ms/step - loss: 2.7138 - mae: 2.7138\n",
            "Epoch 66/100\n",
            "1/1 [==============================] - 0s 13ms/step - loss: 2.3663 - mae: 2.3663\n",
            "Epoch 67/100\n",
            "1/1 [==============================] - 0s 21ms/step - loss: 0.9073 - mae: 0.9073\n",
            "Epoch 68/100\n",
            "1/1 [==============================] - 0s 16ms/step - loss: 1.7451 - mae: 1.7451\n",
            "Epoch 69/100\n",
            "1/1 [==============================] - 0s 18ms/step - loss: 2.8191 - mae: 2.8191\n",
            "Epoch 70/100\n",
            "1/1 [==============================] - 0s 16ms/step - loss: 2.3212 - mae: 2.3212\n",
            "Epoch 71/100\n",
            "1/1 [==============================] - 0s 11ms/step - loss: 0.5754 - mae: 0.5754\n",
            "Epoch 72/100\n",
            "1/1 [==============================] - 0s 22ms/step - loss: 1.9547 - mae: 1.9547\n",
            "Epoch 73/100\n",
            "1/1 [==============================] - 0s 26ms/step - loss: 2.9473 - mae: 2.9473\n",
            "Epoch 74/100\n",
            "1/1 [==============================] - 0s 20ms/step - loss: 2.7983 - mae: 2.7983\n",
            "Epoch 75/100\n",
            "1/1 [==============================] - 0s 37ms/step - loss: 1.6211 - mae: 1.6211\n",
            "Epoch 76/100\n",
            "1/1 [==============================] - 0s 27ms/step - loss: 0.6237 - mae: 0.6237\n",
            "Epoch 77/100\n",
            "1/1 [==============================] - 0s 38ms/step - loss: 1.4604 - mae: 1.4604\n",
            "Epoch 78/100\n",
            "1/1 [==============================] - 0s 20ms/step - loss: 0.9253 - mae: 0.9253\n",
            "Epoch 79/100\n",
            "1/1 [==============================] - 0s 24ms/step - loss: 0.9239 - mae: 0.9239\n",
            "Epoch 80/100\n",
            "1/1 [==============================] - 0s 22ms/step - loss: 1.2384 - mae: 1.2384\n",
            "Epoch 81/100\n",
            "1/1 [==============================] - 0s 33ms/step - loss: 0.5784 - mae: 0.5784\n",
            "Epoch 82/100\n",
            "1/1 [==============================] - 0s 15ms/step - loss: 1.2707 - mae: 1.2707\n",
            "Epoch 83/100\n",
            "1/1 [==============================] - 0s 14ms/step - loss: 1.7144 - mae: 1.7144\n",
            "Epoch 84/100\n",
            "1/1 [==============================] - 0s 27ms/step - loss: 0.9139 - mae: 0.9139\n",
            "Epoch 85/100\n",
            "1/1 [==============================] - 0s 19ms/step - loss: 0.8185 - mae: 0.8185\n",
            "Epoch 86/100\n",
            "1/1 [==============================] - 0s 13ms/step - loss: 1.3030 - mae: 1.3030\n",
            "Epoch 87/100\n",
            "1/1 [==============================] - 0s 24ms/step - loss: 0.7456 - mae: 0.7456\n",
            "Epoch 88/100\n",
            "1/1 [==============================] - 0s 14ms/step - loss: 0.9226 - mae: 0.9226\n",
            "Epoch 89/100\n",
            "1/1 [==============================] - 0s 17ms/step - loss: 1.1694 - mae: 1.1694\n",
            "Epoch 90/100\n",
            "1/1 [==============================] - 0s 15ms/step - loss: 0.5075 - mae: 0.5075\n",
            "Epoch 91/100\n",
            "1/1 [==============================] - 0s 29ms/step - loss: 1.1671 - mae: 1.1671\n",
            "Epoch 92/100\n",
            "1/1 [==============================] - 0s 25ms/step - loss: 1.3032 - mae: 1.3032\n",
            "Epoch 93/100\n",
            "1/1 [==============================] - 0s 23ms/step - loss: 0.3771 - mae: 0.3771\n",
            "Epoch 94/100\n",
            "1/1 [==============================] - 0s 15ms/step - loss: 1.5123 - mae: 1.5123\n",
            "Epoch 95/100\n",
            "1/1 [==============================] - 0s 15ms/step - loss: 2.0236 - mae: 2.0236\n",
            "Epoch 96/100\n",
            "1/1 [==============================] - 0s 15ms/step - loss: 1.2351 - mae: 1.2351\n",
            "Epoch 97/100\n",
            "1/1 [==============================] - 0s 21ms/step - loss: 0.6099 - mae: 0.6099\n",
            "Epoch 98/100\n",
            "1/1 [==============================] - 0s 16ms/step - loss: 1.2560 - mae: 1.2560\n",
            "Epoch 99/100\n",
            "1/1 [==============================] - 0s 30ms/step - loss: 0.8111 - mae: 0.8111\n",
            "Epoch 100/100\n",
            "1/1 [==============================] - 0s 12ms/step - loss: 0.6743 - mae: 0.6743\n"
          ]
        },
        {
          "output_type": "execute_result",
          "data": {
            "text/plain": [
              "<keras.callbacks.History at 0x7f3b631ad290>"
            ]
          },
          "metadata": {},
          "execution_count": 9
        }
      ]
    },
    {
      "cell_type": "code",
      "source": [
        "X, Y"
      ],
      "metadata": {
        "colab": {
          "base_uri": "https://localhost:8080/"
        },
        "id": "kkVBtDLQIPjv",
        "outputId": "3ac14f7c-ecf6-4a87-e166-01c03355c6ec"
      },
      "execution_count": 10,
      "outputs": [
        {
          "output_type": "execute_result",
          "data": {
            "text/plain": [
              "(<tf.Tensor: shape=(8,), dtype=float32, numpy=array([-3.,  0.,  3.,  6.,  9., 12., 15., 18.], dtype=float32)>,\n",
              " <tf.Tensor: shape=(8,), dtype=float32, numpy=array([ 7., 10., 13., 16., 19., 22., 25., 28.], dtype=float32)>)"
            ]
          },
          "metadata": {},
          "execution_count": 10
        }
      ]
    },
    {
      "cell_type": "code",
      "source": [
        "# Try and make a prediction using our model\n",
        "Y_pred = model.predict([30.0])\n",
        "Y_pred"
      ],
      "metadata": {
        "colab": {
          "base_uri": "https://localhost:8080/"
        },
        "id": "0OqNEIvxIYiq",
        "outputId": "986683f5-4584-4640-b287-345ca18ed98c"
      },
      "execution_count": 11,
      "outputs": [
        {
          "output_type": "stream",
          "name": "stdout",
          "text": [
            "1/1 [==============================] - 0s 307ms/step\n"
          ]
        },
        {
          "output_type": "execute_result",
          "data": {
            "text/plain": [
              "array([[44.480392]], dtype=float32)"
            ]
          },
          "metadata": {},
          "execution_count": 11
        }
      ]
    },
    {
      "cell_type": "code",
      "source": [
        "# Rebuild the model (The model which improved together with Lecturer )\n",
        "# 1. Create the model (with extra hidden layer)\n",
        "model2 = tf.keras.Sequential([\n",
        " tf.keras.layers.Dense(60, activation=\"relu\"),\n",
        " tf.keras.layers.Dense(1)\n",
        "])\n",
        "# 2. Compile the model\n",
        "model2.compile(loss = tf.keras.losses.mae, \n",
        "              optimizer = tf.keras.optimizers.Adam(lr=0.01), \n",
        "              metrics = [\"mae\"])\n",
        "\n",
        "# 3. Fitting the model(this time will tranin for longer)\n",
        "model2.fit(tf.expand_dims(X, axis=-1), Y, epochs=100)"
      ],
      "metadata": {
        "colab": {
          "base_uri": "https://localhost:8080/"
        },
        "id": "GMp02yvaNwHj",
        "outputId": "24c5fb5f-89df-404c-9f48-9c84ae0f9d7e"
      },
      "execution_count": 12,
      "outputs": [
        {
          "output_type": "stream",
          "name": "stdout",
          "text": [
            "Epoch 1/100\n",
            "1/1 [==============================] - 1s 839ms/step - loss: 18.5432 - mae: 18.5432\n",
            "Epoch 2/100\n",
            "1/1 [==============================] - 0s 35ms/step - loss: 17.6504 - mae: 17.6504\n",
            "Epoch 3/100\n",
            "1/1 [==============================] - 0s 24ms/step - loss: 16.7638 - mae: 16.7638\n",
            "Epoch 4/100\n",
            "1/1 [==============================] - 0s 19ms/step - loss: 15.8829 - mae: 15.8829\n",
            "Epoch 5/100\n",
            "1/1 [==============================] - 0s 14ms/step - loss: 15.0072 - mae: 15.0072\n",
            "Epoch 6/100\n",
            "1/1 [==============================] - 0s 19ms/step - loss: 14.1362 - mae: 14.1362\n",
            "Epoch 7/100\n",
            "1/1 [==============================] - 0s 17ms/step - loss: 13.2705 - mae: 13.2705\n",
            "Epoch 8/100\n",
            "1/1 [==============================] - 0s 17ms/step - loss: 12.3954 - mae: 12.3954\n",
            "Epoch 9/100\n",
            "1/1 [==============================] - 0s 18ms/step - loss: 11.5171 - mae: 11.5171\n",
            "Epoch 10/100\n",
            "1/1 [==============================] - 0s 19ms/step - loss: 10.6282 - mae: 10.6282\n",
            "Epoch 11/100\n",
            "1/1 [==============================] - 0s 19ms/step - loss: 9.7291 - mae: 9.7291\n",
            "Epoch 12/100\n",
            "1/1 [==============================] - 0s 15ms/step - loss: 8.8147 - mae: 8.8147\n",
            "Epoch 13/100\n",
            "1/1 [==============================] - 0s 17ms/step - loss: 7.8888 - mae: 7.8888\n",
            "Epoch 14/100\n",
            "1/1 [==============================] - 0s 19ms/step - loss: 6.9417 - mae: 6.9417\n",
            "Epoch 15/100\n",
            "1/1 [==============================] - 0s 17ms/step - loss: 5.9710 - mae: 5.9710\n",
            "Epoch 16/100\n",
            "1/1 [==============================] - 0s 17ms/step - loss: 4.9727 - mae: 4.9727\n",
            "Epoch 17/100\n",
            "1/1 [==============================] - 0s 21ms/step - loss: 3.9494 - mae: 3.9494\n",
            "Epoch 18/100\n",
            "1/1 [==============================] - 0s 19ms/step - loss: 3.5203 - mae: 3.5203\n",
            "Epoch 19/100\n",
            "1/1 [==============================] - 0s 16ms/step - loss: 3.4528 - mae: 3.4528\n",
            "Epoch 20/100\n",
            "1/1 [==============================] - 0s 21ms/step - loss: 3.7307 - mae: 3.7307\n",
            "Epoch 21/100\n",
            "1/1 [==============================] - 0s 9ms/step - loss: 4.0198 - mae: 4.0198\n",
            "Epoch 22/100\n",
            "1/1 [==============================] - 0s 11ms/step - loss: 4.2455 - mae: 4.2455\n",
            "Epoch 23/100\n",
            "1/1 [==============================] - 0s 12ms/step - loss: 4.4988 - mae: 4.4988\n",
            "Epoch 24/100\n",
            "1/1 [==============================] - 0s 25ms/step - loss: 4.6554 - mae: 4.6554\n",
            "Epoch 25/100\n",
            "1/1 [==============================] - 0s 24ms/step - loss: 4.7007 - mae: 4.7007\n",
            "Epoch 26/100\n",
            "1/1 [==============================] - 0s 23ms/step - loss: 4.6503 - mae: 4.6503\n",
            "Epoch 27/100\n",
            "1/1 [==============================] - 0s 28ms/step - loss: 4.5183 - mae: 4.5183\n",
            "Epoch 28/100\n",
            "1/1 [==============================] - 0s 30ms/step - loss: 4.3172 - mae: 4.3172\n",
            "Epoch 29/100\n",
            "1/1 [==============================] - 0s 20ms/step - loss: 4.1008 - mae: 4.1008\n",
            "Epoch 30/100\n",
            "1/1 [==============================] - 0s 18ms/step - loss: 3.9230 - mae: 3.9230\n",
            "Epoch 31/100\n",
            "1/1 [==============================] - 0s 30ms/step - loss: 3.7340 - mae: 3.7340\n",
            "Epoch 32/100\n",
            "1/1 [==============================] - 0s 20ms/step - loss: 3.5360 - mae: 3.5360\n",
            "Epoch 33/100\n",
            "1/1 [==============================] - 0s 18ms/step - loss: 3.3309 - mae: 3.3309\n",
            "Epoch 34/100\n",
            "1/1 [==============================] - 0s 11ms/step - loss: 3.2246 - mae: 3.2246\n",
            "Epoch 35/100\n",
            "1/1 [==============================] - 0s 15ms/step - loss: 3.1752 - mae: 3.1752\n",
            "Epoch 36/100\n",
            "1/1 [==============================] - 0s 11ms/step - loss: 3.1761 - mae: 3.1761\n",
            "Epoch 37/100\n",
            "1/1 [==============================] - 0s 10ms/step - loss: 3.2584 - mae: 3.2584\n",
            "Epoch 38/100\n",
            "1/1 [==============================] - 0s 18ms/step - loss: 3.3385 - mae: 3.3385\n",
            "Epoch 39/100\n",
            "1/1 [==============================] - 0s 17ms/step - loss: 3.3707 - mae: 3.3707\n",
            "Epoch 40/100\n",
            "1/1 [==============================] - 0s 7ms/step - loss: 3.3607 - mae: 3.3607\n",
            "Epoch 41/100\n",
            "1/1 [==============================] - 0s 29ms/step - loss: 3.3127 - mae: 3.3127\n",
            "Epoch 42/100\n",
            "1/1 [==============================] - 0s 17ms/step - loss: 3.2673 - mae: 3.2673\n",
            "Epoch 43/100\n",
            "1/1 [==============================] - 0s 17ms/step - loss: 3.1913 - mae: 3.1913\n",
            "Epoch 44/100\n",
            "1/1 [==============================] - 0s 20ms/step - loss: 3.0865 - mae: 3.0865\n",
            "Epoch 45/100\n",
            "1/1 [==============================] - 0s 16ms/step - loss: 2.9621 - mae: 2.9621\n",
            "Epoch 46/100\n",
            "1/1 [==============================] - 0s 19ms/step - loss: 2.9350 - mae: 2.9350\n",
            "Epoch 47/100\n",
            "1/1 [==============================] - 0s 14ms/step - loss: 2.9087 - mae: 2.9087\n",
            "Epoch 48/100\n",
            "1/1 [==============================] - 0s 10ms/step - loss: 2.8890 - mae: 2.8890\n",
            "Epoch 49/100\n",
            "1/1 [==============================] - 0s 21ms/step - loss: 2.8616 - mae: 2.8616\n",
            "Epoch 50/100\n",
            "1/1 [==============================] - 0s 17ms/step - loss: 2.8380 - mae: 2.8380\n",
            "Epoch 51/100\n",
            "1/1 [==============================] - 0s 13ms/step - loss: 2.8316 - mae: 2.8316\n",
            "Epoch 52/100\n",
            "1/1 [==============================] - 0s 15ms/step - loss: 2.8285 - mae: 2.8285\n",
            "Epoch 53/100\n",
            "1/1 [==============================] - 0s 25ms/step - loss: 2.7982 - mae: 2.7982\n",
            "Epoch 54/100\n",
            "1/1 [==============================] - 0s 37ms/step - loss: 2.7454 - mae: 2.7454\n",
            "Epoch 55/100\n",
            "1/1 [==============================] - 0s 15ms/step - loss: 2.7105 - mae: 2.7105\n",
            "Epoch 56/100\n",
            "1/1 [==============================] - 0s 14ms/step - loss: 2.6823 - mae: 2.6823\n",
            "Epoch 57/100\n",
            "1/1 [==============================] - 0s 23ms/step - loss: 2.6605 - mae: 2.6605\n",
            "Epoch 58/100\n",
            "1/1 [==============================] - 0s 25ms/step - loss: 2.6271 - mae: 2.6271\n",
            "Epoch 59/100\n",
            "1/1 [==============================] - 0s 18ms/step - loss: 2.5955 - mae: 2.5955\n",
            "Epoch 60/100\n",
            "1/1 [==============================] - 0s 22ms/step - loss: 2.5623 - mae: 2.5623\n",
            "Epoch 61/100\n",
            "1/1 [==============================] - 0s 15ms/step - loss: 2.5195 - mae: 2.5195\n",
            "Epoch 62/100\n",
            "1/1 [==============================] - 0s 14ms/step - loss: 2.4735 - mae: 2.4735\n",
            "Epoch 63/100\n",
            "1/1 [==============================] - 0s 11ms/step - loss: 2.4366 - mae: 2.4366\n",
            "Epoch 64/100\n",
            "1/1 [==============================] - 0s 15ms/step - loss: 2.3950 - mae: 2.3950\n",
            "Epoch 65/100\n",
            "1/1 [==============================] - 0s 21ms/step - loss: 2.3473 - mae: 2.3473\n",
            "Epoch 66/100\n",
            "1/1 [==============================] - 0s 19ms/step - loss: 2.2956 - mae: 2.2956\n",
            "Epoch 67/100\n",
            "1/1 [==============================] - 0s 18ms/step - loss: 2.2264 - mae: 2.2264\n",
            "Epoch 68/100\n",
            "1/1 [==============================] - 0s 14ms/step - loss: 2.1515 - mae: 2.1515\n",
            "Epoch 69/100\n",
            "1/1 [==============================] - 0s 29ms/step - loss: 2.0869 - mae: 2.0869\n",
            "Epoch 70/100\n",
            "1/1 [==============================] - 0s 17ms/step - loss: 2.0268 - mae: 2.0268\n",
            "Epoch 71/100\n",
            "1/1 [==============================] - 0s 22ms/step - loss: 1.9502 - mae: 1.9502\n",
            "Epoch 72/100\n",
            "1/1 [==============================] - 0s 19ms/step - loss: 1.8843 - mae: 1.8843\n",
            "Epoch 73/100\n",
            "1/1 [==============================] - 0s 22ms/step - loss: 1.8270 - mae: 1.8270\n",
            "Epoch 74/100\n",
            "1/1 [==============================] - 0s 21ms/step - loss: 1.7659 - mae: 1.7659\n",
            "Epoch 75/100\n",
            "1/1 [==============================] - 0s 29ms/step - loss: 1.6841 - mae: 1.6841\n",
            "Epoch 76/100\n",
            "1/1 [==============================] - 0s 25ms/step - loss: 1.5892 - mae: 1.5892\n",
            "Epoch 77/100\n",
            "1/1 [==============================] - 0s 33ms/step - loss: 1.5209 - mae: 1.5209\n",
            "Epoch 78/100\n",
            "1/1 [==============================] - 0s 26ms/step - loss: 1.4595 - mae: 1.4595\n",
            "Epoch 79/100\n",
            "1/1 [==============================] - 0s 17ms/step - loss: 1.3863 - mae: 1.3863\n",
            "Epoch 80/100\n",
            "1/1 [==============================] - 0s 32ms/step - loss: 1.3175 - mae: 1.3175\n",
            "Epoch 81/100\n",
            "1/1 [==============================] - 0s 17ms/step - loss: 1.2200 - mae: 1.2200\n",
            "Epoch 82/100\n",
            "1/1 [==============================] - 0s 22ms/step - loss: 1.1137 - mae: 1.1137\n",
            "Epoch 83/100\n",
            "1/1 [==============================] - 0s 17ms/step - loss: 1.0449 - mae: 1.0449\n",
            "Epoch 84/100\n",
            "1/1 [==============================] - 0s 25ms/step - loss: 0.9726 - mae: 0.9726\n",
            "Epoch 85/100\n",
            "1/1 [==============================] - 0s 15ms/step - loss: 0.9007 - mae: 0.9007\n",
            "Epoch 86/100\n",
            "1/1 [==============================] - 0s 18ms/step - loss: 0.8058 - mae: 0.8058\n",
            "Epoch 87/100\n",
            "1/1 [==============================] - 0s 17ms/step - loss: 0.7357 - mae: 0.7357\n",
            "Epoch 88/100\n",
            "1/1 [==============================] - 0s 20ms/step - loss: 0.6671 - mae: 0.6671\n",
            "Epoch 89/100\n",
            "1/1 [==============================] - 0s 24ms/step - loss: 0.5711 - mae: 0.5711\n",
            "Epoch 90/100\n",
            "1/1 [==============================] - 0s 11ms/step - loss: 0.5076 - mae: 0.5076\n",
            "Epoch 91/100\n",
            "1/1 [==============================] - 0s 11ms/step - loss: 0.3864 - mae: 0.3864\n",
            "Epoch 92/100\n",
            "1/1 [==============================] - 0s 16ms/step - loss: 0.2967 - mae: 0.2967\n",
            "Epoch 93/100\n",
            "1/1 [==============================] - 0s 27ms/step - loss: 0.3420 - mae: 0.3420\n",
            "Epoch 94/100\n",
            "1/1 [==============================] - 0s 25ms/step - loss: 0.2492 - mae: 0.2492\n",
            "Epoch 95/100\n",
            "1/1 [==============================] - 0s 28ms/step - loss: 0.5005 - mae: 0.5005\n",
            "Epoch 96/100\n",
            "1/1 [==============================] - 0s 13ms/step - loss: 0.4003 - mae: 0.4003\n",
            "Epoch 97/100\n",
            "1/1 [==============================] - 0s 13ms/step - loss: 0.4078 - mae: 0.4078\n",
            "Epoch 98/100\n",
            "1/1 [==============================] - 0s 14ms/step - loss: 0.3436 - mae: 0.3436\n",
            "Epoch 99/100\n",
            "1/1 [==============================] - 0s 38ms/step - loss: 0.3723 - mae: 0.3723\n",
            "Epoch 100/100\n",
            "1/1 [==============================] - 0s 32ms/step - loss: 0.3916 - mae: 0.3916\n"
          ]
        },
        {
          "output_type": "execute_result",
          "data": {
            "text/plain": [
              "<keras.callbacks.History at 0x7f3b62b56450>"
            ]
          },
          "metadata": {},
          "execution_count": 12
        }
      ]
    },
    {
      "cell_type": "code",
      "source": [
        "# Try and make a prediction using our model\n",
        "Y_pred = model2.predict([30.0])\n",
        "Y_pred"
      ],
      "metadata": {
        "colab": {
          "base_uri": "https://localhost:8080/"
        },
        "id": "IgCJMJ7CSi3F",
        "outputId": "0167af8b-3ffb-43be-b095-3886b6558ac9"
      },
      "execution_count": 13,
      "outputs": [
        {
          "output_type": "stream",
          "name": "stdout",
          "text": [
            "1/1 [==============================] - 0s 140ms/step\n"
          ]
        },
        {
          "output_type": "execute_result",
          "data": {
            "text/plain": [
              "array([[41.824448]], dtype=float32)"
            ]
          },
          "metadata": {},
          "execution_count": 13
        }
      ]
    },
    {
      "cell_type": "markdown",
      "source": [
        "#### Common ways to improve a deep model:\n",
        "* Adding layers\n",
        "* Increase the number of hidden (Dense) units\n",
        "* Change the activation functions\n",
        "* Change the optimization function\n",
        "* Change the learning rate\n",
        "* Fitting on more Data\n",
        "* Fitting for longer (increasing epochs)"
      ],
      "metadata": {
        "id": "oPtC2_hlUw8G"
      }
    },
    {
      "cell_type": "markdown",
      "source": [
        "## Evaluating a Model\n",
        "\n",
        "In practice, typical workflow we'll go through when building neural network is:\n",
        "```\n",
        "Build a model -> fit it -> evaluate it -> tweak a model -> fit it -> evaluate it -> tweak a model ...\n",
        "```"
      ],
      "metadata": {
        "id": "eDs07bt-VGIn"
      }
    },
    {
      "cell_type": "markdown",
      "source": [
        "When it comes to evaluation .. there are 3 words we should memorize:\n",
        "\n",
        "\"Visualize, visualize, visualize\"\n",
        "\n",
        "Ideas to Visualize:\n",
        "* The data - what data are working with? what does it looks like?\n",
        "* The model itself - what does our model looks like?\n",
        "* The training of a model - how does a model perform while it learns?\n",
        "* The predictions of the model - how do the predictions of a model line up against the ground truth (like the original labels)?"
      ],
      "metadata": {
        "id": "1WrUyD2qakge"
      }
    },
    {
      "cell_type": "code",
      "source": [
        "# Make a bigger dataset\n",
        "X = tf.range(-100, 100, 4)\n",
        "\n",
        "# Make labels for the dataset\n",
        "y = X +10\n",
        "X, y"
      ],
      "metadata": {
        "colab": {
          "base_uri": "https://localhost:8080/"
        },
        "id": "9vk4KCsVmS5E",
        "outputId": "83d4aa18-7132-446f-fa22-f3d2e09d048e"
      },
      "execution_count": 14,
      "outputs": [
        {
          "output_type": "execute_result",
          "data": {
            "text/plain": [
              "(<tf.Tensor: shape=(50,), dtype=int32, numpy=\n",
              " array([-100,  -96,  -92,  -88,  -84,  -80,  -76,  -72,  -68,  -64,  -60,\n",
              "         -56,  -52,  -48,  -44,  -40,  -36,  -32,  -28,  -24,  -20,  -16,\n",
              "         -12,   -8,   -4,    0,    4,    8,   12,   16,   20,   24,   28,\n",
              "          32,   36,   40,   44,   48,   52,   56,   60,   64,   68,   72,\n",
              "          76,   80,   84,   88,   92,   96], dtype=int32)>,\n",
              " <tf.Tensor: shape=(50,), dtype=int32, numpy=\n",
              " array([-90, -86, -82, -78, -74, -70, -66, -62, -58, -54, -50, -46, -42,\n",
              "        -38, -34, -30, -26, -22, -18, -14, -10,  -6,  -2,   2,   6,  10,\n",
              "         14,  18,  22,  26,  30,  34,  38,  42,  46,  50,  54,  58,  62,\n",
              "         66,  70,  74,  78,  82,  86,  90,  94,  98, 102, 106], dtype=int32)>)"
            ]
          },
          "metadata": {},
          "execution_count": 14
        }
      ]
    },
    {
      "cell_type": "code",
      "source": [
        "# Visualize the data\n",
        "import matplotlib.pyplot as plt\n",
        "plt.scatter (X,y)"
      ],
      "metadata": {
        "colab": {
          "base_uri": "https://localhost:8080/",
          "height": 0
        },
        "id": "3XVXhLu2maK5",
        "outputId": "910c0302-8f60-49df-d6a4-0cf4dfb366b7"
      },
      "execution_count": 15,
      "outputs": [
        {
          "output_type": "execute_result",
          "data": {
            "text/plain": [
              "<matplotlib.collections.PathCollection at 0x7f3b622386d0>"
            ]
          },
          "metadata": {},
          "execution_count": 15
        },
        {
          "output_type": "display_data",
          "data": {
            "text/plain": [
              "<Figure size 432x288 with 1 Axes>"
            ],
            "image/png": "[encoded data removed]"
          },
          "metadata": {
            "needs_background": "light"
          }
        }
      ]
    },
    {
      "cell_type": "markdown",
      "source": [
        "### The 3 sets ...\n",
        "* Training Set - the model leans from this data, which is typically 70-80% of the total data we have available.\n",
        "* Validation Set - the model gets tuned on this data, which is typically 10-15% of the data available.\n",
        "* Test Set - the model gets evaluated on this data to test what is has learned, this set is typically 10-15% of the total data available."
      ],
      "metadata": {
        "id": "8LkILxF6nzCe"
      }
    },
    {
      "cell_type": "code",
      "source": [
        "# Check the length of the dataset\n",
        "len(X)"
      ],
      "metadata": {
        "colab": {
          "base_uri": "https://localhost:8080/"
        },
        "id": "Hbc2snn1n5he",
        "outputId": "806a2fd2-da53-4213-b996-5e3fcb02ac7a"
      },
      "execution_count": 16,
      "outputs": [
        {
          "output_type": "execute_result",
          "data": {
            "text/plain": [
              "50"
            ]
          },
          "metadata": {},
          "execution_count": 16
        }
      ]
    },
    {
      "cell_type": "code",
      "source": [
        "# Split the data into train and test sets\n",
        "X_train = X[:40]# train_data : first 40 are training samples (80% of the data)\n",
        "y_train = y[:40]\n",
        "\n",
        "X_test = X[40:] # test_data : last 10 are testing samples (20% of the data)\n",
        "y_test = y[40:]\n",
        "\n",
        "len(X_train), len(X_test), len(y_train), len(y_test)"
      ],
      "metadata": {
        "colab": {
          "base_uri": "https://localhost:8080/"
        },
        "id": "d7niJqwayGJB",
        "outputId": "801b4c3c-dacd-4a25-b940-98bd026653e5"
      },
      "execution_count": 17,
      "outputs": [
        {
          "output_type": "execute_result",
          "data": {
            "text/plain": [
              "(40, 10, 40, 10)"
            ]
          },
          "metadata": {},
          "execution_count": 17
        }
      ]
    },
    {
      "cell_type": "markdown",
      "source": [
        "### Visualing the data\n",
        "Now we've got data in training and test sets, so visualize it again!"
      ],
      "metadata": {
        "id": "t1P15Sq81l3g"
      }
    },
    {
      "cell_type": "code",
      "source": [
        "plt.figure(figsize=(10,7))\n",
        "# Plot training data in blue\n",
        "plt.scatter(X_train, y_train, c=\"b\", label=\"Training data\")\n",
        "# Plot test data in green\n",
        "plt.scatter(X_test, y_test, c=\"r\", label=\"Testing data\")\n",
        "# Show a legend\n",
        "plt.legend();"
      ],
      "metadata": {
        "colab": {
          "base_uri": "https://localhost:8080/",
          "height": 0
        },
        "id": "DsLr_xmw37CA",
        "outputId": "792a9f66-4017-4caf-87fc-6ca473ccae9a"
      },
      "execution_count": 18,
      "outputs": [
        {
          "output_type": "display_data",
          "data": {
            "text/plain": [
              "<Figure size 720x504 with 1 Axes>"
            ],
            "image/png": "[encoded data removed]"
          },
          "metadata": {
            "needs_background": "light"
          }
        }
      ]
    },
    {
      "cell_type": "code",
      "source": [
        "# Build a neural network for data\n",
        "model3 = tf.keras.Sequential([\n",
        " tf.keras.layers.Dense(70, activation=\"relu\"),\n",
        " tf.keras.layers.Dense(1)\n",
        "])\n",
        "# 2. Compile the model\n",
        "model3.compile(loss = tf.keras.losses.mae, \n",
        "              optimizer = tf.keras.optimizers.Adam(lr=0.01), \n",
        "              metrics = [\"mae\"])\n",
        "\n",
        "# 3. Fitting the model(this time will tranin for longer)\n",
        "model3.fit(tf.expand_dims(X_train, axis=-1), y_train, epochs=100)"
      ],
      "metadata": {
        "colab": {
          "base_uri": "https://localhost:8080/"
        },
        "id": "HPNqiL7eIvBU",
        "outputId": "3ae3c3cf-644b-4c71-f7c4-02c73b5cd205"
      },
      "execution_count": 19,
      "outputs": [
        {
          "output_type": "stream",
          "name": "stdout",
          "text": [
            "Epoch 1/100\n",
            "2/2 [==============================] - 1s 17ms/step - loss: 36.6905 - mae: 36.6905\n",
            "Epoch 2/100\n",
            "2/2 [==============================] - 0s 6ms/step - loss: 28.7404 - mae: 28.7404\n",
            "Epoch 3/100\n",
            "2/2 [==============================] - 0s 7ms/step - loss: 21.3529 - mae: 21.3529\n",
            "Epoch 4/100\n",
            "2/2 [==============================] - 0s 8ms/step - loss: 14.1410 - mae: 14.1410\n",
            "Epoch 5/100\n",
            "2/2 [==============================] - 0s 9ms/step - loss: 8.4305 - mae: 8.4305\n",
            "Epoch 6/100\n",
            "2/2 [==============================] - 0s 6ms/step - loss: 8.7282 - mae: 8.7282\n",
            "Epoch 7/100\n",
            "2/2 [==============================] - 0s 8ms/step - loss: 8.2932 - mae: 8.2932\n",
            "Epoch 8/100\n",
            "2/2 [==============================] - 0s 6ms/step - loss: 7.8997 - mae: 7.8997\n",
            "Epoch 9/100\n",
            "2/2 [==============================] - 0s 16ms/step - loss: 6.5283 - mae: 6.5283\n",
            "Epoch 10/100\n",
            "2/2 [==============================] - 0s 9ms/step - loss: 6.7153 - mae: 6.7153\n",
            "Epoch 11/100\n",
            "2/2 [==============================] - 0s 9ms/step - loss: 7.4011 - mae: 7.4011\n",
            "Epoch 12/100\n",
            "2/2 [==============================] - 0s 5ms/step - loss: 6.9130 - mae: 6.9130\n",
            "Epoch 13/100\n",
            "2/2 [==============================] - 0s 10ms/step - loss: 5.8963 - mae: 5.8963\n",
            "Epoch 14/100\n",
            "2/2 [==============================] - 0s 9ms/step - loss: 5.0263 - mae: 5.0263\n",
            "Epoch 15/100\n",
            "2/2 [==============================] - 0s 11ms/step - loss: 4.6323 - mae: 4.6323\n",
            "Epoch 16/100\n",
            "2/2 [==============================] - 0s 14ms/step - loss: 4.9248 - mae: 4.9248\n",
            "Epoch 17/100\n",
            "2/2 [==============================] - 0s 5ms/step - loss: 5.1138 - mae: 5.1138\n",
            "Epoch 18/100\n",
            "2/2 [==============================] - 0s 9ms/step - loss: 4.2182 - mae: 4.2182\n",
            "Epoch 19/100\n",
            "2/2 [==============================] - 0s 8ms/step - loss: 3.9646 - mae: 3.9646\n",
            "Epoch 20/100\n",
            "2/2 [==============================] - 0s 10ms/step - loss: 4.2172 - mae: 4.2172\n",
            "Epoch 21/100\n",
            "2/2 [==============================] - 0s 14ms/step - loss: 4.2938 - mae: 4.2938\n",
            "Epoch 22/100\n",
            "2/2 [==============================] - 0s 8ms/step - loss: 4.1549 - mae: 4.1549\n",
            "Epoch 23/100\n",
            "2/2 [==============================] - 0s 21ms/step - loss: 3.8518 - mae: 3.8518\n",
            "Epoch 24/100\n",
            "2/2 [==============================] - 0s 7ms/step - loss: 3.7960 - mae: 3.7960\n",
            "Epoch 25/100\n",
            "2/2 [==============================] - 0s 6ms/step - loss: 3.9252 - mae: 3.9252\n",
            "Epoch 26/100\n",
            "2/2 [==============================] - 0s 14ms/step - loss: 3.7771 - mae: 3.7771\n",
            "Epoch 27/100\n",
            "2/2 [==============================] - 0s 6ms/step - loss: 3.7239 - mae: 3.7239\n",
            "Epoch 28/100\n",
            "2/2 [==============================] - 0s 7ms/step - loss: 3.7265 - mae: 3.7265\n",
            "Epoch 29/100\n",
            "2/2 [==============================] - 0s 19ms/step - loss: 3.7703 - mae: 3.7703\n",
            "Epoch 30/100\n",
            "2/2 [==============================] - 0s 14ms/step - loss: 3.6845 - mae: 3.6845\n",
            "Epoch 31/100\n",
            "2/2 [==============================] - 0s 13ms/step - loss: 3.7340 - mae: 3.7340\n",
            "Epoch 32/100\n",
            "2/2 [==============================] - 0s 10ms/step - loss: 3.9205 - mae: 3.9205\n",
            "Epoch 33/100\n",
            "2/2 [==============================] - 0s 8ms/step - loss: 3.6329 - mae: 3.6329\n",
            "Epoch 34/100\n",
            "2/2 [==============================] - 0s 10ms/step - loss: 3.5853 - mae: 3.5853\n",
            "Epoch 35/100\n",
            "2/2 [==============================] - 0s 6ms/step - loss: 3.7873 - mae: 3.7873\n",
            "Epoch 36/100\n",
            "2/2 [==============================] - 0s 14ms/step - loss: 3.7723 - mae: 3.7723\n",
            "Epoch 37/100\n",
            "2/2 [==============================] - 0s 16ms/step - loss: 3.5361 - mae: 3.5361\n",
            "Epoch 38/100\n",
            "2/2 [==============================] - 0s 12ms/step - loss: 3.3906 - mae: 3.3906\n",
            "Epoch 39/100\n",
            "2/2 [==============================] - 0s 17ms/step - loss: 3.6047 - mae: 3.6047\n",
            "Epoch 40/100\n",
            "2/2 [==============================] - 0s 15ms/step - loss: 3.5040 - mae: 3.5040\n",
            "Epoch 41/100\n",
            "2/2 [==============================] - 0s 11ms/step - loss: 3.3838 - mae: 3.3838\n",
            "Epoch 42/100\n",
            "2/2 [==============================] - 0s 10ms/step - loss: 3.3270 - mae: 3.3270\n",
            "Epoch 43/100\n",
            "2/2 [==============================] - 0s 11ms/step - loss: 3.3380 - mae: 3.3380\n",
            "Epoch 44/100\n",
            "2/2 [==============================] - 0s 6ms/step - loss: 3.2987 - mae: 3.2987\n",
            "Epoch 45/100\n",
            "2/2 [==============================] - 0s 10ms/step - loss: 3.1777 - mae: 3.1777\n",
            "Epoch 46/100\n",
            "2/2 [==============================] - 0s 4ms/step - loss: 3.1277 - mae: 3.1277\n",
            "Epoch 47/100\n",
            "2/2 [==============================] - 0s 14ms/step - loss: 3.2081 - mae: 3.2081\n",
            "Epoch 48/100\n",
            "2/2 [==============================] - 0s 12ms/step - loss: 3.1580 - mae: 3.1580\n",
            "Epoch 49/100\n",
            "2/2 [==============================] - 0s 14ms/step - loss: 3.0465 - mae: 3.0465\n",
            "Epoch 50/100\n",
            "2/2 [==============================] - 0s 7ms/step - loss: 3.1147 - mae: 3.1147\n",
            "Epoch 51/100\n",
            "2/2 [==============================] - 0s 8ms/step - loss: 3.3351 - mae: 3.3351\n",
            "Epoch 52/100\n",
            "2/2 [==============================] - 0s 15ms/step - loss: 3.1288 - mae: 3.1288\n",
            "Epoch 53/100\n",
            "2/2 [==============================] - 0s 7ms/step - loss: 2.9170 - mae: 2.9170\n",
            "Epoch 54/100\n",
            "2/2 [==============================] - 0s 14ms/step - loss: 3.0766 - mae: 3.0766\n",
            "Epoch 55/100\n",
            "2/2 [==============================] - 0s 13ms/step - loss: 3.0675 - mae: 3.0675\n",
            "Epoch 56/100\n",
            "2/2 [==============================] - 0s 7ms/step - loss: 2.8221 - mae: 2.8221\n",
            "Epoch 57/100\n",
            "2/2 [==============================] - 0s 6ms/step - loss: 2.8826 - mae: 2.8826\n",
            "Epoch 58/100\n",
            "2/2 [==============================] - 0s 7ms/step - loss: 2.9742 - mae: 2.9742\n",
            "Epoch 59/100\n",
            "2/2 [==============================] - 0s 11ms/step - loss: 2.6162 - mae: 2.6162\n",
            "Epoch 60/100\n",
            "2/2 [==============================] - 0s 7ms/step - loss: 2.8421 - mae: 2.8421\n",
            "Epoch 61/100\n",
            "2/2 [==============================] - 0s 8ms/step - loss: 2.9726 - mae: 2.9726\n",
            "Epoch 62/100\n",
            "2/2 [==============================] - 0s 11ms/step - loss: 2.6219 - mae: 2.6219\n",
            "Epoch 63/100\n",
            "2/2 [==============================] - 0s 7ms/step - loss: 2.6253 - mae: 2.6253\n",
            "Epoch 64/100\n",
            "2/2 [==============================] - 0s 8ms/step - loss: 2.6433 - mae: 2.6433\n",
            "Epoch 65/100\n",
            "2/2 [==============================] - 0s 15ms/step - loss: 2.3866 - mae: 2.3866\n",
            "Epoch 66/100\n",
            "2/2 [==============================] - 0s 7ms/step - loss: 2.6590 - mae: 2.6590\n",
            "Epoch 67/100\n",
            "2/2 [==============================] - 0s 8ms/step - loss: 2.6770 - mae: 2.6770\n",
            "Epoch 68/100\n",
            "2/2 [==============================] - 0s 12ms/step - loss: 2.3442 - mae: 2.3442\n",
            "Epoch 69/100\n",
            "2/2 [==============================] - 0s 5ms/step - loss: 2.2796 - mae: 2.2796\n",
            "Epoch 70/100\n",
            "2/2 [==============================] - 0s 10ms/step - loss: 2.3292 - mae: 2.3292\n",
            "Epoch 71/100\n",
            "2/2 [==============================] - 0s 11ms/step - loss: 2.2253 - mae: 2.2253\n",
            "Epoch 72/100\n",
            "2/2 [==============================] - 0s 30ms/step - loss: 2.0030 - mae: 2.0030\n",
            "Epoch 73/100\n",
            "2/2 [==============================] - 0s 13ms/step - loss: 2.0937 - mae: 2.0937\n",
            "Epoch 74/100\n",
            "2/2 [==============================] - 0s 11ms/step - loss: 1.8312 - mae: 1.8312\n",
            "Epoch 75/100\n",
            "2/2 [==============================] - 0s 10ms/step - loss: 1.8360 - mae: 1.8360\n",
            "Epoch 76/100\n",
            "2/2 [==============================] - 0s 9ms/step - loss: 2.0579 - mae: 2.0579\n",
            "Epoch 77/100\n",
            "2/2 [==============================] - 0s 16ms/step - loss: 1.8652 - mae: 1.8652\n",
            "Epoch 78/100\n",
            "2/2 [==============================] - 0s 15ms/step - loss: 2.0858 - mae: 2.0858\n",
            "Epoch 79/100\n",
            "2/2 [==============================] - 0s 6ms/step - loss: 1.5663 - mae: 1.5663\n",
            "Epoch 80/100\n",
            "2/2 [==============================] - 0s 8ms/step - loss: 1.7763 - mae: 1.7763\n",
            "Epoch 81/100\n",
            "2/2 [==============================] - 0s 19ms/step - loss: 1.2893 - mae: 1.2893\n",
            "Epoch 82/100\n",
            "2/2 [==============================] - 0s 6ms/step - loss: 1.7020 - mae: 1.7020\n",
            "Epoch 83/100\n",
            "2/2 [==============================] - 0s 15ms/step - loss: 1.0025 - mae: 1.0025\n",
            "Epoch 84/100\n",
            "2/2 [==============================] - 0s 10ms/step - loss: 1.4350 - mae: 1.4350\n",
            "Epoch 85/100\n",
            "2/2 [==============================] - 0s 9ms/step - loss: 1.0588 - mae: 1.0588\n",
            "Epoch 86/100\n",
            "2/2 [==============================] - 0s 5ms/step - loss: 1.1319 - mae: 1.1319\n",
            "Epoch 87/100\n",
            "2/2 [==============================] - 0s 21ms/step - loss: 0.7691 - mae: 0.7691\n",
            "Epoch 88/100\n",
            "2/2 [==============================] - 0s 17ms/step - loss: 1.0726 - mae: 1.0726\n",
            "Epoch 89/100\n",
            "2/2 [==============================] - 0s 13ms/step - loss: 0.7874 - mae: 0.7874\n",
            "Epoch 90/100\n",
            "2/2 [==============================] - 0s 22ms/step - loss: 0.7053 - mae: 0.7053\n",
            "Epoch 91/100\n",
            "2/2 [==============================] - 0s 10ms/step - loss: 0.7736 - mae: 0.7736\n",
            "Epoch 92/100\n",
            "2/2 [==============================] - 0s 10ms/step - loss: 0.7783 - mae: 0.7783\n",
            "Epoch 93/100\n",
            "2/2 [==============================] - 0s 16ms/step - loss: 1.0358 - mae: 1.0358\n",
            "Epoch 94/100\n",
            "2/2 [==============================] - 0s 6ms/step - loss: 0.5744 - mae: 0.5744\n",
            "Epoch 95/100\n",
            "2/2 [==============================] - 0s 6ms/step - loss: 0.7167 - mae: 0.7167\n",
            "Epoch 96/100\n",
            "2/2 [==============================] - 0s 6ms/step - loss: 0.4262 - mae: 0.4262\n",
            "Epoch 97/100\n",
            "2/2 [==============================] - 0s 21ms/step - loss: 0.4212 - mae: 0.4212\n",
            "Epoch 98/100\n",
            "2/2 [==============================] - 0s 15ms/step - loss: 0.5851 - mae: 0.5851\n",
            "Epoch 99/100\n",
            "2/2 [==============================] - 0s 6ms/step - loss: 0.6106 - mae: 0.6106\n",
            "Epoch 100/100\n",
            "2/2 [==============================] - 0s 35ms/step - loss: 0.4183 - mae: 0.4183\n"
          ]
        },
        {
          "output_type": "execute_result",
          "data": {
            "text/plain": [
              "<keras.callbacks.History at 0x7f3b5ff649d0>"
            ]
          },
          "metadata": {},
          "execution_count": 19
        }
      ]
    },
    {
      "cell_type": "code",
      "source": [
        "#model3.build(input_shape=)\n",
        "model3.summary()"
      ],
      "metadata": {
        "colab": {
          "base_uri": "https://localhost:8080/"
        },
        "id": "EWP_B06ZJ144",
        "outputId": "044f2864-8130-4c61-a9af-1f7073801bf4"
      },
      "execution_count": 20,
      "outputs": [
        {
          "output_type": "stream",
          "name": "stdout",
          "text": [
            "Model: \"sequential_3\"\n",
            "_________________________________________________________________\n",
            " Layer (type)                Output Shape              Param #   \n",
            "=================================================================\n",
            " dense_5 (Dense)             (None, 70)                140       \n",
            "                                                                 \n",
            " dense_6 (Dense)             (None, 1)                 71        \n",
            "                                                                 \n",
            "=================================================================\n",
            "Total params: 211\n",
            "Trainable params: 211\n",
            "Non-trainable params: 0\n",
            "_________________________________________________________________\n"
          ]
        }
      ]
    },
    {
      "cell_type": "code",
      "source": [
        "# Build a neural network for data\n",
        "# Create a model which builds automatically by defining the input_shape argument\n",
        "\n",
        "tf.random.set_seed(42)\n",
        "# Create a model \n",
        "model4 = tf.keras.Sequential([\n",
        " #tf.keras.layers.Dense(60, activation=\"relu\"),\n",
        " tf.keras.layers.Dense(100, input_shape=[1], name=\"input_layer\"),\n",
        " tf.keras.layers.Dense(1, name=\"output_layer\")\n",
        "], name=\"MODEL_1\")\n",
        "# 2. Compile the model\n",
        "model4.compile(loss = tf.keras.losses.mae, \n",
        "              optimizer = tf.keras.optimizers.Adam(lr=0.01), \n",
        "              metrics = [\"mae\"])\n",
        "\n",
        "# 3. Fitting the model(this time will tranin for longer)\n",
        "#model3.fit(tf.expand_dims(X_train, axis=-1), y_train, epochs=100)"
      ],
      "metadata": {
        "id": "075265e3J4Sx"
      },
      "execution_count": 21,
      "outputs": []
    },
    {
      "cell_type": "code",
      "source": [
        "model4.summary()"
      ],
      "metadata": {
        "colab": {
          "base_uri": "https://localhost:8080/"
        },
        "id": "rbBcb0PPRJAP",
        "outputId": "ff6eb27b-44d7-42b7-904e-5338a5a6ed8f"
      },
      "execution_count": 22,
      "outputs": [
        {
          "output_type": "stream",
          "name": "stdout",
          "text": [
            "Model: \"MODEL_1\"\n",
            "_________________________________________________________________\n",
            " Layer (type)                Output Shape              Param #   \n",
            "=================================================================\n",
            " input_layer (Dense)         (None, 100)               200       \n",
            "                                                                 \n",
            " output_layer (Dense)        (None, 1)                 101       \n",
            "                                                                 \n",
            "=================================================================\n",
            "Total params: 301\n",
            "Trainable params: 301\n",
            "Non-trainable params: 0\n",
            "_________________________________________________________________\n"
          ]
        }
      ]
    },
    {
      "cell_type": "markdown",
      "source": [
        "* Total params - total number of parameters in the model.\n",
        "* Trainable parameters - thest are the parameters (patterns) the model can update as it trains.\n",
        "* Non-trainable params - these parameters aren't updated during training (this is typical when you bring in already learn patterns or parameters from other models during **transfer learning**)"
      ],
      "metadata": {
        "id": "DEId0wbsh6nh"
      }
    },
    {
      "cell_type": "code",
      "source": [
        "model4.fit(tf.expand_dims(X_train, axis=-1), y_train, epochs=100, verbose=1)"
      ],
      "metadata": {
        "colab": {
          "base_uri": "https://localhost:8080/"
        },
        "id": "ciHa9zMhibLp",
        "outputId": "4388da8c-1ee8-4079-c8ca-57af81cbf79f"
      },
      "execution_count": 23,
      "outputs": [
        {
          "output_type": "stream",
          "name": "stdout",
          "text": [
            "Epoch 1/100\n",
            "2/2 [==============================] - 1s 11ms/step - loss: 33.6169 - mae: 33.6169\n",
            "Epoch 2/100\n",
            "2/2 [==============================] - 0s 7ms/step - loss: 14.2911 - mae: 14.2911\n",
            "Epoch 3/100\n",
            "2/2 [==============================] - 0s 14ms/step - loss: 11.1352 - mae: 11.1352\n",
            "Epoch 4/100\n",
            "2/2 [==============================] - 0s 6ms/step - loss: 13.5091 - mae: 13.5091\n",
            "Epoch 5/100\n",
            "2/2 [==============================] - 0s 8ms/step - loss: 12.7146 - mae: 12.7146\n",
            "Epoch 6/100\n",
            "2/2 [==============================] - 0s 6ms/step - loss: 9.9578 - mae: 9.9578\n",
            "Epoch 7/100\n",
            "2/2 [==============================] - 0s 13ms/step - loss: 7.0398 - mae: 7.0398\n",
            "Epoch 8/100\n",
            "2/2 [==============================] - 0s 10ms/step - loss: 9.6287 - mae: 9.6287\n",
            "Epoch 9/100\n",
            "2/2 [==============================] - 0s 10ms/step - loss: 7.8614 - mae: 7.8614\n",
            "Epoch 10/100\n",
            "2/2 [==============================] - 0s 10ms/step - loss: 7.4162 - mae: 7.4162\n",
            "Epoch 11/100\n",
            "2/2 [==============================] - 0s 21ms/step - loss: 9.2570 - mae: 9.2570\n",
            "Epoch 12/100\n",
            "2/2 [==============================] - 0s 11ms/step - loss: 8.5736 - mae: 8.5736\n",
            "Epoch 13/100\n",
            "2/2 [==============================] - 0s 24ms/step - loss: 6.5680 - mae: 6.5680\n",
            "Epoch 14/100\n",
            "2/2 [==============================] - 0s 6ms/step - loss: 6.7756 - mae: 6.7756\n",
            "Epoch 15/100\n",
            "2/2 [==============================] - 0s 6ms/step - loss: 5.8933 - mae: 5.8933\n",
            "Epoch 16/100\n",
            "2/2 [==============================] - 0s 28ms/step - loss: 6.2237 - mae: 6.2237\n",
            "Epoch 17/100\n",
            "2/2 [==============================] - 0s 8ms/step - loss: 5.9114 - mae: 5.9114\n",
            "Epoch 18/100\n",
            "2/2 [==============================] - 0s 6ms/step - loss: 5.2921 - mae: 5.2921\n",
            "Epoch 19/100\n",
            "2/2 [==============================] - 0s 18ms/step - loss: 5.0353 - mae: 5.0353\n",
            "Epoch 20/100\n",
            "2/2 [==============================] - 0s 22ms/step - loss: 4.9593 - mae: 4.9593\n",
            "Epoch 21/100\n",
            "2/2 [==============================] - 0s 7ms/step - loss: 4.6130 - mae: 4.6130\n",
            "Epoch 22/100\n",
            "2/2 [==============================] - 0s 31ms/step - loss: 4.4124 - mae: 4.4124\n",
            "Epoch 23/100\n",
            "2/2 [==============================] - 0s 22ms/step - loss: 4.5725 - mae: 4.5725\n",
            "Epoch 24/100\n",
            "2/2 [==============================] - 0s 9ms/step - loss: 4.1846 - mae: 4.1846\n",
            "Epoch 25/100\n",
            "2/2 [==============================] - 0s 7ms/step - loss: 3.9231 - mae: 3.9231\n",
            "Epoch 26/100\n",
            "2/2 [==============================] - 0s 13ms/step - loss: 3.6278 - mae: 3.6278\n",
            "Epoch 27/100\n",
            "2/2 [==============================] - 0s 12ms/step - loss: 3.1520 - mae: 3.1520\n",
            "Epoch 28/100\n",
            "2/2 [==============================] - 0s 16ms/step - loss: 2.9215 - mae: 2.9215\n",
            "Epoch 29/100\n",
            "2/2 [==============================] - 0s 20ms/step - loss: 2.6341 - mae: 2.6341\n",
            "Epoch 30/100\n",
            "2/2 [==============================] - 0s 10ms/step - loss: 2.2203 - mae: 2.2203\n",
            "Epoch 31/100\n",
            "2/2 [==============================] - 0s 17ms/step - loss: 2.5492 - mae: 2.5492\n",
            "Epoch 32/100\n",
            "2/2 [==============================] - 0s 19ms/step - loss: 1.7652 - mae: 1.7652\n",
            "Epoch 33/100\n",
            "2/2 [==============================] - 0s 14ms/step - loss: 1.5202 - mae: 1.5202\n",
            "Epoch 34/100\n",
            "2/2 [==============================] - 0s 9ms/step - loss: 0.8463 - mae: 0.8463\n",
            "Epoch 35/100\n",
            "2/2 [==============================] - 0s 8ms/step - loss: 0.8707 - mae: 0.8707\n",
            "Epoch 36/100\n",
            "2/2 [==============================] - 0s 13ms/step - loss: 0.5343 - mae: 0.5343\n",
            "Epoch 37/100\n",
            "2/2 [==============================] - 0s 11ms/step - loss: 3.6373 - mae: 3.6373\n",
            "Epoch 38/100\n",
            "2/2 [==============================] - 0s 14ms/step - loss: 0.9366 - mae: 0.9366\n",
            "Epoch 39/100\n",
            "2/2 [==============================] - 0s 8ms/step - loss: 1.5582 - mae: 1.5582\n",
            "Epoch 40/100\n",
            "2/2 [==============================] - 0s 7ms/step - loss: 1.8234 - mae: 1.8234\n",
            "Epoch 41/100\n",
            "2/2 [==============================] - 0s 11ms/step - loss: 1.0180 - mae: 1.0180\n",
            "Epoch 42/100\n",
            "2/2 [==============================] - 0s 14ms/step - loss: 0.3358 - mae: 0.3358\n",
            "Epoch 43/100\n",
            "2/2 [==============================] - 0s 15ms/step - loss: 1.0151 - mae: 1.0151\n",
            "Epoch 44/100\n",
            "2/2 [==============================] - 0s 9ms/step - loss: 2.1103 - mae: 2.1103\n",
            "Epoch 45/100\n",
            "2/2 [==============================] - 0s 8ms/step - loss: 1.4289 - mae: 1.4289\n",
            "Epoch 46/100\n",
            "2/2 [==============================] - 0s 7ms/step - loss: 1.7672 - mae: 1.7672\n",
            "Epoch 47/100\n",
            "2/2 [==============================] - 0s 12ms/step - loss: 0.9944 - mae: 0.9944\n",
            "Epoch 48/100\n",
            "2/2 [==============================] - 0s 12ms/step - loss: 0.4817 - mae: 0.4817\n",
            "Epoch 49/100\n",
            "2/2 [==============================] - 0s 34ms/step - loss: 0.5446 - mae: 0.5446\n",
            "Epoch 50/100\n",
            "2/2 [==============================] - 0s 26ms/step - loss: 0.6420 - mae: 0.6420\n",
            "Epoch 51/100\n",
            "2/2 [==============================] - 0s 6ms/step - loss: 0.5990 - mae: 0.5990\n",
            "Epoch 52/100\n",
            "2/2 [==============================] - 0s 12ms/step - loss: 0.7468 - mae: 0.7468\n",
            "Epoch 53/100\n",
            "2/2 [==============================] - 0s 30ms/step - loss: 1.4764 - mae: 1.4764\n",
            "Epoch 54/100\n",
            "2/2 [==============================] - 0s 31ms/step - loss: 2.9929 - mae: 2.9929\n",
            "Epoch 55/100\n",
            "2/2 [==============================] - 0s 35ms/step - loss: 3.0716 - mae: 3.0716\n",
            "Epoch 56/100\n",
            "2/2 [==============================] - 0s 13ms/step - loss: 2.1378 - mae: 2.1378\n",
            "Epoch 57/100\n",
            "2/2 [==============================] - 0s 7ms/step - loss: 2.8129 - mae: 2.8129\n",
            "Epoch 58/100\n",
            "2/2 [==============================] - 0s 21ms/step - loss: 1.3685 - mae: 1.3685\n",
            "Epoch 59/100\n",
            "2/2 [==============================] - 0s 11ms/step - loss: 1.3681 - mae: 1.3681\n",
            "Epoch 60/100\n",
            "2/2 [==============================] - 0s 10ms/step - loss: 0.6535 - mae: 0.6535\n",
            "Epoch 61/100\n",
            "2/2 [==============================] - 0s 13ms/step - loss: 0.4183 - mae: 0.4183\n",
            "Epoch 62/100\n",
            "2/2 [==============================] - 0s 7ms/step - loss: 0.1452 - mae: 0.1452\n",
            "Epoch 63/100\n",
            "2/2 [==============================] - 0s 14ms/step - loss: 0.4069 - mae: 0.4069\n",
            "Epoch 64/100\n",
            "2/2 [==============================] - 0s 7ms/step - loss: 0.4492 - mae: 0.4492\n",
            "Epoch 65/100\n",
            "2/2 [==============================] - 0s 8ms/step - loss: 0.5004 - mae: 0.5004\n",
            "Epoch 66/100\n",
            "2/2 [==============================] - 0s 8ms/step - loss: 1.7829 - mae: 1.7829\n",
            "Epoch 67/100\n",
            "2/2 [==============================] - 0s 7ms/step - loss: 0.9533 - mae: 0.9533\n",
            "Epoch 68/100\n",
            "2/2 [==============================] - 0s 7ms/step - loss: 2.3651 - mae: 2.3651\n",
            "Epoch 69/100\n",
            "2/2 [==============================] - 0s 6ms/step - loss: 0.6421 - mae: 0.6421\n",
            "Epoch 70/100\n",
            "2/2 [==============================] - 0s 6ms/step - loss: 4.1729 - mae: 4.1729\n",
            "Epoch 71/100\n",
            "2/2 [==============================] - 0s 7ms/step - loss: 2.6509 - mae: 2.6509\n",
            "Epoch 72/100\n",
            "2/2 [==============================] - 0s 6ms/step - loss: 2.7947 - mae: 2.7947\n",
            "Epoch 73/100\n",
            "2/2 [==============================] - 0s 15ms/step - loss: 4.3587 - mae: 4.3587\n",
            "Epoch 74/100\n",
            "2/2 [==============================] - 0s 6ms/step - loss: 1.6627 - mae: 1.6627\n",
            "Epoch 75/100\n",
            "2/2 [==============================] - 0s 8ms/step - loss: 3.6180 - mae: 3.6180\n",
            "Epoch 76/100\n",
            "2/2 [==============================] - 0s 10ms/step - loss: 2.8316 - mae: 2.8316\n",
            "Epoch 77/100\n",
            "2/2 [==============================] - 0s 12ms/step - loss: 1.8832 - mae: 1.8832\n",
            "Epoch 78/100\n",
            "2/2 [==============================] - 0s 7ms/step - loss: 3.0276 - mae: 3.0276\n",
            "Epoch 79/100\n",
            "2/2 [==============================] - 0s 28ms/step - loss: 0.9938 - mae: 0.9938\n",
            "Epoch 80/100\n",
            "2/2 [==============================] - 0s 9ms/step - loss: 2.2415 - mae: 2.2415\n",
            "Epoch 81/100\n",
            "2/2 [==============================] - 0s 16ms/step - loss: 0.5372 - mae: 0.5372\n",
            "Epoch 82/100\n",
            "2/2 [==============================] - 0s 8ms/step - loss: 3.0675 - mae: 3.0675\n",
            "Epoch 83/100\n",
            "2/2 [==============================] - 0s 7ms/step - loss: 1.9188 - mae: 1.9188\n",
            "Epoch 84/100\n",
            "2/2 [==============================] - 0s 12ms/step - loss: 1.4119 - mae: 1.4119\n",
            "Epoch 85/100\n",
            "2/2 [==============================] - 0s 7ms/step - loss: 0.7110 - mae: 0.7110\n",
            "Epoch 86/100\n",
            "2/2 [==============================] - 0s 35ms/step - loss: 2.3490 - mae: 2.3490\n",
            "Epoch 87/100\n",
            "2/2 [==============================] - 0s 13ms/step - loss: 0.8539 - mae: 0.8539\n",
            "Epoch 88/100\n",
            "2/2 [==============================] - 0s 19ms/step - loss: 2.4089 - mae: 2.4089\n",
            "Epoch 89/100\n",
            "2/2 [==============================] - 0s 25ms/step - loss: 0.8081 - mae: 0.8081\n",
            "Epoch 90/100\n",
            "2/2 [==============================] - 0s 7ms/step - loss: 2.6613 - mae: 2.6613\n",
            "Epoch 91/100\n",
            "2/2 [==============================] - 0s 14ms/step - loss: 1.1064 - mae: 1.1064\n",
            "Epoch 92/100\n",
            "2/2 [==============================] - 0s 11ms/step - loss: 1.5406 - mae: 1.5406\n",
            "Epoch 93/100\n",
            "2/2 [==============================] - 0s 8ms/step - loss: 0.3804 - mae: 0.3804\n",
            "Epoch 94/100\n",
            "2/2 [==============================] - 0s 13ms/step - loss: 0.2813 - mae: 0.2813\n",
            "Epoch 95/100\n",
            "2/2 [==============================] - 0s 12ms/step - loss: 0.4804 - mae: 0.4804\n",
            "Epoch 96/100\n",
            "2/2 [==============================] - 0s 11ms/step - loss: 0.1769 - mae: 0.1769\n",
            "Epoch 97/100\n",
            "2/2 [==============================] - 0s 10ms/step - loss: 0.2582 - mae: 0.2582\n",
            "Epoch 98/100\n",
            "2/2 [==============================] - 0s 14ms/step - loss: 0.4004 - mae: 0.4004\n",
            "Epoch 99/100\n",
            "2/2 [==============================] - 0s 24ms/step - loss: 0.4696 - mae: 0.4696\n",
            "Epoch 100/100\n",
            "2/2 [==============================] - 0s 7ms/step - loss: 0.5767 - mae: 0.5767\n"
          ]
        },
        {
          "output_type": "execute_result",
          "data": {
            "text/plain": [
              "<keras.callbacks.History at 0x7f3b6311e990>"
            ]
          },
          "metadata": {},
          "execution_count": 23
        }
      ]
    },
    {
      "cell_type": "code",
      "source": [
        "model4.summary()"
      ],
      "metadata": {
        "colab": {
          "base_uri": "https://localhost:8080/"
        },
        "id": "tQXnMY5Bam73",
        "outputId": "61d6a75f-ff69-41bd-9789-e53079100d8e"
      },
      "execution_count": 24,
      "outputs": [
        {
          "output_type": "stream",
          "name": "stdout",
          "text": [
            "Model: \"MODEL_1\"\n",
            "_________________________________________________________________\n",
            " Layer (type)                Output Shape              Param #   \n",
            "=================================================================\n",
            " input_layer (Dense)         (None, 100)               200       \n",
            "                                                                 \n",
            " output_layer (Dense)        (None, 1)                 101       \n",
            "                                                                 \n",
            "=================================================================\n",
            "Total params: 301\n",
            "Trainable params: 301\n",
            "Non-trainable params: 0\n",
            "_________________________________________________________________\n"
          ]
        }
      ]
    },
    {
      "cell_type": "code",
      "source": [
        "from tensorflow.keras.utils import plot_model\n",
        "plot_model(model=model4, show_shapes=True)"
      ],
      "metadata": {
        "colab": {
          "base_uri": "https://localhost:8080/",
          "height": 0
        },
        "id": "tv-q05wAbnOz",
        "outputId": "92cd8a0c-74bf-43e2-bb8d-a8bd3dd2586c"
      },
      "execution_count": 25,
      "outputs": [
        {
          "output_type": "execute_result",
          "data": {
            "image/png": "[encoded data removed]",
            "text/plain": [
              "<IPython.core.display.Image object>"
            ]
          },
          "metadata": {},
          "execution_count": 25
        }
      ]
    },
    {
      "cell_type": "markdown",
      "source": [
        "### Visualizing our model's predictions\n",
        "To visualize predictions, it's a good idea to plot them against the ground truth labels. \n",
        "Often you'll see this in the form of y_test or y_true versus y_pred(ground truth versus your model's predictions)"
      ],
      "metadata": {
        "id": "blFctDqYeF1N"
      }
    },
    {
      "cell_type": "code",
      "source": [
        "# Make some predictions\n",
        "y_pred = model4.predict(X_test)\n",
        "y_pred, y_test"
      ],
      "metadata": {
        "colab": {
          "base_uri": "https://localhost:8080/"
        },
        "id": "5XnMn3SpfVCL",
        "outputId": "1881dc35-e7a1-482b-af3a-e1bf35627fbd"
      },
      "execution_count": 26,
      "outputs": [
        {
          "output_type": "stream",
          "name": "stdout",
          "text": [
            "1/1 [==============================] - 0s 113ms/step\n"
          ]
        },
        {
          "output_type": "execute_result",
          "data": {
            "text/plain": [
              "(array([[ 70.97092 ],\n",
              "        [ 75.02875 ],\n",
              "        [ 79.08657 ],\n",
              "        [ 83.1444  ],\n",
              "        [ 87.20222 ],\n",
              "        [ 91.26004 ],\n",
              "        [ 95.317856],\n",
              "        [ 99.37568 ],\n",
              "        [103.4335  ],\n",
              "        [107.491325]], dtype=float32),\n",
              " <tf.Tensor: shape=(10,), dtype=int32, numpy=array([ 70,  74,  78,  82,  86,  90,  94,  98, 102, 106], dtype=int32)>)"
            ]
          },
          "metadata": {},
          "execution_count": 26
        }
      ]
    },
    {
      "cell_type": "code",
      "source": [
        "# create a plotting function\n",
        "def plot_predictions(train_data = X_train,\n",
        "                     train_labels = y_train,\n",
        "                     test_data = X_test,\n",
        "                     test_labels = y_test,\n",
        "                     predictions= y_pred):\n",
        "  \"\"\"\n",
        "  Plots training data, test data and compares predictions to ground truth labels.\n",
        "  \"\"\"\n",
        "  plt.figure(figsize=(10,7))\n",
        "  # Plot training data in blue\n",
        "  plt.scatter(train_data, train_labels, c=\"b\", label=\"Training data\")\n",
        "  # Plot test data in green\n",
        "  plt.scatter(test_data, test_labels, c=\"g\", label=\"Testing data\")\n",
        "  # Plot model's predictions in red\n",
        "  plt.scatter(test_data, predictions, c=\"r\", label=\"Predictions data\")\n",
        "  # Show a legend\n",
        "  plt.legend();"
      ],
      "metadata": {
        "id": "PPibws7LhBlS"
      },
      "execution_count": 27,
      "outputs": []
    },
    {
      "cell_type": "code",
      "source": [
        "plot_predictions()"
      ],
      "metadata": {
        "colab": {
          "base_uri": "https://localhost:8080/",
          "height": 0
        },
        "id": "3aq4AKHfhJHM",
        "outputId": "042691c4-9201-4339-d2ac-7fa01dffeb34"
      },
      "execution_count": 28,
      "outputs": [
        {
          "output_type": "display_data",
          "data": {
            "text/plain": [
              "<Figure size 720x504 with 1 Axes>"
            ],
            "image/png": "[encoded data removed]"
          },
          "metadata": {
            "needs_background": "light"
          }
        }
      ]
    },
    {
      "cell_type": "markdown",
      "source": [
        "### Evaluting our model's predictions with regression evaluation metrics\n",
        "\n",
        "Depending on the problem, we're working on, There will be different evaluation metrics to evaluate your model's performance.\n",
        "\n",
        "Since we're working on a regression, two of the main metrics:\n",
        "* MAE - Mean Absolute Error, \"on average, how wrong is each of my model's predictions\"\n",
        "* MSE - Mean Square Error, \"square the average errors\""
      ],
      "metadata": {
        "id": "xtsAHf7Nl2Ug"
      }
    },
    {
      "cell_type": "code",
      "source": [
        "# Evaluate the model on the test\n",
        "model4.evaluate(X_test, y_test)"
      ],
      "metadata": {
        "colab": {
          "base_uri": "https://localhost:8080/"
        },
        "id": "sLjfiLNRpTsM",
        "outputId": "144fa017-f1f1-4fba-f261-e938dd7b36bf"
      },
      "execution_count": 29,
      "outputs": [
        {
          "output_type": "stream",
          "name": "stdout",
          "text": [
            "1/1 [==============================] - 0s 284ms/step - loss: 1.2311 - mae: 1.2311\n"
          ]
        },
        {
          "output_type": "execute_result",
          "data": {
            "text/plain": [
              "[1.2311255931854248, 1.2311255931854248]"
            ]
          },
          "metadata": {},
          "execution_count": 29
        }
      ]
    },
    {
      "cell_type": "code",
      "source": [
        "y_pred, y_test"
      ],
      "metadata": {
        "colab": {
          "base_uri": "https://localhost:8080/"
        },
        "id": "CWkZKi8zpf9m",
        "outputId": "838c5dad-ccc7-4edf-a0bb-10611264fff5"
      },
      "execution_count": 30,
      "outputs": [
        {
          "output_type": "execute_result",
          "data": {
            "text/plain": [
              "(array([[ 70.97092 ],\n",
              "        [ 75.02875 ],\n",
              "        [ 79.08657 ],\n",
              "        [ 83.1444  ],\n",
              "        [ 87.20222 ],\n",
              "        [ 91.26004 ],\n",
              "        [ 95.317856],\n",
              "        [ 99.37568 ],\n",
              "        [103.4335  ],\n",
              "        [107.491325]], dtype=float32),\n",
              " <tf.Tensor: shape=(10,), dtype=int32, numpy=array([ 70,  74,  78,  82,  86,  90,  94,  98, 102, 106], dtype=int32)>)"
            ]
          },
          "metadata": {},
          "execution_count": 30
        }
      ]
    },
    {
      "cell_type": "code",
      "source": [
        "# Calclate the mean absolute error\n",
        "# we need to squeeze y_pred because they have diffent shapes, reference the aboue codes\n",
        "# the result should be same with evaluate function mae value\n",
        "mae = tf.metrics.mean_absolute_error(y_true=y_test, \n",
        "                                     y_pred=tf.squeeze(y_pred))\n",
        "# Calclate the mean squared error\n",
        "mse = tf.metrics.mean_squared_error(y_true=y_test, \n",
        "                                     y_pred=tf.squeeze(y_pred))\n",
        "mae, mse"
      ],
      "metadata": {
        "id": "W9J8EDoJpxEh",
        "colab": {
          "base_uri": "https://localhost:8080/"
        },
        "outputId": "46bf5412-2930-4a86-ddff-42f5ba682a9c"
      },
      "execution_count": 31,
      "outputs": [
        {
          "output_type": "execute_result",
          "data": {
            "text/plain": [
              "(<tf.Tensor: shape=(), dtype=float32, numpy=1.2311256>,\n",
              " <tf.Tensor: shape=(), dtype=float32, numpy=1.5432537>)"
            ]
          },
          "metadata": {},
          "execution_count": 31
        }
      ]
    },
    {
      "cell_type": "code",
      "source": [
        "# make some functions to reuse MAE and MSE\n",
        "def mae(y_true, y_pred):\n",
        "  return tf.metrics.mean_absolute_error(y_true=y_test, \n",
        "                                     y_pred=tf.squeeze(y_pred))\n",
        "  \n",
        "def mse(y_true, y_pred):\n",
        "  return tf.metrics.mean_squared_error(y_true=y_test, \n",
        "                                     y_pred=tf.squeeze(y_pred))"
      ],
      "metadata": {
        "id": "Fkv_uGdbuEqg"
      },
      "execution_count": 32,
      "outputs": []
    },
    {
      "cell_type": "markdown",
      "source": [
        "### Running experiments to improve our model\n",
        "1. Get more data - get more examples for your model to train on(more opportunities to learn patterns or relationships between features and labels).\n",
        "2. Make your model larger (using a more complex model) - this might come in the form of more layers or more hidden units in each layer\n",
        "3. Train for longer - give your model more of a chance to find patterns in the data.\n",
        "\n",
        "We will do 3 modelling experiments:\n",
        "1. `model_1` - same as the original model, 1 layer, trained for 100 epochs.\n",
        "2. `model_2` - 2 layers, trained for 100 epochs\n",
        "3. `model_3` - 2 layers, trained for 500 epochs"
      ],
      "metadata": {
        "id": "w96kBnKW2W3V"
      }
    },
    {
      "cell_type": "markdown",
      "source": [
        "**Build Model_1**\n",
        "* same as the original model, 1 layer, trained for 100 epochs"
      ],
      "metadata": {
        "id": "g7a-WFQ6PFPB"
      }
    },
    {
      "cell_type": "code",
      "source": [
        "# Set random seed\n",
        "tf.random.set_seed(42)\n",
        "\n",
        "# 1. Create the model\n",
        "model_1 = tf.keras.Sequential([\n",
        "  tf.keras.layers.Dense(1)                         \n",
        "])\n",
        "# 2. Compile the model\n",
        "model_1.compile(loss = tf.keras.losses.mae,\n",
        "                optimizer = tf.keras.optimizers.SGD(),\n",
        "                metrics=[\"mae\"])\n",
        "# 3. Fit the model\n",
        "model_1.fit(tf.expand_dims(X_train, axis=-1), y_train, epochs=100)"
      ],
      "metadata": {
        "colab": {
          "base_uri": "https://localhost:8080/"
        },
        "id": "-ADzwb_FN607",
        "outputId": "e8f9d7d3-2a62-4826-d13f-5f87dc232108"
      },
      "execution_count": 33,
      "outputs": [
        {
          "output_type": "stream",
          "name": "stdout",
          "text": [
            "Epoch 1/100\n",
            "2/2 [==============================] - 1s 14ms/step - loss: 15.9024 - mae: 15.9024\n",
            "Epoch 2/100\n",
            "2/2 [==============================] - 0s 8ms/step - loss: 11.2837 - mae: 11.2837\n",
            "Epoch 3/100\n",
            "2/2 [==============================] - 0s 15ms/step - loss: 11.1075 - mae: 11.1075\n",
            "Epoch 4/100\n",
            "2/2 [==============================] - 0s 9ms/step - loss: 9.2990 - mae: 9.2990\n",
            "Epoch 5/100\n",
            "2/2 [==============================] - 0s 4ms/step - loss: 10.1677 - mae: 10.1677\n",
            "Epoch 6/100\n",
            "2/2 [==============================] - 0s 9ms/step - loss: 9.4303 - mae: 9.4303\n",
            "Epoch 7/100\n",
            "2/2 [==============================] - 0s 6ms/step - loss: 8.5704 - mae: 8.5704\n",
            "Epoch 8/100\n",
            "2/2 [==============================] - 0s 5ms/step - loss: 9.0442 - mae: 9.0442\n",
            "Epoch 9/100\n",
            "2/2 [==============================] - 0s 10ms/step - loss: 18.7517 - mae: 18.7517\n",
            "Epoch 10/100\n",
            "2/2 [==============================] - 0s 27ms/step - loss: 10.1142 - mae: 10.1142\n",
            "Epoch 11/100\n",
            "2/2 [==============================] - 0s 13ms/step - loss: 8.3980 - mae: 8.3980\n",
            "Epoch 12/100\n",
            "2/2 [==============================] - 0s 10ms/step - loss: 10.6639 - mae: 10.6639\n",
            "Epoch 13/100\n",
            "2/2 [==============================] - 0s 6ms/step - loss: 9.7977 - mae: 9.7977\n",
            "Epoch 14/100\n",
            "2/2 [==============================] - 0s 6ms/step - loss: 16.0103 - mae: 16.0103\n",
            "Epoch 15/100\n",
            "2/2 [==============================] - 0s 7ms/step - loss: 11.4068 - mae: 11.4068\n",
            "Epoch 16/100\n",
            "2/2 [==============================] - 0s 21ms/step - loss: 8.5393 - mae: 8.5393\n",
            "Epoch 17/100\n",
            "2/2 [==============================] - 0s 6ms/step - loss: 13.6348 - mae: 13.6348\n",
            "Epoch 18/100\n",
            "2/2 [==============================] - 0s 5ms/step - loss: 11.4629 - mae: 11.4629\n",
            "Epoch 19/100\n",
            "2/2 [==============================] - 0s 5ms/step - loss: 17.9148 - mae: 17.9148\n",
            "Epoch 20/100\n",
            "2/2 [==============================] - 0s 4ms/step - loss: 15.0494 - mae: 15.0494\n",
            "Epoch 21/100\n",
            "2/2 [==============================] - 0s 7ms/step - loss: 11.0216 - mae: 11.0216\n",
            "Epoch 22/100\n",
            "2/2 [==============================] - 0s 10ms/step - loss: 8.1558 - mae: 8.1558\n",
            "Epoch 23/100\n",
            "2/2 [==============================] - 0s 6ms/step - loss: 9.5138 - mae: 9.5138\n",
            "Epoch 24/100\n",
            "2/2 [==============================] - 0s 6ms/step - loss: 7.6617 - mae: 7.6617\n",
            "Epoch 25/100\n",
            "2/2 [==============================] - 0s 11ms/step - loss: 13.1859 - mae: 13.1859\n",
            "Epoch 26/100\n",
            "2/2 [==============================] - 0s 5ms/step - loss: 16.4211 - mae: 16.4211\n",
            "Epoch 27/100\n",
            "2/2 [==============================] - 0s 16ms/step - loss: 13.1660 - mae: 13.1660\n",
            "Epoch 28/100\n",
            "2/2 [==============================] - 0s 8ms/step - loss: 14.2559 - mae: 14.2559\n",
            "Epoch 29/100\n",
            "2/2 [==============================] - 0s 7ms/step - loss: 10.0670 - mae: 10.0670\n",
            "Epoch 30/100\n",
            "2/2 [==============================] - 0s 10ms/step - loss: 16.3409 - mae: 16.3409\n",
            "Epoch 31/100\n",
            "2/2 [==============================] - 0s 5ms/step - loss: 23.6444 - mae: 23.6444\n",
            "Epoch 32/100\n",
            "2/2 [==============================] - 0s 8ms/step - loss: 7.6215 - mae: 7.6215\n",
            "Epoch 33/100\n",
            "2/2 [==============================] - 0s 6ms/step - loss: 9.3221 - mae: 9.3221\n",
            "Epoch 34/100\n",
            "2/2 [==============================] - 0s 5ms/step - loss: 13.7313 - mae: 13.7313\n",
            "Epoch 35/100\n",
            "2/2 [==============================] - 0s 9ms/step - loss: 11.1276 - mae: 11.1276\n",
            "Epoch 36/100\n",
            "2/2 [==============================] - 0s 9ms/step - loss: 13.3222 - mae: 13.3222\n",
            "Epoch 37/100\n",
            "2/2 [==============================] - 0s 6ms/step - loss: 9.4763 - mae: 9.4763\n",
            "Epoch 38/100\n",
            "2/2 [==============================] - 0s 5ms/step - loss: 10.1381 - mae: 10.1381\n",
            "Epoch 39/100\n",
            "2/2 [==============================] - 0s 12ms/step - loss: 10.1793 - mae: 10.1793\n",
            "Epoch 40/100\n",
            "2/2 [==============================] - 0s 8ms/step - loss: 10.9137 - mae: 10.9137\n",
            "Epoch 41/100\n",
            "2/2 [==============================] - 0s 8ms/step - loss: 7.9063 - mae: 7.9063\n",
            "Epoch 42/100\n",
            "2/2 [==============================] - 0s 5ms/step - loss: 10.0914 - mae: 10.0914\n",
            "Epoch 43/100\n",
            "2/2 [==============================] - 0s 5ms/step - loss: 8.7006 - mae: 8.7006\n",
            "Epoch 44/100\n",
            "2/2 [==============================] - 0s 5ms/step - loss: 12.2046 - mae: 12.2046\n",
            "Epoch 45/100\n",
            "2/2 [==============================] - 0s 25ms/step - loss: 13.7970 - mae: 13.7970\n",
            "Epoch 46/100\n",
            "2/2 [==============================] - 0s 6ms/step - loss: 8.4687 - mae: 8.4687\n",
            "Epoch 47/100\n",
            "2/2 [==============================] - 0s 6ms/step - loss: 9.1330 - mae: 9.1330\n",
            "Epoch 48/100\n",
            "2/2 [==============================] - 0s 6ms/step - loss: 10.6190 - mae: 10.6190\n",
            "Epoch 49/100\n",
            "2/2 [==============================] - 0s 6ms/step - loss: 7.7503 - mae: 7.7503\n",
            "Epoch 50/100\n",
            "2/2 [==============================] - 0s 5ms/step - loss: 9.5407 - mae: 9.5407\n",
            "Epoch 51/100\n",
            "2/2 [==============================] - 0s 18ms/step - loss: 9.1584 - mae: 9.1584\n",
            "Epoch 52/100\n",
            "2/2 [==============================] - 0s 7ms/step - loss: 16.3630 - mae: 16.3630\n",
            "Epoch 53/100\n",
            "2/2 [==============================] - 0s 10ms/step - loss: 14.1299 - mae: 14.1299\n",
            "Epoch 54/100\n",
            "2/2 [==============================] - 0s 9ms/step - loss: 21.1247 - mae: 21.1247\n",
            "Epoch 55/100\n",
            "2/2 [==============================] - 0s 19ms/step - loss: 16.3961 - mae: 16.3961\n",
            "Epoch 56/100\n",
            "2/2 [==============================] - 0s 11ms/step - loss: 9.9806 - mae: 9.9806\n",
            "Epoch 57/100\n",
            "2/2 [==============================] - 0s 14ms/step - loss: 9.9606 - mae: 9.9606\n",
            "Epoch 58/100\n",
            "2/2 [==============================] - 0s 11ms/step - loss: 9.2209 - mae: 9.2209\n",
            "Epoch 59/100\n",
            "2/2 [==============================] - 0s 7ms/step - loss: 8.4239 - mae: 8.4239\n",
            "Epoch 60/100\n",
            "2/2 [==============================] - 0s 13ms/step - loss: 9.4869 - mae: 9.4869\n",
            "Epoch 61/100\n",
            "2/2 [==============================] - 0s 5ms/step - loss: 11.4354 - mae: 11.4354\n",
            "Epoch 62/100\n",
            "2/2 [==============================] - 0s 8ms/step - loss: 11.6887 - mae: 11.6887\n",
            "Epoch 63/100\n",
            "2/2 [==============================] - 0s 9ms/step - loss: 7.0838 - mae: 7.0838\n",
            "Epoch 64/100\n",
            "2/2 [==============================] - 0s 22ms/step - loss: 16.9675 - mae: 16.9675\n",
            "Epoch 65/100\n",
            "2/2 [==============================] - 0s 10ms/step - loss: 12.4599 - mae: 12.4599\n",
            "Epoch 66/100\n",
            "2/2 [==============================] - 0s 5ms/step - loss: 13.0184 - mae: 13.0184\n",
            "Epoch 67/100\n",
            "2/2 [==============================] - 0s 13ms/step - loss: 8.0600 - mae: 8.0600\n",
            "Epoch 68/100\n",
            "2/2 [==============================] - 0s 12ms/step - loss: 10.1888 - mae: 10.1888\n",
            "Epoch 69/100\n",
            "2/2 [==============================] - 0s 8ms/step - loss: 12.3633 - mae: 12.3633\n",
            "Epoch 70/100\n",
            "2/2 [==============================] - 0s 27ms/step - loss: 9.0516 - mae: 9.0516\n",
            "Epoch 71/100\n",
            "2/2 [==============================] - 0s 7ms/step - loss: 10.0378 - mae: 10.0378\n",
            "Epoch 72/100\n",
            "2/2 [==============================] - 0s 13ms/step - loss: 10.0516 - mae: 10.0516\n",
            "Epoch 73/100\n",
            "2/2 [==============================] - 0s 21ms/step - loss: 12.6151 - mae: 12.6151\n",
            "Epoch 74/100\n",
            "2/2 [==============================] - 0s 5ms/step - loss: 10.3819 - mae: 10.3819\n",
            "Epoch 75/100\n",
            "2/2 [==============================] - 0s 9ms/step - loss: 9.7229 - mae: 9.7229\n",
            "Epoch 76/100\n",
            "2/2 [==============================] - 0s 10ms/step - loss: 11.2252 - mae: 11.2252\n",
            "Epoch 77/100\n",
            "2/2 [==============================] - 0s 5ms/step - loss: 8.3642 - mae: 8.3642\n",
            "Epoch 78/100\n",
            "2/2 [==============================] - 0s 19ms/step - loss: 9.1274 - mae: 9.1274\n",
            "Epoch 79/100\n",
            "2/2 [==============================] - 0s 24ms/step - loss: 19.5039 - mae: 19.5039\n",
            "Epoch 80/100\n",
            "2/2 [==============================] - 0s 30ms/step - loss: 14.8945 - mae: 14.8945\n",
            "Epoch 81/100\n",
            "2/2 [==============================] - 0s 17ms/step - loss: 9.0034 - mae: 9.0034\n",
            "Epoch 82/100\n",
            "2/2 [==============================] - 0s 6ms/step - loss: 13.0206 - mae: 13.0206\n",
            "Epoch 83/100\n",
            "2/2 [==============================] - 0s 14ms/step - loss: 7.9299 - mae: 7.9299\n",
            "Epoch 84/100\n",
            "2/2 [==============================] - 0s 12ms/step - loss: 7.6872 - mae: 7.6872\n",
            "Epoch 85/100\n",
            "2/2 [==============================] - 0s 30ms/step - loss: 10.0328 - mae: 10.0328\n",
            "Epoch 86/100\n",
            "2/2 [==============================] - 0s 18ms/step - loss: 9.2433 - mae: 9.2433\n",
            "Epoch 87/100\n",
            "2/2 [==============================] - 0s 14ms/step - loss: 12.0209 - mae: 12.0209\n",
            "Epoch 88/100\n",
            "2/2 [==============================] - 0s 25ms/step - loss: 10.6389 - mae: 10.6389\n",
            "Epoch 89/100\n",
            "2/2 [==============================] - 0s 22ms/step - loss: 7.2667 - mae: 7.2667\n",
            "Epoch 90/100\n",
            "2/2 [==============================] - 0s 7ms/step - loss: 12.7786 - mae: 12.7786\n",
            "Epoch 91/100\n",
            "2/2 [==============================] - 0s 17ms/step - loss: 7.3481 - mae: 7.3481\n",
            "Epoch 92/100\n",
            "2/2 [==============================] - 0s 13ms/step - loss: 7.7175 - mae: 7.7175\n",
            "Epoch 93/100\n",
            "2/2 [==============================] - 0s 13ms/step - loss: 7.1263 - mae: 7.1263\n",
            "Epoch 94/100\n",
            "2/2 [==============================] - 0s 9ms/step - loss: 12.6190 - mae: 12.6190\n",
            "Epoch 95/100\n",
            "2/2 [==============================] - 0s 18ms/step - loss: 10.0912 - mae: 10.0912\n",
            "Epoch 96/100\n",
            "2/2 [==============================] - 0s 19ms/step - loss: 9.3558 - mae: 9.3558\n",
            "Epoch 97/100\n",
            "2/2 [==============================] - 0s 9ms/step - loss: 12.6834 - mae: 12.6834\n",
            "Epoch 98/100\n",
            "2/2 [==============================] - 0s 5ms/step - loss: 8.6762 - mae: 8.6762\n",
            "Epoch 99/100\n",
            "2/2 [==============================] - 0s 6ms/step - loss: 9.4693 - mae: 9.4693\n",
            "Epoch 100/100\n",
            "2/2 [==============================] - 0s 20ms/step - loss: 8.7067 - mae: 8.7067\n"
          ]
        },
        {
          "output_type": "execute_result",
          "data": {
            "text/plain": [
              "<keras.callbacks.History at 0x7f3b61999990>"
            ]
          },
          "metadata": {},
          "execution_count": 33
        }
      ]
    },
    {
      "cell_type": "code",
      "source": [
        "# Make and plot predictions for model_1\n",
        "y_preds_1 = model_1.predict(X_test)\n",
        "plot_predictions(predictions=y_preds_1)"
      ],
      "metadata": {
        "colab": {
          "base_uri": "https://localhost:8080/",
          "height": 0
        },
        "id": "b4-SBrboPUBg",
        "outputId": "3b905f41-262b-4e98-e380-9bc1d328cefd"
      },
      "execution_count": 34,
      "outputs": [
        {
          "output_type": "stream",
          "name": "stderr",
          "text": [
            "WARNING:tensorflow:5 out of the last 5 calls to <function Model.make_predict_function.<locals>.predict_function at 0x7f3b5fe619e0> triggered tf.function retracing. Tracing is expensive and the excessive number of tracings could be due to (1) creating @tf.function repeatedly in a loop, (2) passing tensors with different shapes, (3) passing Python objects instead of tensors. For (1), please define your @tf.function outside of the loop. For (2), @tf.function has reduce_retracing=True option that can avoid unnecessary retracing. For (3), please refer to https://www.tensorflow.org/guide/function#controlling_retracing and https://www.tensorflow.org/api_docs/python/tf/function for  more details.\n"
          ]
        },
        {
          "output_type": "stream",
          "name": "stdout",
          "text": [
            "1/1 [==============================] - 0s 170ms/step\n"
          ]
        },
        {
          "output_type": "display_data",
          "data": {
            "text/plain": [
              "<Figure size 720x504 with 1 Axes>"
            ],
            "image/png": "[encoded data removed]"
          },
          "metadata": {
            "needs_background": "light"
          }
        }
      ]
    },
    {
      "cell_type": "code",
      "source": [
        "# Calculate model_1 evaluate metrics\n",
        "mae_1 = mae(y_test, tf.squeeze(y_preds_1))\n",
        "mse_1 = mse(y_test, tf.squeeze(y_preds_1))\n",
        "mae_1, mse_1"
      ],
      "metadata": {
        "colab": {
          "base_uri": "https://localhost:8080/"
        },
        "id": "UXqHr6M5Prd2",
        "outputId": "26f9d25a-0dd1-41b6-af0f-f23ee0fb9aaf"
      },
      "execution_count": 35,
      "outputs": [
        {
          "output_type": "execute_result",
          "data": {
            "text/plain": [
              "(<tf.Tensor: shape=(), dtype=float32, numpy=18.745327>,\n",
              " <tf.Tensor: shape=(), dtype=float32, numpy=353.57336>)"
            ]
          },
          "metadata": {},
          "execution_count": 35
        }
      ]
    },
    {
      "cell_type": "markdown",
      "source": [
        "**Build Model_2**\n",
        "*  2 layers, trained for 100 epochs"
      ],
      "metadata": {
        "id": "fTvmxqeWTZ4h"
      }
    },
    {
      "cell_type": "code",
      "source": [
        "# Set random seed\n",
        "tf.random.set_seed(42)\n",
        "\n",
        "# 1. Create the model\n",
        "model_2 = tf.keras.Sequential([\n",
        "  tf.keras.layers.Dense(10),\n",
        "  tf.keras.layers.Dense(1)\n",
        "])\n",
        "# 2. Compile the model\n",
        "model_2.compile(loss = tf.keras.losses.mae,\n",
        "                optimizer = tf.keras.optimizers.SGD(),\n",
        "                metrics=[\"mse\"])\n",
        "# 3. Fit the model\n",
        "model_2.fit(tf.expand_dims(X_train, axis=-1), y_train, epochs=100)"
      ],
      "metadata": {
        "colab": {
          "base_uri": "https://localhost:8080/"
        },
        "id": "u7pcw-gxTztK",
        "outputId": "7803525d-eb48-442c-816e-04e463835abe"
      },
      "execution_count": 36,
      "outputs": [
        {
          "output_type": "stream",
          "name": "stdout",
          "text": [
            "Epoch 1/100\n",
            "2/2 [==============================] - 1s 16ms/step - loss: 27.4058 - mse: 1084.1482\n",
            "Epoch 2/100\n",
            "2/2 [==============================] - 0s 14ms/step - loss: 24.6339 - mse: 777.9203\n",
            "Epoch 3/100\n",
            "2/2 [==============================] - 0s 11ms/step - loss: 29.8935 - mse: 1334.8953\n",
            "Epoch 4/100\n",
            "2/2 [==============================] - 0s 11ms/step - loss: 27.4055 - mse: 1106.8035\n",
            "Epoch 5/100\n",
            "2/2 [==============================] - 0s 15ms/step - loss: 14.9463 - mse: 281.1076\n",
            "Epoch 6/100\n",
            "2/2 [==============================] - 0s 10ms/step - loss: 11.8819 - mse: 168.6621\n",
            "Epoch 7/100\n",
            "2/2 [==============================] - 0s 10ms/step - loss: 11.1988 - mse: 151.3508\n",
            "Epoch 8/100\n",
            "2/2 [==============================] - 0s 9ms/step - loss: 11.0910 - mse: 160.3745\n",
            "Epoch 9/100\n",
            "2/2 [==============================] - 0s 8ms/step - loss: 40.4763 - mse: 2586.0085\n",
            "Epoch 10/100\n",
            "2/2 [==============================] - 0s 11ms/step - loss: 27.8687 - mse: 1094.4380\n",
            "Epoch 11/100\n",
            "2/2 [==============================] - 0s 17ms/step - loss: 10.2473 - mse: 147.9359\n",
            "Epoch 12/100\n",
            "2/2 [==============================] - 0s 12ms/step - loss: 25.2803 - mse: 890.3867\n",
            "Epoch 13/100\n",
            "2/2 [==============================] - 0s 7ms/step - loss: 16.9897 - mse: 399.9677\n",
            "Epoch 14/100\n",
            "2/2 [==============================] - 0s 5ms/step - loss: 25.9217 - mse: 1049.5515\n",
            "Epoch 15/100\n",
            "2/2 [==============================] - 0s 14ms/step - loss: 17.9948 - mse: 450.2581\n",
            "Epoch 16/100\n",
            "2/2 [==============================] - 0s 9ms/step - loss: 7.3510 - mse: 80.6206\n",
            "Epoch 17/100\n",
            "2/2 [==============================] - 0s 17ms/step - loss: 10.8636 - mse: 174.7868\n",
            "Epoch 18/100\n",
            "2/2 [==============================] - 0s 10ms/step - loss: 19.5304 - mse: 565.8052\n",
            "Epoch 19/100\n",
            "2/2 [==============================] - 0s 22ms/step - loss: 10.3469 - mse: 167.7749\n",
            "Epoch 20/100\n",
            "2/2 [==============================] - 0s 11ms/step - loss: 17.6985 - mse: 455.7096\n",
            "Epoch 21/100\n",
            "2/2 [==============================] - 0s 9ms/step - loss: 15.8985 - mse: 347.1929\n",
            "Epoch 22/100\n",
            "2/2 [==============================] - 0s 5ms/step - loss: 14.1991 - mse: 285.1767\n",
            "Epoch 23/100\n",
            "2/2 [==============================] - 0s 10ms/step - loss: 8.7720 - mse: 91.7852\n",
            "Epoch 24/100\n",
            "2/2 [==============================] - 0s 13ms/step - loss: 11.0570 - mse: 153.7430\n",
            "Epoch 25/100\n",
            "2/2 [==============================] - 0s 10ms/step - loss: 12.6838 - mse: 233.2950\n",
            "Epoch 26/100\n",
            "2/2 [==============================] - 0s 9ms/step - loss: 26.1877 - mse: 1024.6094\n",
            "Epoch 27/100\n",
            "2/2 [==============================] - 0s 10ms/step - loss: 11.7432 - mse: 194.8453\n",
            "Epoch 28/100\n",
            "2/2 [==============================] - 0s 12ms/step - loss: 22.8730 - mse: 835.6069\n",
            "Epoch 29/100\n",
            "2/2 [==============================] - 0s 22ms/step - loss: 9.2459 - mse: 96.7787\n",
            "Epoch 30/100\n",
            "2/2 [==============================] - 0s 6ms/step - loss: 29.2641 - mse: 1535.1335\n",
            "Epoch 31/100\n",
            "2/2 [==============================] - 0s 6ms/step - loss: 53.0224 - mse: 5030.2954\n",
            "Epoch 32/100\n",
            "2/2 [==============================] - 0s 6ms/step - loss: 11.9951 - mse: 211.7023\n",
            "Epoch 33/100\n",
            "2/2 [==============================] - 0s 8ms/step - loss: 15.6357 - mse: 337.3664\n",
            "Epoch 34/100\n",
            "2/2 [==============================] - 0s 12ms/step - loss: 12.6925 - mse: 214.4822\n",
            "Epoch 35/100\n",
            "2/2 [==============================] - 0s 14ms/step - loss: 9.2398 - mse: 92.9126\n",
            "Epoch 36/100\n",
            "2/2 [==============================] - 0s 6ms/step - loss: 16.6497 - mse: 403.6569\n",
            "Epoch 37/100\n",
            "2/2 [==============================] - 0s 8ms/step - loss: 11.0382 - mse: 192.3919\n",
            "Epoch 38/100\n",
            "2/2 [==============================] - 0s 6ms/step - loss: 18.1634 - mse: 433.6718\n",
            "Epoch 39/100\n",
            "2/2 [==============================] - 0s 7ms/step - loss: 19.1013 - mse: 529.6440\n",
            "Epoch 40/100\n",
            "2/2 [==============================] - 0s 12ms/step - loss: 20.4324 - mse: 610.1325\n",
            "Epoch 41/100\n",
            "2/2 [==============================] - 0s 8ms/step - loss: 14.9102 - mse: 279.6182\n",
            "Epoch 42/100\n",
            "2/2 [==============================] - 0s 11ms/step - loss: 12.2809 - mse: 186.6180\n",
            "Epoch 43/100\n",
            "2/2 [==============================] - 0s 26ms/step - loss: 10.7333 - mse: 167.0952\n",
            "Epoch 44/100\n",
            "2/2 [==============================] - 0s 6ms/step - loss: 23.0260 - mse: 830.4245\n",
            "Epoch 45/100\n",
            "2/2 [==============================] - 0s 15ms/step - loss: 10.3897 - mse: 128.9549\n",
            "Epoch 46/100\n",
            "2/2 [==============================] - 0s 9ms/step - loss: 11.7904 - mse: 181.9211\n",
            "Epoch 47/100\n",
            "2/2 [==============================] - 0s 21ms/step - loss: 9.6438 - mse: 153.8708\n",
            "Epoch 48/100\n",
            "2/2 [==============================] - 0s 12ms/step - loss: 17.2335 - mse: 402.8495\n",
            "Epoch 49/100\n",
            "2/2 [==============================] - 0s 7ms/step - loss: 9.5729 - mse: 99.8336\n",
            "Epoch 50/100\n",
            "2/2 [==============================] - 0s 25ms/step - loss: 13.8185 - mse: 260.3669\n",
            "Epoch 51/100\n",
            "2/2 [==============================] - 0s 15ms/step - loss: 11.5958 - mse: 154.7956\n",
            "Epoch 52/100\n",
            "2/2 [==============================] - 0s 7ms/step - loss: 30.5538 - mse: 1613.0883\n",
            "Epoch 53/100\n",
            "2/2 [==============================] - 0s 14ms/step - loss: 14.3541 - mse: 302.5291\n",
            "Epoch 54/100\n",
            "2/2 [==============================] - 0s 14ms/step - loss: 23.9713 - mse: 859.3983\n",
            "Epoch 55/100\n",
            "2/2 [==============================] - 0s 9ms/step - loss: 23.1938 - mse: 805.5450\n",
            "Epoch 56/100\n",
            "2/2 [==============================] - 0s 5ms/step - loss: 10.8837 - mse: 170.9834\n",
            "Epoch 57/100\n",
            "2/2 [==============================] - 0s 6ms/step - loss: 12.7445 - mse: 198.7015\n",
            "Epoch 58/100\n",
            "2/2 [==============================] - 0s 5ms/step - loss: 9.5995 - mse: 102.5890\n",
            "Epoch 59/100\n",
            "2/2 [==============================] - 0s 9ms/step - loss: 12.5172 - mse: 216.3367\n",
            "Epoch 60/100\n",
            "2/2 [==============================] - 0s 6ms/step - loss: 12.3200 - mse: 208.6370\n",
            "Epoch 61/100\n",
            "2/2 [==============================] - 0s 6ms/step - loss: 17.4604 - mse: 428.6392\n",
            "Epoch 62/100\n",
            "2/2 [==============================] - 0s 6ms/step - loss: 10.6052 - mse: 136.9776\n",
            "Epoch 63/100\n",
            "2/2 [==============================] - 0s 13ms/step - loss: 10.4893 - mse: 152.4554\n",
            "Epoch 64/100\n",
            "2/2 [==============================] - 0s 15ms/step - loss: 24.8450 - mse: 911.7509\n",
            "Epoch 65/100\n",
            "2/2 [==============================] - 0s 21ms/step - loss: 10.6761 - mse: 142.7374\n",
            "Epoch 66/100\n",
            "2/2 [==============================] - 0s 7ms/step - loss: 21.7809 - mse: 704.4487\n",
            "Epoch 67/100\n",
            "2/2 [==============================] - 0s 11ms/step - loss: 10.7136 - mse: 136.0194\n",
            "Epoch 68/100\n",
            "2/2 [==============================] - 0s 6ms/step - loss: 10.6397 - mse: 149.2299\n",
            "Epoch 69/100\n",
            "2/2 [==============================] - 0s 24ms/step - loss: 22.6914 - mse: 742.1758\n",
            "Epoch 70/100\n",
            "2/2 [==============================] - 0s 36ms/step - loss: 9.3316 - mse: 166.1627\n",
            "Epoch 71/100\n",
            "2/2 [==============================] - 0s 12ms/step - loss: 15.4355 - mse: 323.0844\n",
            "Epoch 72/100\n",
            "2/2 [==============================] - 0s 10ms/step - loss: 6.7437 - mse: 67.0210\n",
            "Epoch 73/100\n",
            "2/2 [==============================] - 0s 19ms/step - loss: 11.6891 - mse: 183.7296\n",
            "Epoch 74/100\n",
            "2/2 [==============================] - 0s 7ms/step - loss: 24.0400 - mse: 908.8988\n",
            "Epoch 75/100\n",
            "2/2 [==============================] - 0s 6ms/step - loss: 9.5896 - mse: 149.3948\n",
            "Epoch 76/100\n",
            "2/2 [==============================] - 0s 6ms/step - loss: 12.4371 - mse: 188.3310\n",
            "Epoch 77/100\n",
            "2/2 [==============================] - 0s 9ms/step - loss: 16.6488 - mse: 429.2705\n",
            "Epoch 78/100\n",
            "2/2 [==============================] - 0s 16ms/step - loss: 9.0614 - mse: 95.4869\n",
            "Epoch 79/100\n",
            "2/2 [==============================] - 0s 11ms/step - loss: 23.9675 - mse: 864.0859\n",
            "Epoch 80/100\n",
            "2/2 [==============================] - 0s 15ms/step - loss: 26.7463 - mse: 1104.4030\n",
            "Epoch 81/100\n",
            "2/2 [==============================] - 0s 10ms/step - loss: 11.6714 - mse: 170.7055\n",
            "Epoch 82/100\n",
            "2/2 [==============================] - 0s 5ms/step - loss: 12.0228 - mse: 211.9191\n",
            "Epoch 83/100\n",
            "2/2 [==============================] - 0s 10ms/step - loss: 17.4218 - mse: 395.5590\n",
            "Epoch 84/100\n",
            "2/2 [==============================] - 0s 8ms/step - loss: 7.2629 - mse: 73.0935\n",
            "Epoch 85/100\n",
            "2/2 [==============================] - 0s 9ms/step - loss: 14.9650 - mse: 312.8361\n",
            "Epoch 86/100\n",
            "2/2 [==============================] - 0s 5ms/step - loss: 15.2862 - mse: 315.3606\n",
            "Epoch 87/100\n",
            "2/2 [==============================] - 0s 9ms/step - loss: 19.1086 - mse: 521.2535\n",
            "Epoch 88/100\n",
            "2/2 [==============================] - 0s 6ms/step - loss: 29.8228 - mse: 1287.1902\n",
            "Epoch 89/100\n",
            "2/2 [==============================] - 0s 9ms/step - loss: 10.1742 - mse: 124.1342\n",
            "Epoch 90/100\n",
            "2/2 [==============================] - 0s 11ms/step - loss: 21.5240 - mse: 663.8608\n",
            "Epoch 91/100\n",
            "2/2 [==============================] - 0s 13ms/step - loss: 10.5716 - mse: 161.7467\n",
            "Epoch 92/100\n",
            "2/2 [==============================] - 0s 7ms/step - loss: 18.3977 - mse: 464.1323\n",
            "Epoch 93/100\n",
            "2/2 [==============================] - 0s 5ms/step - loss: 7.4138 - mse: 81.9820\n",
            "Epoch 94/100\n",
            "2/2 [==============================] - 0s 5ms/step - loss: 17.7380 - mse: 445.7377\n",
            "Epoch 95/100\n",
            "2/2 [==============================] - 0s 24ms/step - loss: 11.1144 - mse: 164.0820\n",
            "Epoch 96/100\n",
            "2/2 [==============================] - 0s 8ms/step - loss: 19.4346 - mse: 510.5842\n",
            "Epoch 97/100\n",
            "2/2 [==============================] - 0s 10ms/step - loss: 12.1593 - mse: 209.9755\n",
            "Epoch 98/100\n",
            "2/2 [==============================] - 0s 15ms/step - loss: 11.5653 - mse: 169.4052\n",
            "Epoch 99/100\n",
            "2/2 [==============================] - 0s 8ms/step - loss: 13.8827 - mse: 265.4630\n",
            "Epoch 100/100\n",
            "2/2 [==============================] - 0s 5ms/step - loss: 20.2277 - mse: 608.8219\n"
          ]
        },
        {
          "output_type": "execute_result",
          "data": {
            "text/plain": [
              "<keras.callbacks.History at 0x7f3b6209bf10>"
            ]
          },
          "metadata": {},
          "execution_count": 36
        }
      ]
    },
    {
      "cell_type": "code",
      "source": [
        "# Make and plot predictions for model_2\n",
        "y_preds_2 = model_2.predict(X_test)\n",
        "plot_predictions(predictions=y_preds_2)"
      ],
      "metadata": {
        "colab": {
          "base_uri": "https://localhost:8080/",
          "height": 0
        },
        "id": "tqR_gVjeUEho",
        "outputId": "949a81a8-86b2-4124-a992-87726bd01488"
      },
      "execution_count": 37,
      "outputs": [
        {
          "output_type": "stream",
          "name": "stderr",
          "text": [
            "WARNING:tensorflow:6 out of the last 6 calls to <function Model.make_predict_function.<locals>.predict_function at 0x7f3b6208d0e0> triggered tf.function retracing. Tracing is expensive and the excessive number of tracings could be due to (1) creating @tf.function repeatedly in a loop, (2) passing tensors with different shapes, (3) passing Python objects instead of tensors. For (1), please define your @tf.function outside of the loop. For (2), @tf.function has reduce_retracing=True option that can avoid unnecessary retracing. For (3), please refer to https://www.tensorflow.org/guide/function#controlling_retracing and https://www.tensorflow.org/api_docs/python/tf/function for  more details.\n"
          ]
        },
        {
          "output_type": "stream",
          "name": "stdout",
          "text": [
            "1/1 [==============================] - 0s 62ms/step\n"
          ]
        },
        {
          "output_type": "display_data",
          "data": {
            "text/plain": [
              "<Figure size 720x504 with 1 Axes>"
            ],
            "image/png": "[encoded data removed]"
          },
          "metadata": {
            "needs_background": "light"
          }
        }
      ]
    },
    {
      "cell_type": "code",
      "source": [
        "# Calculate model_2 evaluate metrics\n",
        "mae_2 = mae(y_test,y_preds_2)\n",
        "mse_2 = mse(y_test,y_preds_2)\n",
        "mae_2, mse_2"
      ],
      "metadata": {
        "colab": {
          "base_uri": "https://localhost:8080/"
        },
        "id": "mxjc-d_SUY-f",
        "outputId": "7ec1c8ca-edf8-437e-af9d-5e6de5c12e65"
      },
      "execution_count": 38,
      "outputs": [
        {
          "output_type": "execute_result",
          "data": {
            "text/plain": [
              "(<tf.Tensor: shape=(), dtype=float32, numpy=3.19694>,\n",
              " <tf.Tensor: shape=(), dtype=float32, numpy=13.070127>)"
            ]
          },
          "metadata": {},
          "execution_count": 38
        }
      ]
    },
    {
      "cell_type": "markdown",
      "source": [
        "**Build Model_3**\n",
        "*  2 layers, trained for 500 epochs"
      ],
      "metadata": {
        "id": "v87-fuSWVXlM"
      }
    },
    {
      "cell_type": "code",
      "source": [
        "# Set random seed\n",
        "tf.random.set_seed(42)\n",
        "\n",
        "# 1. Create the model\n",
        "model_3 = tf.keras.Sequential([\n",
        "  tf.keras.layers.Dense(10),\n",
        "  tf.keras.layers.Dense(1)\n",
        "])\n",
        "# 2. Compile the model\n",
        "model_3.compile(loss = tf.keras.losses.mae,\n",
        "                optimizer = tf.keras.optimizers.SGD(),\n",
        "                metrics=[\"mae\"])\n",
        "# 3. Fit the model\n",
        "model_3.fit(tf.expand_dims(X_train, axis=-1), y_train, epochs=500)"
      ],
      "metadata": {
        "colab": {
          "base_uri": "https://localhost:8080/"
        },
        "id": "AhDa3CPqVeDH",
        "outputId": "deff1da3-8272-40ff-8fac-46a6db9c31f6"
      },
      "execution_count": 39,
      "outputs": [
        {
          "output_type": "stream",
          "name": "stdout",
          "text": [
            "Epoch 1/500\n",
            "2/2 [==============================] - 0s 6ms/step - loss: 27.4058 - mae: 27.4058\n",
            "Epoch 2/500\n",
            "2/2 [==============================] - 0s 6ms/step - loss: 24.6339 - mae: 24.6339\n",
            "Epoch 3/500\n",
            "2/2 [==============================] - 0s 8ms/step - loss: 29.8935 - mae: 29.8935\n",
            "Epoch 4/500\n",
            "2/2 [==============================] - 0s 6ms/step - loss: 27.4055 - mae: 27.4055\n",
            "Epoch 5/500\n",
            "2/2 [==============================] - 0s 4ms/step - loss: 14.9463 - mae: 14.9463\n",
            "Epoch 6/500\n",
            "2/2 [==============================] - 0s 5ms/step - loss: 11.8819 - mae: 11.8819\n",
            "Epoch 7/500\n",
            "2/2 [==============================] - 0s 11ms/step - loss: 11.1988 - mae: 11.1988\n",
            "Epoch 8/500\n",
            "2/2 [==============================] - 0s 5ms/step - loss: 11.0910 - mae: 11.0910\n",
            "Epoch 9/500\n",
            "2/2 [==============================] - 0s 5ms/step - loss: 40.4763 - mae: 40.4763\n",
            "Epoch 10/500\n",
            "2/2 [==============================] - 0s 10ms/step - loss: 27.8687 - mae: 27.8687\n",
            "Epoch 11/500\n",
            "2/2 [==============================] - 0s 9ms/step - loss: 10.2473 - mae: 10.2473\n",
            "Epoch 12/500\n",
            "2/2 [==============================] - 0s 10ms/step - loss: 25.2803 - mae: 25.2803\n",
            "Epoch 13/500\n",
            "2/2 [==============================] - 0s 4ms/step - loss: 16.9897 - mae: 16.9897\n",
            "Epoch 14/500\n",
            "2/2 [==============================] - 0s 6ms/step - loss: 25.9217 - mae: 25.9217\n",
            "Epoch 15/500\n",
            "2/2 [==============================] - 0s 6ms/step - loss: 17.9948 - mae: 17.9948\n",
            "Epoch 16/500\n",
            "2/2 [==============================] - 0s 5ms/step - loss: 7.3510 - mae: 7.3510\n",
            "Epoch 17/500\n",
            "2/2 [==============================] - 0s 4ms/step - loss: 10.8636 - mae: 10.8636\n",
            "Epoch 18/500\n",
            "2/2 [==============================] - 0s 4ms/step - loss: 19.5304 - mae: 19.5304\n",
            "Epoch 19/500\n",
            "2/2 [==============================] - 0s 9ms/step - loss: 10.3469 - mae: 10.3469\n",
            "Epoch 20/500\n",
            "2/2 [==============================] - 0s 5ms/step - loss: 17.6985 - mae: 17.6985\n",
            "Epoch 21/500\n",
            "2/2 [==============================] - 0s 9ms/step - loss: 15.8985 - mae: 15.8985\n",
            "Epoch 22/500\n",
            "2/2 [==============================] - 0s 6ms/step - loss: 14.1991 - mae: 14.1991\n",
            "Epoch 23/500\n",
            "2/2 [==============================] - 0s 8ms/step - loss: 8.7720 - mae: 8.7720\n",
            "Epoch 24/500\n",
            "2/2 [==============================] - 0s 7ms/step - loss: 11.0570 - mae: 11.0570\n",
            "Epoch 25/500\n",
            "2/2 [==============================] - 0s 6ms/step - loss: 12.6838 - mae: 12.6838\n",
            "Epoch 26/500\n",
            "2/2 [==============================] - 0s 8ms/step - loss: 26.1877 - mae: 26.1877\n",
            "Epoch 27/500\n",
            "2/2 [==============================] - 0s 6ms/step - loss: 11.7432 - mae: 11.7432\n",
            "Epoch 28/500\n",
            "2/2 [==============================] - 0s 6ms/step - loss: 22.8730 - mae: 22.8730\n",
            "Epoch 29/500\n",
            "2/2 [==============================] - 0s 6ms/step - loss: 9.2459 - mae: 9.2459\n",
            "Epoch 30/500\n",
            "2/2 [==============================] - 0s 6ms/step - loss: 29.2641 - mae: 29.2641\n",
            "Epoch 31/500\n",
            "2/2 [==============================] - 0s 11ms/step - loss: 53.0224 - mae: 53.0224\n",
            "Epoch 32/500\n",
            "2/2 [==============================] - 0s 6ms/step - loss: 11.9951 - mae: 11.9951\n",
            "Epoch 33/500\n",
            "2/2 [==============================] - 0s 5ms/step - loss: 15.6357 - mae: 15.6357\n",
            "Epoch 34/500\n",
            "2/2 [==============================] - 0s 3ms/step - loss: 12.6925 - mae: 12.6925\n",
            "Epoch 35/500\n",
            "2/2 [==============================] - 0s 5ms/step - loss: 9.2398 - mae: 9.2398\n",
            "Epoch 36/500\n",
            "2/2 [==============================] - 0s 4ms/step - loss: 16.6497 - mae: 16.6497\n",
            "Epoch 37/500\n",
            "2/2 [==============================] - 0s 5ms/step - loss: 11.0382 - mae: 11.0382\n",
            "Epoch 38/500\n",
            "2/2 [==============================] - 0s 4ms/step - loss: 18.1634 - mae: 18.1634\n",
            "Epoch 39/500\n",
            "2/2 [==============================] - 0s 7ms/step - loss: 19.1013 - mae: 19.1013\n",
            "Epoch 40/500\n",
            "2/2 [==============================] - 0s 3ms/step - loss: 20.4324 - mae: 20.4324\n",
            "Epoch 41/500\n",
            "2/2 [==============================] - 0s 6ms/step - loss: 14.9102 - mae: 14.9102\n",
            "Epoch 42/500\n",
            "2/2 [==============================] - 0s 7ms/step - loss: 12.2809 - mae: 12.2809\n",
            "Epoch 43/500\n",
            "2/2 [==============================] - 0s 4ms/step - loss: 10.7333 - mae: 10.7333\n",
            "Epoch 44/500\n",
            "2/2 [==============================] - 0s 10ms/step - loss: 23.0260 - mae: 23.0260\n",
            "Epoch 45/500\n",
            "2/2 [==============================] - 0s 6ms/step - loss: 10.3897 - mae: 10.3897\n",
            "Epoch 46/500\n",
            "2/2 [==============================] - 0s 7ms/step - loss: 11.7904 - mae: 11.7904\n",
            "Epoch 47/500\n",
            "2/2 [==============================] - 0s 8ms/step - loss: 9.6438 - mae: 9.6438\n",
            "Epoch 48/500\n",
            "2/2 [==============================] - 0s 6ms/step - loss: 17.2335 - mae: 17.2335\n",
            "Epoch 49/500\n",
            "2/2 [==============================] - 0s 6ms/step - loss: 9.5729 - mae: 9.5729\n",
            "Epoch 50/500\n",
            "2/2 [==============================] - 0s 6ms/step - loss: 13.8185 - mae: 13.8185\n",
            "Epoch 51/500\n",
            "2/2 [==============================] - 0s 8ms/step - loss: 11.5958 - mae: 11.5958\n",
            "Epoch 52/500\n",
            "2/2 [==============================] - 0s 7ms/step - loss: 30.5538 - mae: 30.5538\n",
            "Epoch 53/500\n",
            "2/2 [==============================] - 0s 7ms/step - loss: 14.3541 - mae: 14.3541\n",
            "Epoch 54/500\n",
            "2/2 [==============================] - 0s 6ms/step - loss: 23.9713 - mae: 23.9713\n",
            "Epoch 55/500\n",
            "2/2 [==============================] - 0s 6ms/step - loss: 23.1938 - mae: 23.1938\n",
            "Epoch 56/500\n",
            "2/2 [==============================] - 0s 6ms/step - loss: 10.8837 - mae: 10.8837\n",
            "Epoch 57/500\n",
            "2/2 [==============================] - 0s 6ms/step - loss: 12.7445 - mae: 12.7445\n",
            "Epoch 58/500\n",
            "2/2 [==============================] - 0s 10ms/step - loss: 9.5995 - mae: 9.5995\n",
            "Epoch 59/500\n",
            "2/2 [==============================] - 0s 5ms/step - loss: 12.5172 - mae: 12.5172\n",
            "Epoch 60/500\n",
            "2/2 [==============================] - 0s 5ms/step - loss: 12.3200 - mae: 12.3200\n",
            "Epoch 61/500\n",
            "2/2 [==============================] - 0s 5ms/step - loss: 17.4604 - mae: 17.4604\n",
            "Epoch 62/500\n",
            "2/2 [==============================] - 0s 5ms/step - loss: 10.6052 - mae: 10.6052\n",
            "Epoch 63/500\n",
            "2/2 [==============================] - 0s 5ms/step - loss: 10.4893 - mae: 10.4893\n",
            "Epoch 64/500\n",
            "2/2 [==============================] - 0s 5ms/step - loss: 24.8450 - mae: 24.8450\n",
            "Epoch 65/500\n",
            "2/2 [==============================] - 0s 5ms/step - loss: 10.6761 - mae: 10.6761\n",
            "Epoch 66/500\n",
            "2/2 [==============================] - 0s 12ms/step - loss: 21.7809 - mae: 21.7809\n",
            "Epoch 67/500\n",
            "2/2 [==============================] - 0s 7ms/step - loss: 10.7136 - mae: 10.7136\n",
            "Epoch 68/500\n",
            "2/2 [==============================] - 0s 8ms/step - loss: 10.6397 - mae: 10.6397\n",
            "Epoch 69/500\n",
            "2/2 [==============================] - 0s 6ms/step - loss: 22.6914 - mae: 22.6914\n",
            "Epoch 70/500\n",
            "2/2 [==============================] - 0s 7ms/step - loss: 9.3316 - mae: 9.3316\n",
            "Epoch 71/500\n",
            "2/2 [==============================] - 0s 7ms/step - loss: 15.4355 - mae: 15.4355\n",
            "Epoch 72/500\n",
            "2/2 [==============================] - 0s 6ms/step - loss: 6.7437 - mae: 6.7437\n",
            "Epoch 73/500\n",
            "2/2 [==============================] - 0s 5ms/step - loss: 11.6891 - mae: 11.6891\n",
            "Epoch 74/500\n",
            "2/2 [==============================] - 0s 9ms/step - loss: 24.0400 - mae: 24.0400\n",
            "Epoch 75/500\n",
            "2/2 [==============================] - 0s 6ms/step - loss: 9.5896 - mae: 9.5896\n",
            "Epoch 76/500\n",
            "2/2 [==============================] - 0s 7ms/step - loss: 12.4371 - mae: 12.4371\n",
            "Epoch 77/500\n",
            "2/2 [==============================] - 0s 9ms/step - loss: 16.6488 - mae: 16.6488\n",
            "Epoch 78/500\n",
            "2/2 [==============================] - 0s 9ms/step - loss: 9.0614 - mae: 9.0614\n",
            "Epoch 79/500\n",
            "2/2 [==============================] - 0s 6ms/step - loss: 23.9675 - mae: 23.9675\n",
            "Epoch 80/500\n",
            "2/2 [==============================] - 0s 5ms/step - loss: 26.7463 - mae: 26.7463\n",
            "Epoch 81/500\n",
            "2/2 [==============================] - 0s 6ms/step - loss: 11.6714 - mae: 11.6714\n",
            "Epoch 82/500\n",
            "2/2 [==============================] - 0s 7ms/step - loss: 12.0228 - mae: 12.0228\n",
            "Epoch 83/500\n",
            "2/2 [==============================] - 0s 5ms/step - loss: 17.4218 - mae: 17.4218\n",
            "Epoch 84/500\n",
            "2/2 [==============================] - 0s 8ms/step - loss: 7.2629 - mae: 7.2629\n",
            "Epoch 85/500\n",
            "2/2 [==============================] - 0s 8ms/step - loss: 14.9650 - mae: 14.9650\n",
            "Epoch 86/500\n",
            "2/2 [==============================] - 0s 14ms/step - loss: 15.2862 - mae: 15.2862\n",
            "Epoch 87/500\n",
            "2/2 [==============================] - 0s 5ms/step - loss: 19.1086 - mae: 19.1086\n",
            "Epoch 88/500\n",
            "2/2 [==============================] - 0s 11ms/step - loss: 29.8228 - mae: 29.8228\n",
            "Epoch 89/500\n",
            "2/2 [==============================] - 0s 6ms/step - loss: 10.1742 - mae: 10.1742\n",
            "Epoch 90/500\n",
            "2/2 [==============================] - 0s 5ms/step - loss: 21.5240 - mae: 21.5240\n",
            "Epoch 91/500\n",
            "2/2 [==============================] - 0s 6ms/step - loss: 10.5716 - mae: 10.5716\n",
            "Epoch 92/500\n",
            "2/2 [==============================] - 0s 5ms/step - loss: 18.3977 - mae: 18.3977\n",
            "Epoch 93/500\n",
            "2/2 [==============================] - 0s 6ms/step - loss: 7.4138 - mae: 7.4138\n",
            "Epoch 94/500\n",
            "2/2 [==============================] - 0s 5ms/step - loss: 17.7380 - mae: 17.7380\n",
            "Epoch 95/500\n",
            "2/2 [==============================] - 0s 5ms/step - loss: 11.1144 - mae: 11.1144\n",
            "Epoch 96/500\n",
            "2/2 [==============================] - 0s 5ms/step - loss: 19.4346 - mae: 19.4346\n",
            "Epoch 97/500\n",
            "2/2 [==============================] - 0s 5ms/step - loss: 12.1593 - mae: 12.1593\n",
            "Epoch 98/500\n",
            "2/2 [==============================] - 0s 5ms/step - loss: 11.5653 - mae: 11.5653\n",
            "Epoch 99/500\n",
            "2/2 [==============================] - 0s 7ms/step - loss: 13.8827 - mae: 13.8827\n",
            "Epoch 100/500\n",
            "2/2 [==============================] - 0s 7ms/step - loss: 20.2277 - mae: 20.2277\n",
            "Epoch 101/500\n",
            "2/2 [==============================] - 0s 4ms/step - loss: 11.4479 - mae: 11.4479\n",
            "Epoch 102/500\n",
            "2/2 [==============================] - 0s 6ms/step - loss: 17.4842 - mae: 17.4842\n",
            "Epoch 103/500\n",
            "2/2 [==============================] - 0s 4ms/step - loss: 7.0217 - mae: 7.0217\n",
            "Epoch 104/500\n",
            "2/2 [==============================] - 0s 4ms/step - loss: 23.5789 - mae: 23.5789\n",
            "Epoch 105/500\n",
            "2/2 [==============================] - 0s 4ms/step - loss: 16.8932 - mae: 16.8932\n",
            "Epoch 106/500\n",
            "2/2 [==============================] - 0s 4ms/step - loss: 9.2954 - mae: 9.2954\n",
            "Epoch 107/500\n",
            "2/2 [==============================] - 0s 9ms/step - loss: 25.3749 - mae: 25.3749\n",
            "Epoch 108/500\n",
            "2/2 [==============================] - 0s 5ms/step - loss: 13.4621 - mae: 13.4621\n",
            "Epoch 109/500\n",
            "2/2 [==============================] - 0s 7ms/step - loss: 9.5238 - mae: 9.5238\n",
            "Epoch 110/500\n",
            "2/2 [==============================] - 0s 6ms/step - loss: 9.6722 - mae: 9.6722\n",
            "Epoch 111/500\n",
            "2/2 [==============================] - 0s 6ms/step - loss: 14.5987 - mae: 14.5987\n",
            "Epoch 112/500\n",
            "2/2 [==============================] - 0s 6ms/step - loss: 9.5670 - mae: 9.5670\n",
            "Epoch 113/500\n",
            "2/2 [==============================] - 0s 6ms/step - loss: 17.8092 - mae: 17.8092\n",
            "Epoch 114/500\n",
            "2/2 [==============================] - 0s 4ms/step - loss: 17.1782 - mae: 17.1782\n",
            "Epoch 115/500\n",
            "2/2 [==============================] - 0s 5ms/step - loss: 11.1182 - mae: 11.1182\n",
            "Epoch 116/500\n",
            "2/2 [==============================] - 0s 4ms/step - loss: 23.3071 - mae: 23.3071\n",
            "Epoch 117/500\n",
            "2/2 [==============================] - 0s 5ms/step - loss: 9.6144 - mae: 9.6144\n",
            "Epoch 118/500\n",
            "2/2 [==============================] - 0s 4ms/step - loss: 10.6899 - mae: 10.6899\n",
            "Epoch 119/500\n",
            "2/2 [==============================] - 0s 5ms/step - loss: 8.0355 - mae: 8.0355\n",
            "Epoch 120/500\n",
            "2/2 [==============================] - 0s 6ms/step - loss: 29.6859 - mae: 29.6859\n",
            "Epoch 121/500\n",
            "2/2 [==============================] - 0s 7ms/step - loss: 8.0714 - mae: 8.0714\n",
            "Epoch 122/500\n",
            "2/2 [==============================] - 0s 6ms/step - loss: 28.3086 - mae: 28.3086\n",
            "Epoch 123/500\n",
            "2/2 [==============================] - 0s 7ms/step - loss: 32.9014 - mae: 32.9014\n",
            "Epoch 124/500\n",
            "2/2 [==============================] - 0s 7ms/step - loss: 19.6291 - mae: 19.6291\n",
            "Epoch 125/500\n",
            "2/2 [==============================] - 0s 9ms/step - loss: 7.0095 - mae: 7.0095\n",
            "Epoch 126/500\n",
            "2/2 [==============================] - 0s 7ms/step - loss: 21.8056 - mae: 21.8056\n",
            "Epoch 127/500\n",
            "2/2 [==============================] - 0s 5ms/step - loss: 7.9812 - mae: 7.9812\n",
            "Epoch 128/500\n",
            "2/2 [==============================] - 0s 5ms/step - loss: 21.0585 - mae: 21.0585\n",
            "Epoch 129/500\n",
            "2/2 [==============================] - 0s 6ms/step - loss: 9.0107 - mae: 9.0107\n",
            "Epoch 130/500\n",
            "2/2 [==============================] - 0s 9ms/step - loss: 24.0502 - mae: 24.0502\n",
            "Epoch 131/500\n",
            "2/2 [==============================] - 0s 6ms/step - loss: 9.7537 - mae: 9.7537\n",
            "Epoch 132/500\n",
            "2/2 [==============================] - 0s 5ms/step - loss: 18.3052 - mae: 18.3052\n",
            "Epoch 133/500\n",
            "2/2 [==============================] - 0s 6ms/step - loss: 7.5833 - mae: 7.5833\n",
            "Epoch 134/500\n",
            "2/2 [==============================] - 0s 5ms/step - loss: 18.5755 - mae: 18.5755\n",
            "Epoch 135/500\n",
            "2/2 [==============================] - 0s 6ms/step - loss: 10.5360 - mae: 10.5360\n",
            "Epoch 136/500\n",
            "2/2 [==============================] - 0s 5ms/step - loss: 18.2694 - mae: 18.2694\n",
            "Epoch 137/500\n",
            "2/2 [==============================] - 0s 5ms/step - loss: 23.1658 - mae: 23.1658\n",
            "Epoch 138/500\n",
            "2/2 [==============================] - 0s 5ms/step - loss: 9.1362 - mae: 9.1362\n",
            "Epoch 139/500\n",
            "2/2 [==============================] - 0s 12ms/step - loss: 8.9181 - mae: 8.9181\n",
            "Epoch 140/500\n",
            "2/2 [==============================] - 0s 5ms/step - loss: 16.4732 - mae: 16.4732\n",
            "Epoch 141/500\n",
            "2/2 [==============================] - 0s 5ms/step - loss: 8.4208 - mae: 8.4208\n",
            "Epoch 142/500\n",
            "2/2 [==============================] - 0s 8ms/step - loss: 36.9540 - mae: 36.9540\n",
            "Epoch 143/500\n",
            "2/2 [==============================] - 0s 5ms/step - loss: 25.5820 - mae: 25.5820\n",
            "Epoch 144/500\n",
            "2/2 [==============================] - 0s 8ms/step - loss: 9.5392 - mae: 9.5392\n",
            "Epoch 145/500\n",
            "2/2 [==============================] - 0s 5ms/step - loss: 26.6058 - mae: 26.6058\n",
            "Epoch 146/500\n",
            "2/2 [==============================] - 0s 4ms/step - loss: 8.7248 - mae: 8.7248\n",
            "Epoch 147/500\n",
            "2/2 [==============================] - 0s 5ms/step - loss: 15.6172 - mae: 15.6172\n",
            "Epoch 148/500\n",
            "2/2 [==============================] - 0s 9ms/step - loss: 18.3065 - mae: 18.3065\n",
            "Epoch 149/500\n",
            "2/2 [==============================] - 0s 5ms/step - loss: 8.1994 - mae: 8.1994\n",
            "Epoch 150/500\n",
            "2/2 [==============================] - 0s 6ms/step - loss: 7.4964 - mae: 7.4964\n",
            "Epoch 151/500\n",
            "2/2 [==============================] - 0s 4ms/step - loss: 18.3374 - mae: 18.3374\n",
            "Epoch 152/500\n",
            "2/2 [==============================] - 0s 5ms/step - loss: 10.2895 - mae: 10.2895\n",
            "Epoch 153/500\n",
            "2/2 [==============================] - 0s 5ms/step - loss: 29.6425 - mae: 29.6425\n",
            "Epoch 154/500\n",
            "2/2 [==============================] - 0s 5ms/step - loss: 10.5555 - mae: 10.5555\n",
            "Epoch 155/500\n",
            "2/2 [==============================] - 0s 5ms/step - loss: 15.4537 - mae: 15.4537\n",
            "Epoch 156/500\n",
            "2/2 [==============================] - 0s 5ms/step - loss: 17.0174 - mae: 17.0174\n",
            "Epoch 157/500\n",
            "2/2 [==============================] - 0s 14ms/step - loss: 32.8218 - mae: 32.8218\n",
            "Epoch 158/500\n",
            "2/2 [==============================] - 0s 5ms/step - loss: 10.7038 - mae: 10.7038\n",
            "Epoch 159/500\n",
            "2/2 [==============================] - 0s 8ms/step - loss: 8.9054 - mae: 8.9054\n",
            "Epoch 160/500\n",
            "2/2 [==============================] - 0s 9ms/step - loss: 22.1321 - mae: 22.1321\n",
            "Epoch 161/500\n",
            "2/2 [==============================] - 0s 10ms/step - loss: 11.7113 - mae: 11.7113\n",
            "Epoch 162/500\n",
            "2/2 [==============================] - 0s 5ms/step - loss: 21.5734 - mae: 21.5734\n",
            "Epoch 163/500\n",
            "2/2 [==============================] - 0s 5ms/step - loss: 19.2485 - mae: 19.2485\n",
            "Epoch 164/500\n",
            "2/2 [==============================] - 0s 4ms/step - loss: 11.0156 - mae: 11.0156\n",
            "Epoch 165/500\n",
            "2/2 [==============================] - 0s 5ms/step - loss: 9.6187 - mae: 9.6187\n",
            "Epoch 166/500\n",
            "2/2 [==============================] - 0s 5ms/step - loss: 21.5908 - mae: 21.5908\n",
            "Epoch 167/500\n",
            "2/2 [==============================] - 0s 5ms/step - loss: 26.2851 - mae: 26.2851\n",
            "Epoch 168/500\n",
            "2/2 [==============================] - 0s 6ms/step - loss: 9.8525 - mae: 9.8525\n",
            "Epoch 169/500\n",
            "2/2 [==============================] - 0s 5ms/step - loss: 22.5631 - mae: 22.5631\n",
            "Epoch 170/500\n",
            "2/2 [==============================] - 0s 5ms/step - loss: 10.1499 - mae: 10.1499\n",
            "Epoch 171/500\n",
            "2/2 [==============================] - 0s 5ms/step - loss: 18.0464 - mae: 18.0464\n",
            "Epoch 172/500\n",
            "2/2 [==============================] - 0s 9ms/step - loss: 28.8377 - mae: 28.8377\n",
            "Epoch 173/500\n",
            "2/2 [==============================] - 0s 5ms/step - loss: 16.5279 - mae: 16.5279\n",
            "Epoch 174/500\n",
            "2/2 [==============================] - 0s 5ms/step - loss: 11.2115 - mae: 11.2115\n",
            "Epoch 175/500\n",
            "2/2 [==============================] - 0s 4ms/step - loss: 27.5839 - mae: 27.5839\n",
            "Epoch 176/500\n",
            "2/2 [==============================] - 0s 5ms/step - loss: 8.2680 - mae: 8.2680\n",
            "Epoch 177/500\n",
            "2/2 [==============================] - 0s 4ms/step - loss: 9.2580 - mae: 9.2580\n",
            "Epoch 178/500\n",
            "2/2 [==============================] - 0s 5ms/step - loss: 18.1440 - mae: 18.1440\n",
            "Epoch 179/500\n",
            "2/2 [==============================] - 0s 5ms/step - loss: 10.5995 - mae: 10.5995\n",
            "Epoch 180/500\n",
            "2/2 [==============================] - 0s 4ms/step - loss: 7.8992 - mae: 7.8992\n",
            "Epoch 181/500\n",
            "2/2 [==============================] - 0s 6ms/step - loss: 17.4015 - mae: 17.4015\n",
            "Epoch 182/500\n",
            "2/2 [==============================] - 0s 6ms/step - loss: 11.0089 - mae: 11.0089\n",
            "Epoch 183/500\n",
            "2/2 [==============================] - 0s 4ms/step - loss: 11.7027 - mae: 11.7027\n",
            "Epoch 184/500\n",
            "2/2 [==============================] - 0s 5ms/step - loss: 30.4062 - mae: 30.4062\n",
            "Epoch 185/500\n",
            "2/2 [==============================] - 0s 6ms/step - loss: 7.5557 - mae: 7.5557\n",
            "Epoch 186/500\n",
            "2/2 [==============================] - 0s 11ms/step - loss: 15.9905 - mae: 15.9905\n",
            "Epoch 187/500\n",
            "2/2 [==============================] - 0s 4ms/step - loss: 8.5579 - mae: 8.5579\n",
            "Epoch 188/500\n",
            "2/2 [==============================] - 0s 4ms/step - loss: 28.7339 - mae: 28.7339\n",
            "Epoch 189/500\n",
            "2/2 [==============================] - 0s 5ms/step - loss: 13.1689 - mae: 13.1689\n",
            "Epoch 190/500\n",
            "2/2 [==============================] - 0s 12ms/step - loss: 18.3101 - mae: 18.3101\n",
            "Epoch 191/500\n",
            "2/2 [==============================] - 0s 6ms/step - loss: 13.7376 - mae: 13.7376\n",
            "Epoch 192/500\n",
            "2/2 [==============================] - 0s 5ms/step - loss: 13.7104 - mae: 13.7104\n",
            "Epoch 193/500\n",
            "2/2 [==============================] - 0s 5ms/step - loss: 28.5842 - mae: 28.5842\n",
            "Epoch 194/500\n",
            "2/2 [==============================] - 0s 4ms/step - loss: 7.0707 - mae: 7.0707\n",
            "Epoch 195/500\n",
            "2/2 [==============================] - 0s 4ms/step - loss: 7.0550 - mae: 7.0550\n",
            "Epoch 196/500\n",
            "2/2 [==============================] - 0s 4ms/step - loss: 22.0067 - mae: 22.0067\n",
            "Epoch 197/500\n",
            "2/2 [==============================] - 0s 5ms/step - loss: 20.8443 - mae: 20.8443\n",
            "Epoch 198/500\n",
            "2/2 [==============================] - 0s 5ms/step - loss: 12.4713 - mae: 12.4713\n",
            "Epoch 199/500\n",
            "2/2 [==============================] - 0s 5ms/step - loss: 17.9099 - mae: 17.9099\n",
            "Epoch 200/500\n",
            "2/2 [==============================] - 0s 5ms/step - loss: 13.7493 - mae: 13.7493\n",
            "Epoch 201/500\n",
            "2/2 [==============================] - 0s 6ms/step - loss: 5.4687 - mae: 5.4687\n",
            "Epoch 202/500\n",
            "2/2 [==============================] - 0s 5ms/step - loss: 13.7005 - mae: 13.7005\n",
            "Epoch 203/500\n",
            "2/2 [==============================] - 0s 4ms/step - loss: 9.4142 - mae: 9.4142\n",
            "Epoch 204/500\n",
            "2/2 [==============================] - 0s 5ms/step - loss: 20.9796 - mae: 20.9796\n",
            "Epoch 205/500\n",
            "2/2 [==============================] - 0s 4ms/step - loss: 9.5470 - mae: 9.5470\n",
            "Epoch 206/500\n",
            "2/2 [==============================] - 0s 5ms/step - loss: 11.7256 - mae: 11.7256\n",
            "Epoch 207/500\n",
            "2/2 [==============================] - 0s 5ms/step - loss: 14.3772 - mae: 14.3772\n",
            "Epoch 208/500\n",
            "2/2 [==============================] - 0s 4ms/step - loss: 14.8579 - mae: 14.8579\n",
            "Epoch 209/500\n",
            "2/2 [==============================] - 0s 4ms/step - loss: 14.9706 - mae: 14.9706\n",
            "Epoch 210/500\n",
            "2/2 [==============================] - 0s 5ms/step - loss: 17.8998 - mae: 17.8998\n",
            "Epoch 211/500\n",
            "2/2 [==============================] - 0s 5ms/step - loss: 9.8327 - mae: 9.8327\n",
            "Epoch 212/500\n",
            "2/2 [==============================] - 0s 4ms/step - loss: 18.3352 - mae: 18.3352\n",
            "Epoch 213/500\n",
            "2/2 [==============================] - 0s 5ms/step - loss: 15.0383 - mae: 15.0383\n",
            "Epoch 214/500\n",
            "2/2 [==============================] - 0s 9ms/step - loss: 14.5874 - mae: 14.5874\n",
            "Epoch 215/500\n",
            "2/2 [==============================] - 0s 5ms/step - loss: 23.3015 - mae: 23.3015\n",
            "Epoch 216/500\n",
            "2/2 [==============================] - 0s 11ms/step - loss: 13.3613 - mae: 13.3613\n",
            "Epoch 217/500\n",
            "2/2 [==============================] - 0s 6ms/step - loss: 9.8517 - mae: 9.8517\n",
            "Epoch 218/500\n",
            "2/2 [==============================] - 0s 5ms/step - loss: 12.5451 - mae: 12.5451\n",
            "Epoch 219/500\n",
            "2/2 [==============================] - 0s 6ms/step - loss: 4.9472 - mae: 4.9472\n",
            "Epoch 220/500\n",
            "2/2 [==============================] - 0s 5ms/step - loss: 7.1130 - mae: 7.1130\n",
            "Epoch 221/500\n",
            "2/2 [==============================] - 0s 5ms/step - loss: 35.4567 - mae: 35.4567\n",
            "Epoch 222/500\n",
            "2/2 [==============================] - 0s 8ms/step - loss: 34.8634 - mae: 34.8634\n",
            "Epoch 223/500\n",
            "2/2 [==============================] - 0s 14ms/step - loss: 7.9846 - mae: 7.9846\n",
            "Epoch 224/500\n",
            "2/2 [==============================] - 0s 7ms/step - loss: 14.7004 - mae: 14.7004\n",
            "Epoch 225/500\n",
            "2/2 [==============================] - 0s 5ms/step - loss: 16.7196 - mae: 16.7196\n",
            "Epoch 226/500\n",
            "2/2 [==============================] - 0s 4ms/step - loss: 15.9329 - mae: 15.9329\n",
            "Epoch 227/500\n",
            "2/2 [==============================] - 0s 5ms/step - loss: 16.1644 - mae: 16.1644\n",
            "Epoch 228/500\n",
            "2/2 [==============================] - 0s 5ms/step - loss: 13.9324 - mae: 13.9324\n",
            "Epoch 229/500\n",
            "2/2 [==============================] - 0s 4ms/step - loss: 18.0504 - mae: 18.0504\n",
            "Epoch 230/500\n",
            "2/2 [==============================] - 0s 4ms/step - loss: 15.6120 - mae: 15.6120\n",
            "Epoch 231/500\n",
            "2/2 [==============================] - 0s 5ms/step - loss: 21.2041 - mae: 21.2041\n",
            "Epoch 232/500\n",
            "2/2 [==============================] - 0s 5ms/step - loss: 25.2732 - mae: 25.2732\n",
            "Epoch 233/500\n",
            "2/2 [==============================] - 0s 5ms/step - loss: 16.3176 - mae: 16.3176\n",
            "Epoch 234/500\n",
            "2/2 [==============================] - 0s 5ms/step - loss: 7.2729 - mae: 7.2729\n",
            "Epoch 235/500\n",
            "2/2 [==============================] - 0s 10ms/step - loss: 16.9688 - mae: 16.9688\n",
            "Epoch 236/500\n",
            "2/2 [==============================] - 0s 5ms/step - loss: 7.1225 - mae: 7.1225\n",
            "Epoch 237/500\n",
            "2/2 [==============================] - 0s 5ms/step - loss: 9.2058 - mae: 9.2058\n",
            "Epoch 238/500\n",
            "2/2 [==============================] - 0s 7ms/step - loss: 8.0961 - mae: 8.0961\n",
            "Epoch 239/500\n",
            "2/2 [==============================] - 0s 5ms/step - loss: 17.0538 - mae: 17.0538\n",
            "Epoch 240/500\n",
            "2/2 [==============================] - 0s 5ms/step - loss: 8.8627 - mae: 8.8627\n",
            "Epoch 241/500\n",
            "2/2 [==============================] - 0s 4ms/step - loss: 13.1711 - mae: 13.1711\n",
            "Epoch 242/500\n",
            "2/2 [==============================] - 0s 4ms/step - loss: 8.7886 - mae: 8.7886\n",
            "Epoch 243/500\n",
            "2/2 [==============================] - 0s 4ms/step - loss: 18.8161 - mae: 18.8161\n",
            "Epoch 244/500\n",
            "2/2 [==============================] - 0s 5ms/step - loss: 14.0531 - mae: 14.0531\n",
            "Epoch 245/500\n",
            "2/2 [==============================] - 0s 4ms/step - loss: 14.6831 - mae: 14.6831\n",
            "Epoch 246/500\n",
            "2/2 [==============================] - 0s 4ms/step - loss: 15.8045 - mae: 15.8045\n",
            "Epoch 247/500\n",
            "2/2 [==============================] - 0s 5ms/step - loss: 17.6810 - mae: 17.6810\n",
            "Epoch 248/500\n",
            "2/2 [==============================] - 0s 4ms/step - loss: 13.2367 - mae: 13.2367\n",
            "Epoch 249/500\n",
            "2/2 [==============================] - 0s 5ms/step - loss: 14.5070 - mae: 14.5070\n",
            "Epoch 250/500\n",
            "2/2 [==============================] - 0s 5ms/step - loss: 23.2322 - mae: 23.2322\n",
            "Epoch 251/500\n",
            "2/2 [==============================] - 0s 5ms/step - loss: 9.3009 - mae: 9.3009\n",
            "Epoch 252/500\n",
            "2/2 [==============================] - 0s 4ms/step - loss: 36.6568 - mae: 36.6568\n",
            "Epoch 253/500\n",
            "2/2 [==============================] - 0s 4ms/step - loss: 21.8205 - mae: 21.8205\n",
            "Epoch 254/500\n",
            "2/2 [==============================] - 0s 4ms/step - loss: 7.2792 - mae: 7.2792\n",
            "Epoch 255/500\n",
            "2/2 [==============================] - 0s 5ms/step - loss: 24.7126 - mae: 24.7126\n",
            "Epoch 256/500\n",
            "2/2 [==============================] - 0s 5ms/step - loss: 12.4220 - mae: 12.4220\n",
            "Epoch 257/500\n",
            "2/2 [==============================] - 0s 4ms/step - loss: 10.5823 - mae: 10.5823\n",
            "Epoch 258/500\n",
            "2/2 [==============================] - 0s 4ms/step - loss: 14.4883 - mae: 14.4883\n",
            "Epoch 259/500\n",
            "2/2 [==============================] - 0s 5ms/step - loss: 8.6132 - mae: 8.6132\n",
            "Epoch 260/500\n",
            "2/2 [==============================] - 0s 5ms/step - loss: 43.0580 - mae: 43.0580\n",
            "Epoch 261/500\n",
            "2/2 [==============================] - 0s 4ms/step - loss: 18.4611 - mae: 18.4611\n",
            "Epoch 262/500\n",
            "2/2 [==============================] - 0s 7ms/step - loss: 6.8820 - mae: 6.8820\n",
            "Epoch 263/500\n",
            "2/2 [==============================] - 0s 9ms/step - loss: 13.7211 - mae: 13.7211\n",
            "Epoch 264/500\n",
            "2/2 [==============================] - 0s 5ms/step - loss: 21.0154 - mae: 21.0154\n",
            "Epoch 265/500\n",
            "2/2 [==============================] - 0s 4ms/step - loss: 19.3730 - mae: 19.3730\n",
            "Epoch 266/500\n",
            "2/2 [==============================] - 0s 4ms/step - loss: 11.4735 - mae: 11.4735\n",
            "Epoch 267/500\n",
            "2/2 [==============================] - 0s 5ms/step - loss: 7.5302 - mae: 7.5302\n",
            "Epoch 268/500\n",
            "2/2 [==============================] - 0s 5ms/step - loss: 21.6453 - mae: 21.6453\n",
            "Epoch 269/500\n",
            "2/2 [==============================] - 0s 5ms/step - loss: 33.1784 - mae: 33.1784\n",
            "Epoch 270/500\n",
            "2/2 [==============================] - 0s 5ms/step - loss: 10.0833 - mae: 10.0833\n",
            "Epoch 271/500\n",
            "2/2 [==============================] - 0s 5ms/step - loss: 12.1012 - mae: 12.1012\n",
            "Epoch 272/500\n",
            "2/2 [==============================] - 0s 5ms/step - loss: 26.1372 - mae: 26.1372\n",
            "Epoch 273/500\n",
            "2/2 [==============================] - 0s 4ms/step - loss: 12.1751 - mae: 12.1751\n",
            "Epoch 274/500\n",
            "2/2 [==============================] - 0s 4ms/step - loss: 13.3272 - mae: 13.3272\n",
            "Epoch 275/500\n",
            "2/2 [==============================] - 0s 5ms/step - loss: 29.3775 - mae: 29.3775\n",
            "Epoch 276/500\n",
            "2/2 [==============================] - 0s 5ms/step - loss: 7.3329 - mae: 7.3329\n",
            "Epoch 277/500\n",
            "2/2 [==============================] - 0s 4ms/step - loss: 31.1362 - mae: 31.1362\n",
            "Epoch 278/500\n",
            "2/2 [==============================] - 0s 4ms/step - loss: 12.3016 - mae: 12.3016\n",
            "Epoch 279/500\n",
            "2/2 [==============================] - 0s 5ms/step - loss: 16.4103 - mae: 16.4103\n",
            "Epoch 280/500\n",
            "2/2 [==============================] - 0s 5ms/step - loss: 21.9118 - mae: 21.9118\n",
            "Epoch 281/500\n",
            "2/2 [==============================] - 0s 4ms/step - loss: 22.1500 - mae: 22.1500\n",
            "Epoch 282/500\n",
            "2/2 [==============================] - 0s 5ms/step - loss: 7.7429 - mae: 7.7429\n",
            "Epoch 283/500\n",
            "2/2 [==============================] - 0s 4ms/step - loss: 8.1429 - mae: 8.1429\n",
            "Epoch 284/500\n",
            "2/2 [==============================] - 0s 4ms/step - loss: 24.9434 - mae: 24.9434\n",
            "Epoch 285/500\n",
            "2/2 [==============================] - 0s 4ms/step - loss: 13.6958 - mae: 13.6958\n",
            "Epoch 286/500\n",
            "2/2 [==============================] - 0s 5ms/step - loss: 6.8926 - mae: 6.8926\n",
            "Epoch 287/500\n",
            "2/2 [==============================] - 0s 4ms/step - loss: 24.5352 - mae: 24.5352\n",
            "Epoch 288/500\n",
            "2/2 [==============================] - 0s 4ms/step - loss: 20.1721 - mae: 20.1721\n",
            "Epoch 289/500\n",
            "2/2 [==============================] - 0s 5ms/step - loss: 11.9658 - mae: 11.9658\n",
            "Epoch 290/500\n",
            "2/2 [==============================] - 0s 5ms/step - loss: 16.5391 - mae: 16.5391\n",
            "Epoch 291/500\n",
            "2/2 [==============================] - 0s 5ms/step - loss: 16.8017 - mae: 16.8017\n",
            "Epoch 292/500\n",
            "2/2 [==============================] - 0s 5ms/step - loss: 9.4642 - mae: 9.4642\n",
            "Epoch 293/500\n",
            "2/2 [==============================] - 0s 8ms/step - loss: 15.2711 - mae: 15.2711\n",
            "Epoch 294/500\n",
            "2/2 [==============================] - 0s 8ms/step - loss: 22.7179 - mae: 22.7179\n",
            "Epoch 295/500\n",
            "2/2 [==============================] - 0s 5ms/step - loss: 17.9234 - mae: 17.9234\n",
            "Epoch 296/500\n",
            "2/2 [==============================] - 0s 4ms/step - loss: 6.1742 - mae: 6.1742\n",
            "Epoch 297/500\n",
            "2/2 [==============================] - 0s 18ms/step - loss: 10.9440 - mae: 10.9440\n",
            "Epoch 298/500\n",
            "2/2 [==============================] - 0s 7ms/step - loss: 23.1530 - mae: 23.1530\n",
            "Epoch 299/500\n",
            "2/2 [==============================] - 0s 7ms/step - loss: 17.7331 - mae: 17.7331\n",
            "Epoch 300/500\n",
            "2/2 [==============================] - 0s 9ms/step - loss: 6.9824 - mae: 6.9824\n",
            "Epoch 301/500\n",
            "2/2 [==============================] - 0s 7ms/step - loss: 25.1857 - mae: 25.1857\n",
            "Epoch 302/500\n",
            "2/2 [==============================] - 0s 8ms/step - loss: 8.9025 - mae: 8.9025\n",
            "Epoch 303/500\n",
            "2/2 [==============================] - 0s 9ms/step - loss: 17.7668 - mae: 17.7668\n",
            "Epoch 304/500\n",
            "2/2 [==============================] - 0s 7ms/step - loss: 11.0002 - mae: 11.0002\n",
            "Epoch 305/500\n",
            "2/2 [==============================] - 0s 12ms/step - loss: 12.9191 - mae: 12.9191\n",
            "Epoch 306/500\n",
            "2/2 [==============================] - 0s 10ms/step - loss: 8.4033 - mae: 8.4033\n",
            "Epoch 307/500\n",
            "2/2 [==============================] - 0s 6ms/step - loss: 13.6094 - mae: 13.6094\n",
            "Epoch 308/500\n",
            "2/2 [==============================] - 0s 8ms/step - loss: 7.4404 - mae: 7.4404\n",
            "Epoch 309/500\n",
            "2/2 [==============================] - 0s 9ms/step - loss: 9.4642 - mae: 9.4642\n",
            "Epoch 310/500\n",
            "2/2 [==============================] - 0s 7ms/step - loss: 10.7099 - mae: 10.7099\n",
            "Epoch 311/500\n",
            "2/2 [==============================] - 0s 9ms/step - loss: 13.2814 - mae: 13.2814\n",
            "Epoch 312/500\n",
            "2/2 [==============================] - 0s 9ms/step - loss: 29.9763 - mae: 29.9763\n",
            "Epoch 313/500\n",
            "2/2 [==============================] - 0s 8ms/step - loss: 7.6304 - mae: 7.6304\n",
            "Epoch 314/500\n",
            "2/2 [==============================] - 0s 9ms/step - loss: 9.9106 - mae: 9.9106\n",
            "Epoch 315/500\n",
            "2/2 [==============================] - 0s 8ms/step - loss: 23.7669 - mae: 23.7669\n",
            "Epoch 316/500\n",
            "2/2 [==============================] - 0s 6ms/step - loss: 16.3936 - mae: 16.3936\n",
            "Epoch 317/500\n",
            "2/2 [==============================] - 0s 8ms/step - loss: 21.0758 - mae: 21.0758\n",
            "Epoch 318/500\n",
            "2/2 [==============================] - 0s 5ms/step - loss: 7.9367 - mae: 7.9367\n",
            "Epoch 319/500\n",
            "2/2 [==============================] - 0s 5ms/step - loss: 17.9731 - mae: 17.9731\n",
            "Epoch 320/500\n",
            "2/2 [==============================] - 0s 4ms/step - loss: 10.2375 - mae: 10.2375\n",
            "Epoch 321/500\n",
            "2/2 [==============================] - 0s 11ms/step - loss: 8.3338 - mae: 8.3338\n",
            "Epoch 322/500\n",
            "2/2 [==============================] - 0s 5ms/step - loss: 5.0621 - mae: 5.0621\n",
            "Epoch 323/500\n",
            "2/2 [==============================] - 0s 5ms/step - loss: 23.5109 - mae: 23.5109\n",
            "Epoch 324/500\n",
            "2/2 [==============================] - 0s 5ms/step - loss: 6.8309 - mae: 6.8309\n",
            "Epoch 325/500\n",
            "2/2 [==============================] - 0s 14ms/step - loss: 16.3863 - mae: 16.3863\n",
            "Epoch 326/500\n",
            "2/2 [==============================] - 0s 4ms/step - loss: 7.5019 - mae: 7.5019\n",
            "Epoch 327/500\n",
            "2/2 [==============================] - 0s 5ms/step - loss: 20.0573 - mae: 20.0573\n",
            "Epoch 328/500\n",
            "2/2 [==============================] - 0s 5ms/step - loss: 13.7661 - mae: 13.7661\n",
            "Epoch 329/500\n",
            "2/2 [==============================] - 0s 11ms/step - loss: 16.8282 - mae: 16.8282\n",
            "Epoch 330/500\n",
            "2/2 [==============================] - 0s 12ms/step - loss: 7.0514 - mae: 7.0514\n",
            "Epoch 331/500\n",
            "2/2 [==============================] - 0s 5ms/step - loss: 21.4846 - mae: 21.4846\n",
            "Epoch 332/500\n",
            "2/2 [==============================] - 0s 5ms/step - loss: 12.2880 - mae: 12.2880\n",
            "Epoch 333/500\n",
            "2/2 [==============================] - 0s 5ms/step - loss: 11.8117 - mae: 11.8117\n",
            "Epoch 334/500\n",
            "2/2 [==============================] - 0s 12ms/step - loss: 8.3600 - mae: 8.3600\n",
            "Epoch 335/500\n",
            "2/2 [==============================] - 0s 5ms/step - loss: 12.4833 - mae: 12.4833\n",
            "Epoch 336/500\n",
            "2/2 [==============================] - 0s 5ms/step - loss: 32.2171 - mae: 32.2171\n",
            "Epoch 337/500\n",
            "2/2 [==============================] - 0s 5ms/step - loss: 10.4477 - mae: 10.4477\n",
            "Epoch 338/500\n",
            "2/2 [==============================] - 0s 12ms/step - loss: 19.6832 - mae: 19.6832\n",
            "Epoch 339/500\n",
            "2/2 [==============================] - 0s 5ms/step - loss: 35.0762 - mae: 35.0762\n",
            "Epoch 340/500\n",
            "2/2 [==============================] - 0s 5ms/step - loss: 10.4192 - mae: 10.4192\n",
            "Epoch 341/500\n",
            "2/2 [==============================] - 0s 5ms/step - loss: 9.7625 - mae: 9.7625\n",
            "Epoch 342/500\n",
            "2/2 [==============================] - 0s 10ms/step - loss: 11.9500 - mae: 11.9500\n",
            "Epoch 343/500\n",
            "2/2 [==============================] - 0s 5ms/step - loss: 9.3943 - mae: 9.3943\n",
            "Epoch 344/500\n",
            "2/2 [==============================] - 0s 5ms/step - loss: 5.6071 - mae: 5.6071\n",
            "Epoch 345/500\n",
            "2/2 [==============================] - 0s 6ms/step - loss: 37.4876 - mae: 37.4876\n",
            "Epoch 346/500\n",
            "2/2 [==============================] - 0s 10ms/step - loss: 16.8830 - mae: 16.8830\n",
            "Epoch 347/500\n",
            "2/2 [==============================] - 0s 5ms/step - loss: 12.8748 - mae: 12.8748\n",
            "Epoch 348/500\n",
            "2/2 [==============================] - 0s 11ms/step - loss: 8.1960 - mae: 8.1960\n",
            "Epoch 349/500\n",
            "2/2 [==============================] - 0s 6ms/step - loss: 13.5568 - mae: 13.5568\n",
            "Epoch 350/500\n",
            "2/2 [==============================] - 0s 9ms/step - loss: 15.4354 - mae: 15.4354\n",
            "Epoch 351/500\n",
            "2/2 [==============================] - 0s 10ms/step - loss: 32.9626 - mae: 32.9626\n",
            "Epoch 352/500\n",
            "2/2 [==============================] - 0s 11ms/step - loss: 14.2040 - mae: 14.2040\n",
            "Epoch 353/500\n",
            "2/2 [==============================] - 0s 10ms/step - loss: 15.9196 - mae: 15.9196\n",
            "Epoch 354/500\n",
            "2/2 [==============================] - 0s 9ms/step - loss: 19.0878 - mae: 19.0878\n",
            "Epoch 355/500\n",
            "2/2 [==============================] - 0s 9ms/step - loss: 34.1178 - mae: 34.1178\n",
            "Epoch 356/500\n",
            "2/2 [==============================] - 0s 7ms/step - loss: 7.6798 - mae: 7.6798\n",
            "Epoch 357/500\n",
            "2/2 [==============================] - 0s 8ms/step - loss: 25.2287 - mae: 25.2287\n",
            "Epoch 358/500\n",
            "2/2 [==============================] - 0s 10ms/step - loss: 22.6759 - mae: 22.6759\n",
            "Epoch 359/500\n",
            "2/2 [==============================] - 0s 7ms/step - loss: 8.8765 - mae: 8.8765\n",
            "Epoch 360/500\n",
            "2/2 [==============================] - 0s 10ms/step - loss: 21.4709 - mae: 21.4709\n",
            "Epoch 361/500\n",
            "2/2 [==============================] - 0s 9ms/step - loss: 20.6073 - mae: 20.6073\n",
            "Epoch 362/500\n",
            "2/2 [==============================] - 0s 8ms/step - loss: 7.0611 - mae: 7.0611\n",
            "Epoch 363/500\n",
            "2/2 [==============================] - 0s 5ms/step - loss: 25.8117 - mae: 25.8117\n",
            "Epoch 364/500\n",
            "2/2 [==============================] - 0s 8ms/step - loss: 32.2247 - mae: 32.2247\n",
            "Epoch 365/500\n",
            "2/2 [==============================] - 0s 7ms/step - loss: 10.0205 - mae: 10.0205\n",
            "Epoch 366/500\n",
            "2/2 [==============================] - 0s 12ms/step - loss: 9.6722 - mae: 9.6722\n",
            "Epoch 367/500\n",
            "2/2 [==============================] - 0s 5ms/step - loss: 30.4171 - mae: 30.4171\n",
            "Epoch 368/500\n",
            "2/2 [==============================] - 0s 4ms/step - loss: 10.5020 - mae: 10.5020\n",
            "Epoch 369/500\n",
            "2/2 [==============================] - 0s 5ms/step - loss: 14.9909 - mae: 14.9909\n",
            "Epoch 370/500\n",
            "2/2 [==============================] - 0s 5ms/step - loss: 14.6580 - mae: 14.6580\n",
            "Epoch 371/500\n",
            "2/2 [==============================] - 0s 4ms/step - loss: 23.3672 - mae: 23.3672\n",
            "Epoch 372/500\n",
            "2/2 [==============================] - 0s 7ms/step - loss: 13.1025 - mae: 13.1025\n",
            "Epoch 373/500\n",
            "2/2 [==============================] - 0s 6ms/step - loss: 9.2586 - mae: 9.2586\n",
            "Epoch 374/500\n",
            "2/2 [==============================] - 0s 8ms/step - loss: 9.6648 - mae: 9.6648\n",
            "Epoch 375/500\n",
            "2/2 [==============================] - 0s 5ms/step - loss: 13.0041 - mae: 13.0041\n",
            "Epoch 376/500\n",
            "2/2 [==============================] - 0s 5ms/step - loss: 14.8863 - mae: 14.8863\n",
            "Epoch 377/500\n",
            "2/2 [==============================] - 0s 11ms/step - loss: 14.7932 - mae: 14.7932\n",
            "Epoch 378/500\n",
            "2/2 [==============================] - 0s 9ms/step - loss: 16.2751 - mae: 16.2751\n",
            "Epoch 379/500\n",
            "2/2 [==============================] - 0s 11ms/step - loss: 20.8307 - mae: 20.8307\n",
            "Epoch 380/500\n",
            "2/2 [==============================] - 0s 6ms/step - loss: 33.5318 - mae: 33.5318\n",
            "Epoch 381/500\n",
            "2/2 [==============================] - 0s 9ms/step - loss: 8.2166 - mae: 8.2166\n",
            "Epoch 382/500\n",
            "2/2 [==============================] - 0s 12ms/step - loss: 13.0960 - mae: 13.0960\n",
            "Epoch 383/500\n",
            "2/2 [==============================] - 0s 13ms/step - loss: 8.3999 - mae: 8.3999\n",
            "Epoch 384/500\n",
            "2/2 [==============================] - 0s 11ms/step - loss: 7.1283 - mae: 7.1283\n",
            "Epoch 385/500\n",
            "2/2 [==============================] - 0s 8ms/step - loss: 10.9390 - mae: 10.9390\n",
            "Epoch 386/500\n",
            "2/2 [==============================] - 0s 10ms/step - loss: 19.7654 - mae: 19.7654\n",
            "Epoch 387/500\n",
            "2/2 [==============================] - 0s 9ms/step - loss: 24.8625 - mae: 24.8625\n",
            "Epoch 388/500\n",
            "2/2 [==============================] - 0s 4ms/step - loss: 8.7422 - mae: 8.7422\n",
            "Epoch 389/500\n",
            "2/2 [==============================] - 0s 4ms/step - loss: 5.9488 - mae: 5.9488\n",
            "Epoch 390/500\n",
            "2/2 [==============================] - 0s 5ms/step - loss: 24.4401 - mae: 24.4401\n",
            "Epoch 391/500\n",
            "2/2 [==============================] - 0s 4ms/step - loss: 5.9771 - mae: 5.9771\n",
            "Epoch 392/500\n",
            "2/2 [==============================] - 0s 9ms/step - loss: 16.3250 - mae: 16.3250\n",
            "Epoch 393/500\n",
            "2/2 [==============================] - 0s 5ms/step - loss: 6.0917 - mae: 6.0917\n",
            "Epoch 394/500\n",
            "2/2 [==============================] - 0s 5ms/step - loss: 11.0963 - mae: 11.0963\n",
            "Epoch 395/500\n",
            "2/2 [==============================] - 0s 4ms/step - loss: 14.9601 - mae: 14.9601\n",
            "Epoch 396/500\n",
            "2/2 [==============================] - 0s 5ms/step - loss: 7.6462 - mae: 7.6462\n",
            "Epoch 397/500\n",
            "2/2 [==============================] - 0s 5ms/step - loss: 8.7654 - mae: 8.7654\n",
            "Epoch 398/500\n",
            "2/2 [==============================] - 0s 5ms/step - loss: 14.5992 - mae: 14.5992\n",
            "Epoch 399/500\n",
            "2/2 [==============================] - 0s 8ms/step - loss: 11.3166 - mae: 11.3166\n",
            "Epoch 400/500\n",
            "2/2 [==============================] - 0s 4ms/step - loss: 21.9080 - mae: 21.9080\n",
            "Epoch 401/500\n",
            "2/2 [==============================] - 0s 4ms/step - loss: 14.8654 - mae: 14.8654\n",
            "Epoch 402/500\n",
            "2/2 [==============================] - 0s 5ms/step - loss: 8.4970 - mae: 8.4970\n",
            "Epoch 403/500\n",
            "2/2 [==============================] - 0s 7ms/step - loss: 10.3957 - mae: 10.3957\n",
            "Epoch 404/500\n",
            "2/2 [==============================] - 0s 7ms/step - loss: 10.2556 - mae: 10.2556\n",
            "Epoch 405/500\n",
            "2/2 [==============================] - 0s 4ms/step - loss: 6.3392 - mae: 6.3392\n",
            "Epoch 406/500\n",
            "2/2 [==============================] - 0s 4ms/step - loss: 17.4602 - mae: 17.4602\n",
            "Epoch 407/500\n",
            "2/2 [==============================] - 0s 4ms/step - loss: 11.4627 - mae: 11.4627\n",
            "Epoch 408/500\n",
            "2/2 [==============================] - 0s 4ms/step - loss: 20.7294 - mae: 20.7294\n",
            "Epoch 409/500\n",
            "2/2 [==============================] - 0s 4ms/step - loss: 31.3339 - mae: 31.3339\n",
            "Epoch 410/500\n",
            "2/2 [==============================] - 0s 4ms/step - loss: 9.2542 - mae: 9.2542\n",
            "Epoch 411/500\n",
            "2/2 [==============================] - 0s 4ms/step - loss: 14.8621 - mae: 14.8621\n",
            "Epoch 412/500\n",
            "2/2 [==============================] - 0s 3ms/step - loss: 21.7182 - mae: 21.7182\n",
            "Epoch 413/500\n",
            "2/2 [==============================] - 0s 4ms/step - loss: 12.6615 - mae: 12.6615\n",
            "Epoch 414/500\n",
            "2/2 [==============================] - 0s 4ms/step - loss: 6.0687 - mae: 6.0687\n",
            "Epoch 415/500\n",
            "2/2 [==============================] - 0s 7ms/step - loss: 13.2201 - mae: 13.2201\n",
            "Epoch 416/500\n",
            "2/2 [==============================] - 0s 4ms/step - loss: 27.4244 - mae: 27.4244\n",
            "Epoch 417/500\n",
            "2/2 [==============================] - 0s 5ms/step - loss: 10.6407 - mae: 10.6407\n",
            "Epoch 418/500\n",
            "2/2 [==============================] - 0s 10ms/step - loss: 12.8230 - mae: 12.8230\n",
            "Epoch 419/500\n",
            "2/2 [==============================] - 0s 4ms/step - loss: 15.8836 - mae: 15.8836\n",
            "Epoch 420/500\n",
            "2/2 [==============================] - 0s 4ms/step - loss: 24.7510 - mae: 24.7510\n",
            "Epoch 421/500\n",
            "2/2 [==============================] - 0s 9ms/step - loss: 17.3753 - mae: 17.3753\n",
            "Epoch 422/500\n",
            "2/2 [==============================] - 0s 4ms/step - loss: 7.8241 - mae: 7.8241\n",
            "Epoch 423/500\n",
            "2/2 [==============================] - 0s 4ms/step - loss: 25.3789 - mae: 25.3789\n",
            "Epoch 424/500\n",
            "2/2 [==============================] - 0s 8ms/step - loss: 15.1031 - mae: 15.1031\n",
            "Epoch 425/500\n",
            "2/2 [==============================] - 0s 8ms/step - loss: 7.1643 - mae: 7.1643\n",
            "Epoch 426/500\n",
            "2/2 [==============================] - 0s 4ms/step - loss: 20.3318 - mae: 20.3318\n",
            "Epoch 427/500\n",
            "2/2 [==============================] - 0s 4ms/step - loss: 6.3283 - mae: 6.3283\n",
            "Epoch 428/500\n",
            "2/2 [==============================] - 0s 4ms/step - loss: 12.9962 - mae: 12.9962\n",
            "Epoch 429/500\n",
            "2/2 [==============================] - 0s 3ms/step - loss: 10.7869 - mae: 10.7869\n",
            "Epoch 430/500\n",
            "2/2 [==============================] - 0s 3ms/step - loss: 11.4007 - mae: 11.4007\n",
            "Epoch 431/500\n",
            "2/2 [==============================] - 0s 4ms/step - loss: 10.6153 - mae: 10.6153\n",
            "Epoch 432/500\n",
            "2/2 [==============================] - 0s 6ms/step - loss: 11.4582 - mae: 11.4582\n",
            "Epoch 433/500\n",
            "2/2 [==============================] - 0s 4ms/step - loss: 11.3851 - mae: 11.3851\n",
            "Epoch 434/500\n",
            "2/2 [==============================] - 0s 4ms/step - loss: 30.3986 - mae: 30.3986\n",
            "Epoch 435/500\n",
            "2/2 [==============================] - 0s 4ms/step - loss: 10.5052 - mae: 10.5052\n",
            "Epoch 436/500\n",
            "2/2 [==============================] - 0s 6ms/step - loss: 28.8810 - mae: 28.8810\n",
            "Epoch 437/500\n",
            "2/2 [==============================] - 0s 8ms/step - loss: 8.5916 - mae: 8.5916\n",
            "Epoch 438/500\n",
            "2/2 [==============================] - 0s 4ms/step - loss: 12.7378 - mae: 12.7378\n",
            "Epoch 439/500\n",
            "2/2 [==============================] - 0s 4ms/step - loss: 33.6754 - mae: 33.6754\n",
            "Epoch 440/500\n",
            "2/2 [==============================] - 0s 9ms/step - loss: 15.0962 - mae: 15.0962\n",
            "Epoch 441/500\n",
            "2/2 [==============================] - 0s 5ms/step - loss: 17.4813 - mae: 17.4813\n",
            "Epoch 442/500\n",
            "2/2 [==============================] - 0s 3ms/step - loss: 22.3049 - mae: 22.3049\n",
            "Epoch 443/500\n",
            "2/2 [==============================] - 0s 4ms/step - loss: 23.5841 - mae: 23.5841\n",
            "Epoch 444/500\n",
            "2/2 [==============================] - 0s 4ms/step - loss: 11.0008 - mae: 11.0008\n",
            "Epoch 445/500\n",
            "2/2 [==============================] - 0s 4ms/step - loss: 14.9175 - mae: 14.9175\n",
            "Epoch 446/500\n",
            "2/2 [==============================] - 0s 4ms/step - loss: 17.9979 - mae: 17.9979\n",
            "Epoch 447/500\n",
            "2/2 [==============================] - 0s 4ms/step - loss: 5.4482 - mae: 5.4482\n",
            "Epoch 448/500\n",
            "2/2 [==============================] - 0s 4ms/step - loss: 10.0527 - mae: 10.0527\n",
            "Epoch 449/500\n",
            "2/2 [==============================] - 0s 3ms/step - loss: 14.0052 - mae: 14.0052\n",
            "Epoch 450/500\n",
            "2/2 [==============================] - 0s 4ms/step - loss: 16.7782 - mae: 16.7782\n",
            "Epoch 451/500\n",
            "2/2 [==============================] - 0s 4ms/step - loss: 14.2937 - mae: 14.2937\n",
            "Epoch 452/500\n",
            "2/2 [==============================] - 0s 4ms/step - loss: 30.6192 - mae: 30.6192\n",
            "Epoch 453/500\n",
            "2/2 [==============================] - 0s 4ms/step - loss: 7.6541 - mae: 7.6541\n",
            "Epoch 454/500\n",
            "2/2 [==============================] - 0s 4ms/step - loss: 28.1428 - mae: 28.1428\n",
            "Epoch 455/500\n",
            "2/2 [==============================] - 0s 4ms/step - loss: 8.0017 - mae: 8.0017\n",
            "Epoch 456/500\n",
            "2/2 [==============================] - 0s 3ms/step - loss: 10.3933 - mae: 10.3933\n",
            "Epoch 457/500\n",
            "2/2 [==============================] - 0s 4ms/step - loss: 15.0242 - mae: 15.0242\n",
            "Epoch 458/500\n",
            "2/2 [==============================] - 0s 4ms/step - loss: 16.5653 - mae: 16.5653\n",
            "Epoch 459/500\n",
            "2/2 [==============================] - 0s 4ms/step - loss: 26.8566 - mae: 26.8566\n",
            "Epoch 460/500\n",
            "2/2 [==============================] - 0s 9ms/step - loss: 12.4852 - mae: 12.4852\n",
            "Epoch 461/500\n",
            "2/2 [==============================] - 0s 4ms/step - loss: 12.4784 - mae: 12.4784\n",
            "Epoch 462/500\n",
            "2/2 [==============================] - 0s 5ms/step - loss: 13.3186 - mae: 13.3186\n",
            "Epoch 463/500\n",
            "2/2 [==============================] - 0s 8ms/step - loss: 29.5524 - mae: 29.5524\n",
            "Epoch 464/500\n",
            "2/2 [==============================] - 0s 4ms/step - loss: 3.4664 - mae: 3.4664\n",
            "Epoch 465/500\n",
            "2/2 [==============================] - 0s 4ms/step - loss: 15.2136 - mae: 15.2136\n",
            "Epoch 466/500\n",
            "2/2 [==============================] - 0s 4ms/step - loss: 20.8327 - mae: 20.8327\n",
            "Epoch 467/500\n",
            "2/2 [==============================] - 0s 4ms/step - loss: 30.5108 - mae: 30.5108\n",
            "Epoch 468/500\n",
            "2/2 [==============================] - 0s 4ms/step - loss: 11.0598 - mae: 11.0598\n",
            "Epoch 469/500\n",
            "2/2 [==============================] - 0s 7ms/step - loss: 12.8372 - mae: 12.8372\n",
            "Epoch 470/500\n",
            "2/2 [==============================] - 0s 5ms/step - loss: 3.2398 - mae: 3.2398\n",
            "Epoch 471/500\n",
            "2/2 [==============================] - 0s 8ms/step - loss: 16.6964 - mae: 16.6964\n",
            "Epoch 472/500\n",
            "2/2 [==============================] - 0s 4ms/step - loss: 13.3883 - mae: 13.3883\n",
            "Epoch 473/500\n",
            "2/2 [==============================] - 0s 4ms/step - loss: 15.2771 - mae: 15.2771\n",
            "Epoch 474/500\n",
            "2/2 [==============================] - 0s 5ms/step - loss: 11.7448 - mae: 11.7448\n",
            "Epoch 475/500\n",
            "2/2 [==============================] - 0s 5ms/step - loss: 16.4113 - mae: 16.4113\n",
            "Epoch 476/500\n",
            "2/2 [==============================] - 0s 6ms/step - loss: 13.8785 - mae: 13.8785\n",
            "Epoch 477/500\n",
            "2/2 [==============================] - 0s 4ms/step - loss: 30.6702 - mae: 30.6702\n",
            "Epoch 478/500\n",
            "2/2 [==============================] - 0s 4ms/step - loss: 8.5880 - mae: 8.5880\n",
            "Epoch 479/500\n",
            "2/2 [==============================] - 0s 4ms/step - loss: 10.7384 - mae: 10.7384\n",
            "Epoch 480/500\n",
            "2/2 [==============================] - 0s 5ms/step - loss: 17.9051 - mae: 17.9051\n",
            "Epoch 481/500\n",
            "2/2 [==============================] - 0s 9ms/step - loss: 15.8094 - mae: 15.8094\n",
            "Epoch 482/500\n",
            "2/2 [==============================] - 0s 5ms/step - loss: 21.3054 - mae: 21.3054\n",
            "Epoch 483/500\n",
            "2/2 [==============================] - 0s 9ms/step - loss: 25.3845 - mae: 25.3845\n",
            "Epoch 484/500\n",
            "2/2 [==============================] - 0s 7ms/step - loss: 23.9816 - mae: 23.9816\n",
            "Epoch 485/500\n",
            "2/2 [==============================] - 0s 7ms/step - loss: 5.7734 - mae: 5.7734\n",
            "Epoch 486/500\n",
            "2/2 [==============================] - 0s 6ms/step - loss: 20.0011 - mae: 20.0011\n",
            "Epoch 487/500\n",
            "2/2 [==============================] - 0s 6ms/step - loss: 14.0419 - mae: 14.0419\n",
            "Epoch 488/500\n",
            "2/2 [==============================] - 0s 6ms/step - loss: 30.6088 - mae: 30.6088\n",
            "Epoch 489/500\n",
            "2/2 [==============================] - 0s 7ms/step - loss: 11.9409 - mae: 11.9409\n",
            "Epoch 490/500\n",
            "2/2 [==============================] - 0s 8ms/step - loss: 12.7352 - mae: 12.7352\n",
            "Epoch 491/500\n",
            "2/2 [==============================] - 0s 8ms/step - loss: 23.6139 - mae: 23.6139\n",
            "Epoch 492/500\n",
            "2/2 [==============================] - 0s 8ms/step - loss: 20.5365 - mae: 20.5365\n",
            "Epoch 493/500\n",
            "2/2 [==============================] - 0s 6ms/step - loss: 4.9942 - mae: 4.9942\n",
            "Epoch 494/500\n",
            "2/2 [==============================] - 0s 7ms/step - loss: 12.7987 - mae: 12.7987\n",
            "Epoch 495/500\n",
            "2/2 [==============================] - 0s 6ms/step - loss: 13.3772 - mae: 13.3772\n",
            "Epoch 496/500\n",
            "2/2 [==============================] - 0s 7ms/step - loss: 12.6727 - mae: 12.6727\n",
            "Epoch 497/500\n",
            "2/2 [==============================] - 0s 5ms/step - loss: 17.6192 - mae: 17.6192\n",
            "Epoch 498/500\n",
            "2/2 [==============================] - 0s 7ms/step - loss: 23.5629 - mae: 23.5629\n",
            "Epoch 499/500\n",
            "2/2 [==============================] - 0s 6ms/step - loss: 9.3755 - mae: 9.3755\n",
            "Epoch 500/500\n",
            "2/2 [==============================] - 0s 5ms/step - loss: 14.6316 - mae: 14.6316\n"
          ]
        },
        {
          "output_type": "execute_result",
          "data": {
            "text/plain": [
              "<keras.callbacks.History at 0x7f3b61ef9b10>"
            ]
          },
          "metadata": {},
          "execution_count": 39
        }
      ]
    },
    {
      "cell_type": "code",
      "source": [
        "# Make and plot predictions for model_3\n",
        "y_preds_3 = model_3.predict(X_test)\n",
        "plot_predictions(predictions=y_preds_3)"
      ],
      "metadata": {
        "colab": {
          "base_uri": "https://localhost:8080/",
          "height": 0
        },
        "id": "ZAXAxPGbVivh",
        "outputId": "28ade35b-41c3-4c6a-a524-cc11905978e0"
      },
      "execution_count": 40,
      "outputs": [
        {
          "output_type": "stream",
          "name": "stdout",
          "text": [
            "1/1 [==============================] - 0s 69ms/step\n"
          ]
        },
        {
          "output_type": "display_data",
          "data": {
            "text/plain": [
              "<Figure size 720x504 with 1 Axes>"
            ],
            "image/png": "[encoded data removed]"
          },
          "metadata": {
            "needs_background": "light"
          }
        }
      ]
    },
    {
      "cell_type": "code",
      "source": [
        "# Calculate model_3 evaluate metrics\n",
        "mae_3 = mae(y_test,y_preds_3)\n",
        "mse_3 = mse(y_test,y_preds_3)\n",
        "mae_3, mse_3"
      ],
      "metadata": {
        "colab": {
          "base_uri": "https://localhost:8080/"
        },
        "id": "gPeqmJQ4V5ez",
        "outputId": "6705051f-83d1-4f99-ae6f-85344c57e927"
      },
      "execution_count": 41,
      "outputs": [
        {
          "output_type": "execute_result",
          "data": {
            "text/plain": [
              "(<tf.Tensor: shape=(), dtype=float32, numpy=68.713615>,\n",
              " <tf.Tensor: shape=(), dtype=float32, numpy=4808.0273>)"
            ]
          },
          "metadata": {},
          "execution_count": 41
        }
      ]
    },
    {
      "cell_type": "markdown",
      "source": [
        "# Comparing the results of our experiments\n",
        "We've run a few experiments, let's compare the results."
      ],
      "metadata": {
        "id": "9a_EPy1rWXJU"
      }
    },
    {
      "cell_type": "code",
      "source": [
        "# Let's compare our model's results using a pandas DataFrame\n",
        "import pandas as pd\n",
        "model_results = [[\"model_1\", mae_1.numpy(), mse_1.numpy()],\n",
        "                 [\"model_2\", mae_2.numpy(), mse_2.numpy()],\n",
        "                 [\"model_3\", mae_3.numpy(), mse_3.numpy()]]\n",
        "all_results = pd.DataFrame(model_results, columns=[\"model\", \"mae\", \"mse\"])\n",
        "all_results"
      ],
      "metadata": {
        "colab": {
          "base_uri": "https://localhost:8080/",
          "height": 143
        },
        "id": "mI0uGp3BekL0",
        "outputId": "9aa47307-33e8-4c49-dcd4-614519a560dc"
      },
      "execution_count": 42,
      "outputs": [
        {
          "output_type": "execute_result",
          "data": {
            "text/plain": [
              "     model        mae          mse\n",
              "0  model_1  18.745327   353.573364\n",
              "1  model_2   3.196940    13.070127\n",
              "2  model_3  68.713615  4808.027344"
            ],
            "text/html": [
              "\n",
              "  <div id=\"df-33afce79-a08c-43f9-adbb-cfc034c310c7\">\n",
              "    <div class=\"colab-df-container\">\n",
              "      <div>\n",
              "<style scoped>\n",
              "    .dataframe tbody tr th:only-of-type {\n",
              "        vertical-align: middle;\n",
              "    }\n",
              "\n",
              "    .dataframe tbody tr th {\n",
              "        vertical-align: top;\n",
              "    }\n",
              "\n",
              "    .dataframe thead th {\n",
              "        text-align: right;\n",
              "    }\n",
              "</style>\n",
              "<table border=\"1\" class=\"dataframe\">\n",
              "  <thead>\n",
              "    <tr style=\"text-align: right;\">\n",
              "      <th></th>\n",
              "      <th>model</th>\n",
              "      <th>mae</th>\n",
              "      <th>mse</th>\n",
              "    </tr>\n",
              "  </thead>\n",
              "  <tbody>\n",
              "    <tr>\n",
              "      <th>0</th>\n",
              "      <td>model_1</td>\n",
              "      <td>18.745327</td>\n",
              "      <td>353.573364</td>\n",
              "    </tr>\n",
              "    <tr>\n",
              "      <th>1</th>\n",
              "      <td>model_2</td>\n",
              "      <td>3.196940</td>\n",
              "      <td>13.070127</td>\n",
              "    </tr>\n",
              "    <tr>\n",
              "      <th>2</th>\n",
              "      <td>model_3</td>\n",
              "      <td>68.713615</td>\n",
              "      <td>4808.027344</td>\n",
              "    </tr>\n",
              "  </tbody>\n",
              "</table>\n",
              "</div>\n",
              "      <button class=\"colab-df-convert\" onclick=\"convertToInteractive('df-33afce79-a08c-43f9-adbb-cfc034c310c7')\"\n",
              "              title=\"Convert this dataframe to an interactive table.\"\n",
              "              style=\"display:none;\">\n",
              "        \n",
              "  <svg xmlns=\"http://www.w3.org/2000/svg\" height=\"24px\"viewBox=\"0 0 24 24\"\n",
              "       width=\"24px\">\n",
              "    <path d=\"M0 0h24v24H0V0z\" fill=\"none\"/>\n",
              "    <path d=\"M18.56 5.44l.94 2.06.94-2.06 2.06-.94-2.06-.94-.94-2.06-.94 2.06-2.06.94zm-11 1L8.5 8.5l.94-2.06 2.06-.94-2.06-.94L8.5 2.5l-.94 2.06-2.06.94zm10 10l.94 2.06.94-2.06 2.06-.94-2.06-.94-.94-2.06-.94 2.06-2.06.94z\"/><path d=\"M17.41 7.96l-1.37-1.37c-.4-.4-.92-.59-1.43-.59-.52 0-1.04.2-1.43.59L10.3 9.45l-7.72 7.72c-.78.78-.78 2.05 0 2.83L4 21.41c.39.39.9.59 1.41.59.51 0 1.02-.2 1.41-.59l7.78-7.78 2.81-2.81c.8-.78.8-2.07 0-2.86zM5.41 20L4 18.59l7.72-7.72 1.47 1.35L5.41 20z\"/>\n",
              "  </svg>\n",
              "      </button>\n",
              "      \n",
              "  <style>\n",
              "    .colab-df-container {\n",
              "      display:flex;\n",
              "      flex-wrap:wrap;\n",
              "      gap: 12px;\n",
              "    }\n",
              "\n",
              "    .colab-df-convert {\n",
              "      background-color: #E8F0FE;\n",
              "      border: none;\n",
              "      border-radius: 50%;\n",
              "      cursor: pointer;\n",
              "      display: none;\n",
              "      fill: #1967D2;\n",
              "      height: 32px;\n",
              "      padding: 0 0 0 0;\n",
              "      width: 32px;\n",
              "    }\n",
              "\n",
              "    .colab-df-convert:hover {\n",
              "      background-color: #E2EBFA;\n",
              "      box-shadow: 0px 1px 2px rgba(60, 64, 67, 0.3), 0px 1px 3px 1px rgba(60, 64, 67, 0.15);\n",
              "      fill: #174EA6;\n",
              "    }\n",
              "\n",
              "    [theme=dark] .colab-df-convert {\n",
              "      background-color: #3B4455;\n",
              "      fill: #D2E3FC;\n",
              "    }\n",
              "\n",
              "    [theme=dark] .colab-df-convert:hover {\n",
              "      background-color: #434B5C;\n",
              "      box-shadow: 0px 1px 3px 1px rgba(0, 0, 0, 0.15);\n",
              "      filter: drop-shadow(0px 1px 2px rgba(0, 0, 0, 0.3));\n",
              "      fill: #FFFFFF;\n",
              "    }\n",
              "  </style>\n",
              "\n",
              "      <script>\n",
              "        const buttonEl =\n",
              "          document.querySelector('#df-33afce79-a08c-43f9-adbb-cfc034c310c7 button.colab-df-convert');\n",
              "        buttonEl.style.display =\n",
              "          google.colab.kernel.accessAllowed ? 'block' : 'none';\n",
              "\n",
              "        async function convertToInteractive(key) {\n",
              "          const element = document.querySelector('#df-33afce79-a08c-43f9-adbb-cfc034c310c7');\n",
              "          const dataTable =\n",
              "            await google.colab.kernel.invokeFunction('convertToInteractive',\n",
              "                                                     [key], {});\n",
              "          if (!dataTable) return;\n",
              "\n",
              "          const docLinkHtml = 'Like what you see? Visit the ' +\n",
              "            '<a target=\"_blank\" href=https://colab.research.google.com/notebooks/data_table.ipynb>data table notebook</a>'\n",
              "            + ' to learn more about interactive tables.';\n",
              "          element.innerHTML = '';\n",
              "          dataTable['output_type'] = 'display_data';\n",
              "          await google.colab.output.renderOutput(dataTable, element);\n",
              "          const docLink = document.createElement('div');\n",
              "          docLink.innerHTML = docLinkHtml;\n",
              "          element.appendChild(docLink);\n",
              "        }\n",
              "      </script>\n",
              "    </div>\n",
              "  </div>\n",
              "  "
            ]
          },
          "metadata": {},
          "execution_count": 42
        }
      ]
    },
    {
      "cell_type": "markdown",
      "source": [
        "Looks like `model_2` performed the best\n",
        "\n",
        "* The more experiments you do, the more things you'll figure out which don't work and in turn, get closer to figuring out what does work.\n"
      ],
      "metadata": {
        "id": "L4OUlKwif9IH"
      }
    },
    {
      "cell_type": "code",
      "source": [
        "model_2.summary()"
      ],
      "metadata": {
        "colab": {
          "base_uri": "https://localhost:8080/"
        },
        "id": "66UIeZ9Bfus8",
        "outputId": "8082313f-45c4-4867-be52-7ae4593a3c6e"
      },
      "execution_count": 43,
      "outputs": [
        {
          "output_type": "stream",
          "name": "stdout",
          "text": [
            "Model: \"sequential_5\"\n",
            "_________________________________________________________________\n",
            " Layer (type)                Output Shape              Param #   \n",
            "=================================================================\n",
            " dense_8 (Dense)             (None, 10)                20        \n",
            "                                                                 \n",
            " dense_9 (Dense)             (None, 1)                 11        \n",
            "                                                                 \n",
            "=================================================================\n",
            "Total params: 31\n",
            "Trainable params: 31\n",
            "Non-trainable params: 0\n",
            "_________________________________________________________________\n"
          ]
        }
      ]
    },
    {
      "cell_type": "markdown",
      "source": [
        "## Tracking the experiments\n",
        "\n",
        "One really good habit in machine learning modelling is to track the results of your experiments.\n",
        "There are lots of tools to help us\n",
        "\n",
        "* TensorBoard - a component of the TensorFlow library to help track modelling experiments.\n",
        "* Weights & Biases - a tool for tracking all of kinds of machine learning experiments"
      ],
      "metadata": {
        "id": "uWGdVP-zguxP"
      }
    },
    {
      "cell_type": "markdown",
      "source": [
        "## Saving our model\n",
        "\n",
        "Saving our models allows us to use them outside of Google Colab (or whereever they were trained) such as in a web application or a mobile app.\n",
        "\n",
        "There are two main formats we can save our model's too: \n",
        "1. The SavedModel format\n",
        "2. The HDF5 format"
      ],
      "metadata": {
        "id": "zZ8ivURkiWHl"
      }
    },
    {
      "cell_type": "code",
      "source": [
        "# Save model using the SavedModel format\n",
        "model_2.save(\"best_model_SavedModel_format\")"
      ],
      "metadata": {
        "id": "SYswasl8kow7"
      },
      "execution_count": 44,
      "outputs": []
    },
    {
      "cell_type": "code",
      "source": [
        "# Save model using the HDF5 format \n",
        "model_2.save(\"best_model_HDF5_format.h5\")"
      ],
      "metadata": {
        "id": "RvglM64MlRJp"
      },
      "execution_count": 45,
      "outputs": []
    },
    {
      "cell_type": "markdown",
      "source": [
        "## Loading in a saved model"
      ],
      "metadata": {
        "id": "gmTI1gLEl2OE"
      }
    },
    {
      "cell_type": "code",
      "source": [
        "# load in the SavedModel format model\n",
        "load_SavedModel_format = tf.keras.models.load_model(\"best_model_SavedModel_format\")\n",
        "load_SavedModel_format.summary()"
      ],
      "metadata": {
        "colab": {
          "base_uri": "https://localhost:8080/"
        },
        "id": "a9uU32mBmWhD",
        "outputId": "320e424f-5549-4927-a18a-ea685ccb87a0"
      },
      "execution_count": 46,
      "outputs": [
        {
          "output_type": "stream",
          "name": "stdout",
          "text": [
            "Model: \"sequential_5\"\n",
            "_________________________________________________________________\n",
            " Layer (type)                Output Shape              Param #   \n",
            "=================================================================\n",
            " dense_8 (Dense)             (None, 10)                20        \n",
            "                                                                 \n",
            " dense_9 (Dense)             (None, 1)                 11        \n",
            "                                                                 \n",
            "=================================================================\n",
            "Total params: 31\n",
            "Trainable params: 31\n",
            "Non-trainable params: 0\n",
            "_________________________________________________________________\n"
          ]
        }
      ]
    },
    {
      "cell_type": "code",
      "source": [
        "model_2.summary()"
      ],
      "metadata": {
        "colab": {
          "base_uri": "https://localhost:8080/"
        },
        "id": "LydpFGsjhsaN",
        "outputId": "544c62ae-ae11-4839-8ab0-4decbc1682da"
      },
      "execution_count": 47,
      "outputs": [
        {
          "output_type": "stream",
          "name": "stdout",
          "text": [
            "Model: \"sequential_5\"\n",
            "_________________________________________________________________\n",
            " Layer (type)                Output Shape              Param #   \n",
            "=================================================================\n",
            " dense_8 (Dense)             (None, 10)                20        \n",
            "                                                                 \n",
            " dense_9 (Dense)             (None, 1)                 11        \n",
            "                                                                 \n",
            "=================================================================\n",
            "Total params: 31\n",
            "Trainable params: 31\n",
            "Non-trainable params: 0\n",
            "_________________________________________________________________\n"
          ]
        }
      ]
    },
    {
      "cell_type": "code",
      "source": [
        "# Compare model_2 predictions with SavedModel formate model predictions\n",
        "model_2_preds = model_2.predict(X_test)\n",
        "load_SavedModel_format_preds = load_SavedModel_format.predict(X_test)\n",
        "model_2_preds,load_SavedModel_format_preds, model_2_preds == load_SavedModel_format_preds"
      ],
      "metadata": {
        "colab": {
          "base_uri": "https://localhost:8080/"
        },
        "id": "ROX_bcRRiW12",
        "outputId": "3c851a4b-6c63-47a0-c8de-6ddc68249872"
      },
      "execution_count": 48,
      "outputs": [
        {
          "output_type": "stream",
          "name": "stdout",
          "text": [
            "1/1 [==============================] - 0s 34ms/step\n",
            "1/1 [==============================] - 0s 58ms/step\n"
          ]
        },
        {
          "output_type": "execute_result",
          "data": {
            "text/plain": [
              "(array([[ 70.552185],\n",
              "        [ 75.13991 ],\n",
              "        [ 79.72764 ],\n",
              "        [ 84.315346],\n",
              "        [ 88.90308 ],\n",
              "        [ 93.49081 ],\n",
              "        [ 98.07852 ],\n",
              "        [102.666245],\n",
              "        [107.253975],\n",
              "        [111.84169 ]], dtype=float32), array([[ 70.552185],\n",
              "        [ 75.13991 ],\n",
              "        [ 79.72764 ],\n",
              "        [ 84.315346],\n",
              "        [ 88.90308 ],\n",
              "        [ 93.49081 ],\n",
              "        [ 98.07852 ],\n",
              "        [102.666245],\n",
              "        [107.253975],\n",
              "        [111.84169 ]], dtype=float32), array([[ True],\n",
              "        [ True],\n",
              "        [ True],\n",
              "        [ True],\n",
              "        [ True],\n",
              "        [ True],\n",
              "        [ True],\n",
              "        [ True],\n",
              "        [ True],\n",
              "        [ True]]))"
            ]
          },
          "metadata": {},
          "execution_count": 48
        }
      ]
    },
    {
      "cell_type": "code",
      "source": [
        "mae(y_true = y_test, y_pred=model_2_preds) == mae(y_true = y_test, y_pred=load_SavedModel_format_preds)"
      ],
      "metadata": {
        "colab": {
          "base_uri": "https://localhost:8080/"
        },
        "id": "vFXyZjphjuE6",
        "outputId": "88612061-823b-440f-b545-bc16201429a1"
      },
      "execution_count": 49,
      "outputs": [
        {
          "output_type": "execute_result",
          "data": {
            "text/plain": [
              "<tf.Tensor: shape=(), dtype=bool, numpy=True>"
            ]
          },
          "metadata": {},
          "execution_count": 49
        }
      ]
    },
    {
      "cell_type": "code",
      "source": [
        "# load in the h5 format model\n",
        "load_h5_format = tf.keras.models.load_model(\"best_model_HDF5_format.h5\")\n",
        "model_2.summary()\n",
        "load_h5_format.summary()"
      ],
      "metadata": {
        "colab": {
          "base_uri": "https://localhost:8080/"
        },
        "id": "Ten6MD4txE-M",
        "outputId": "afd024cd-e620-4e28-980c-905651f447cb"
      },
      "execution_count": 50,
      "outputs": [
        {
          "output_type": "stream",
          "name": "stdout",
          "text": [
            "Model: \"sequential_5\"\n",
            "_________________________________________________________________\n",
            " Layer (type)                Output Shape              Param #   \n",
            "=================================================================\n",
            " dense_8 (Dense)             (None, 10)                20        \n",
            "                                                                 \n",
            " dense_9 (Dense)             (None, 1)                 11        \n",
            "                                                                 \n",
            "=================================================================\n",
            "Total params: 31\n",
            "Trainable params: 31\n",
            "Non-trainable params: 0\n",
            "_________________________________________________________________\n",
            "Model: \"sequential_5\"\n",
            "_________________________________________________________________\n",
            " Layer (type)                Output Shape              Param #   \n",
            "=================================================================\n",
            " dense_8 (Dense)             (None, 10)                20        \n",
            "                                                                 \n",
            " dense_9 (Dense)             (None, 1)                 11        \n",
            "                                                                 \n",
            "=================================================================\n",
            "Total params: 31\n",
            "Trainable params: 31\n",
            "Non-trainable params: 0\n",
            "_________________________________________________________________\n"
          ]
        }
      ]
    },
    {
      "cell_type": "code",
      "source": [
        "# Compare model_2 predictions with h5 formate model predictions\n",
        "model_2_preds = model_2.predict(X_test)\n",
        "load_h5_format_preds = load_h5_format.predict(X_test)\n",
        "model_2_preds,load_h5_format_preds, model_2_preds == load_h5_format_preds"
      ],
      "metadata": {
        "colab": {
          "base_uri": "https://localhost:8080/"
        },
        "id": "pW730rWUxjQO",
        "outputId": "14c5012b-d777-4c03-ce99-db3620ad3275"
      },
      "execution_count": 51,
      "outputs": [
        {
          "output_type": "stream",
          "name": "stdout",
          "text": [
            "1/1 [==============================] - 0s 20ms/step\n",
            "1/1 [==============================] - 0s 58ms/step\n"
          ]
        },
        {
          "output_type": "execute_result",
          "data": {
            "text/plain": [
              "(array([[ 70.552185],\n",
              "        [ 75.13991 ],\n",
              "        [ 79.72764 ],\n",
              "        [ 84.315346],\n",
              "        [ 88.90308 ],\n",
              "        [ 93.49081 ],\n",
              "        [ 98.07852 ],\n",
              "        [102.666245],\n",
              "        [107.253975],\n",
              "        [111.84169 ]], dtype=float32), array([[ 70.552185],\n",
              "        [ 75.13991 ],\n",
              "        [ 79.72764 ],\n",
              "        [ 84.315346],\n",
              "        [ 88.90308 ],\n",
              "        [ 93.49081 ],\n",
              "        [ 98.07852 ],\n",
              "        [102.666245],\n",
              "        [107.253975],\n",
              "        [111.84169 ]], dtype=float32), array([[ True],\n",
              "        [ True],\n",
              "        [ True],\n",
              "        [ True],\n",
              "        [ True],\n",
              "        [ True],\n",
              "        [ True],\n",
              "        [ True],\n",
              "        [ True],\n",
              "        [ True]]))"
            ]
          },
          "metadata": {},
          "execution_count": 51
        }
      ]
    },
    {
      "cell_type": "markdown",
      "source": [
        "## Download a model (or any other file )from Google Colab\n",
        "To download any file from Google Colab\n",
        "\n",
        "Option 1. Go to the \"files\" tab and right click on the file and click \"download\"\n",
        "\n",
        "Option 2. Use code (see the cell below)\n",
        "\n",
        "Option 3. Save to Google Drive by connection Google Drive and copying it there "
      ],
      "metadata": {
        "id": "P-gZfsZz12kL"
      }
    },
    {
      "cell_type": "code",
      "source": [
        "# Download a file from Google Colab\n",
        "from google.colab import files\n",
        "files.download(\"best_model_HDF5_format.h5\")"
      ],
      "metadata": {
        "colab": {
          "base_uri": "https://localhost:8080/",
          "height": 0
        },
        "id": "Z6vgdPFl2CG4",
        "outputId": "8d56eb2c-9a14-4bde-8855-b56e371196de"
      },
      "execution_count": 52,
      "outputs": [
        {
          "output_type": "display_data",
          "data": {
            "text/plain": [
              "<IPython.core.display.Javascript object>"
            ],
            "application/javascript": [
              "\n",
              "    async function download(id, filename, size) {\n",
              "      if (!google.colab.kernel.accessAllowed) {\n",
              "        return;\n",
              "      }\n",
              "      const div = document.createElement('div');\n",
              "      const label = document.createElement('label');\n",
              "      label.textContent = `Downloading \"${filename}\": `;\n",
              "      div.appendChild(label);\n",
              "      const progress = document.createElement('progress');\n",
              "      progress.max = size;\n",
              "      div.appendChild(progress);\n",
              "      document.body.appendChild(div);\n",
              "\n",
              "      const buffers = [];\n",
              "      let downloaded = 0;\n",
              "\n",
              "      const channel = await google.colab.kernel.comms.open(id);\n",
              "      // Send a message to notify the kernel that we're ready.\n",
              "      channel.send({})\n",
              "\n",
              "      for await (const message of channel.messages) {\n",
              "        // Send a message to notify the kernel that we're ready.\n",
              "        channel.send({})\n",
              "        if (message.buffers) {\n",
              "          for (const buffer of message.buffers) {\n",
              "            buffers.push(buffer);\n",
              "            downloaded += buffer.byteLength;\n",
              "            progress.value = downloaded;\n",
              "          }\n",
              "        }\n",
              "      }\n",
              "      const blob = new Blob(buffers, {type: 'application/binary'});\n",
              "      const a = document.createElement('a');\n",
              "      a.href = window.URL.createObjectURL(blob);\n",
              "      a.download = filename;\n",
              "      div.appendChild(a);\n",
              "      a.click();\n",
              "      div.remove();\n",
              "    }\n",
              "  "
            ]
          },
          "metadata": {}
        },
        {
          "output_type": "display_data",
          "data": {
            "text/plain": [
              "<IPython.core.display.Javascript object>"
            ],
            "application/javascript": [
              "download(\"download_de59362f-1cae-4865-a384-09d5ba285745\", \"best_model_HDF5_format.h5\", 17872)"
            ]
          },
          "metadata": {}
        }
      ]
    },
    {
      "cell_type": "markdown",
      "source": [
        "## Larger Example"
      ],
      "metadata": {
        "id": "RwA_KtoA4s58"
      }
    },
    {
      "cell_type": "code",
      "source": [
        "# Import required libraries\n",
        "import tensorflow as tf\n",
        "import pandas as pd\n",
        "import matplotlib.pyplot as plt"
      ],
      "metadata": {
        "id": "zOomtqIH5Egh"
      },
      "execution_count": 53,
      "outputs": []
    },
    {
      "cell_type": "code",
      "source": [
        "# Read in the insurance dataset\n",
        "insurance = pd.read_csv(\"https://raw.githubusercontent.com/stedy/Machine-Learning-with-R-datasets/master/insurance.csv\")\n",
        "insurance"
      ],
      "metadata": {
        "colab": {
          "base_uri": "https://localhost:8080/",
          "height": 0
        },
        "id": "GiMegIs45XKk",
        "outputId": "14d8a13b-93f8-4a36-f3bb-200e7b007181"
      },
      "execution_count": 54,
      "outputs": [
        {
          "output_type": "execute_result",
          "data": {
            "text/plain": [
              "      age     sex     bmi  children smoker     region      charges\n",
              "0      19  female  27.900         0    yes  southwest  16884.92400\n",
              "1      18    male  33.770         1     no  southeast   1725.55230\n",
              "2      28    male  33.000         3     no  southeast   4449.46200\n",
              "3      33    male  22.705         0     no  northwest  21984.47061\n",
              "4      32    male  28.880         0     no  northwest   3866.85520\n",
              "...   ...     ...     ...       ...    ...        ...          ...\n",
              "1333   50    male  30.970         3     no  northwest  10600.54830\n",
              "1334   18  female  31.920         0     no  northeast   2205.98080\n",
              "1335   18  female  36.850         0     no  southeast   1629.83350\n",
              "1336   21  female  25.800         0     no  southwest   2007.94500\n",
              "1337   61  female  29.070         0    yes  northwest  29141.36030\n",
              "\n",
              "[1338 rows x 7 columns]"
            ],
            "text/html": [
              "\n",
              "  <div id=\"df-58a9b407-3228-4394-8e0c-babb20705243\">\n",
              "    <div class=\"colab-df-container\">\n",
              "      <div>\n",
              "<style scoped>\n",
              "    .dataframe tbody tr th:only-of-type {\n",
              "        vertical-align: middle;\n",
              "    }\n",
              "\n",
              "    .dataframe tbody tr th {\n",
              "        vertical-align: top;\n",
              "    }\n",
              "\n",
              "    .dataframe thead th {\n",
              "        text-align: right;\n",
              "    }\n",
              "</style>\n",
              "<table border=\"1\" class=\"dataframe\">\n",
              "  <thead>\n",
              "    <tr style=\"text-align: right;\">\n",
              "      <th></th>\n",
              "      <th>age</th>\n",
              "      <th>sex</th>\n",
              "      <th>bmi</th>\n",
              "      <th>children</th>\n",
              "      <th>smoker</th>\n",
              "      <th>region</th>\n",
              "      <th>charges</th>\n",
              "    </tr>\n",
              "  </thead>\n",
              "  <tbody>\n",
              "    <tr>\n",
              "      <th>0</th>\n",
              "      <td>19</td>\n",
              "      <td>female</td>\n",
              "      <td>27.900</td>\n",
              "      <td>0</td>\n",
              "      <td>yes</td>\n",
              "      <td>southwest</td>\n",
              "      <td>16884.92400</td>\n",
              "    </tr>\n",
              "    <tr>\n",
              "      <th>1</th>\n",
              "      <td>18</td>\n",
              "      <td>male</td>\n",
              "      <td>33.770</td>\n",
              "      <td>1</td>\n",
              "      <td>no</td>\n",
              "      <td>southeast</td>\n",
              "      <td>1725.55230</td>\n",
              "    </tr>\n",
              "    <tr>\n",
              "      <th>2</th>\n",
              "      <td>28</td>\n",
              "      <td>male</td>\n",
              "      <td>33.000</td>\n",
              "      <td>3</td>\n",
              "      <td>no</td>\n",
              "      <td>southeast</td>\n",
              "      <td>4449.46200</td>\n",
              "    </tr>\n",
              "    <tr>\n",
              "      <th>3</th>\n",
              "      <td>33</td>\n",
              "      <td>male</td>\n",
              "      <td>22.705</td>\n",
              "      <td>0</td>\n",
              "      <td>no</td>\n",
              "      <td>northwest</td>\n",
              "      <td>21984.47061</td>\n",
              "    </tr>\n",
              "    <tr>\n",
              "      <th>4</th>\n",
              "      <td>32</td>\n",
              "      <td>male</td>\n",
              "      <td>28.880</td>\n",
              "      <td>0</td>\n",
              "      <td>no</td>\n",
              "      <td>northwest</td>\n",
              "      <td>3866.85520</td>\n",
              "    </tr>\n",
              "    <tr>\n",
              "      <th>...</th>\n",
              "      <td>...</td>\n",
              "      <td>...</td>\n",
              "      <td>...</td>\n",
              "      <td>...</td>\n",
              "      <td>...</td>\n",
              "      <td>...</td>\n",
              "      <td>...</td>\n",
              "    </tr>\n",
              "    <tr>\n",
              "      <th>1333</th>\n",
              "      <td>50</td>\n",
              "      <td>male</td>\n",
              "      <td>30.970</td>\n",
              "      <td>3</td>\n",
              "      <td>no</td>\n",
              "      <td>northwest</td>\n",
              "      <td>10600.54830</td>\n",
              "    </tr>\n",
              "    <tr>\n",
              "      <th>1334</th>\n",
              "      <td>18</td>\n",
              "      <td>female</td>\n",
              "      <td>31.920</td>\n",
              "      <td>0</td>\n",
              "      <td>no</td>\n",
              "      <td>northeast</td>\n",
              "      <td>2205.98080</td>\n",
              "    </tr>\n",
              "    <tr>\n",
              "      <th>1335</th>\n",
              "      <td>18</td>\n",
              "      <td>female</td>\n",
              "      <td>36.850</td>\n",
              "      <td>0</td>\n",
              "      <td>no</td>\n",
              "      <td>southeast</td>\n",
              "      <td>1629.83350</td>\n",
              "    </tr>\n",
              "    <tr>\n",
              "      <th>1336</th>\n",
              "      <td>21</td>\n",
              "      <td>female</td>\n",
              "      <td>25.800</td>\n",
              "      <td>0</td>\n",
              "      <td>no</td>\n",
              "      <td>southwest</td>\n",
              "      <td>2007.94500</td>\n",
              "    </tr>\n",
              "    <tr>\n",
              "      <th>1337</th>\n",
              "      <td>61</td>\n",
              "      <td>female</td>\n",
              "      <td>29.070</td>\n",
              "      <td>0</td>\n",
              "      <td>yes</td>\n",
              "      <td>northwest</td>\n",
              "      <td>29141.36030</td>\n",
              "    </tr>\n",
              "  </tbody>\n",
              "</table>\n",
              "<p>1338 rows × 7 columns</p>\n",
              "</div>\n",
              "      <button class=\"colab-df-convert\" onclick=\"convertToInteractive('df-58a9b407-3228-4394-8e0c-babb20705243')\"\n",
              "              title=\"Convert this dataframe to an interactive table.\"\n",
              "              style=\"display:none;\">\n",
              "        \n",
              "  <svg xmlns=\"http://www.w3.org/2000/svg\" height=\"24px\"viewBox=\"0 0 24 24\"\n",
              "       width=\"24px\">\n",
              "    <path d=\"M0 0h24v24H0V0z\" fill=\"none\"/>\n",
              "    <path d=\"M18.56 5.44l.94 2.06.94-2.06 2.06-.94-2.06-.94-.94-2.06-.94 2.06-2.06.94zm-11 1L8.5 8.5l.94-2.06 2.06-.94-2.06-.94L8.5 2.5l-.94 2.06-2.06.94zm10 10l.94 2.06.94-2.06 2.06-.94-2.06-.94-.94-2.06-.94 2.06-2.06.94z\"/><path d=\"M17.41 7.96l-1.37-1.37c-.4-.4-.92-.59-1.43-.59-.52 0-1.04.2-1.43.59L10.3 9.45l-7.72 7.72c-.78.78-.78 2.05 0 2.83L4 21.41c.39.39.9.59 1.41.59.51 0 1.02-.2 1.41-.59l7.78-7.78 2.81-2.81c.8-.78.8-2.07 0-2.86zM5.41 20L4 18.59l7.72-7.72 1.47 1.35L5.41 20z\"/>\n",
              "  </svg>\n",
              "      </button>\n",
              "      \n",
              "  <style>\n",
              "    .colab-df-container {\n",
              "      display:flex;\n",
              "      flex-wrap:wrap;\n",
              "      gap: 12px;\n",
              "    }\n",
              "\n",
              "    .colab-df-convert {\n",
              "      background-color: #E8F0FE;\n",
              "      border: none;\n",
              "      border-radius: 50%;\n",
              "      cursor: pointer;\n",
              "      display: none;\n",
              "      fill: #1967D2;\n",
              "      height: 32px;\n",
              "      padding: 0 0 0 0;\n",
              "      width: 32px;\n",
              "    }\n",
              "\n",
              "    .colab-df-convert:hover {\n",
              "      background-color: #E2EBFA;\n",
              "      box-shadow: 0px 1px 2px rgba(60, 64, 67, 0.3), 0px 1px 3px 1px rgba(60, 64, 67, 0.15);\n",
              "      fill: #174EA6;\n",
              "    }\n",
              "\n",
              "    [theme=dark] .colab-df-convert {\n",
              "      background-color: #3B4455;\n",
              "      fill: #D2E3FC;\n",
              "    }\n",
              "\n",
              "    [theme=dark] .colab-df-convert:hover {\n",
              "      background-color: #434B5C;\n",
              "      box-shadow: 0px 1px 3px 1px rgba(0, 0, 0, 0.15);\n",
              "      filter: drop-shadow(0px 1px 2px rgba(0, 0, 0, 0.3));\n",
              "      fill: #FFFFFF;\n",
              "    }\n",
              "  </style>\n",
              "\n",
              "      <script>\n",
              "        const buttonEl =\n",
              "          document.querySelector('#df-58a9b407-3228-4394-8e0c-babb20705243 button.colab-df-convert');\n",
              "        buttonEl.style.display =\n",
              "          google.colab.kernel.accessAllowed ? 'block' : 'none';\n",
              "\n",
              "        async function convertToInteractive(key) {\n",
              "          const element = document.querySelector('#df-58a9b407-3228-4394-8e0c-babb20705243');\n",
              "          const dataTable =\n",
              "            await google.colab.kernel.invokeFunction('convertToInteractive',\n",
              "                                                     [key], {});\n",
              "          if (!dataTable) return;\n",
              "\n",
              "          const docLinkHtml = 'Like what you see? Visit the ' +\n",
              "            '<a target=\"_blank\" href=https://colab.research.google.com/notebooks/data_table.ipynb>data table notebook</a>'\n",
              "            + ' to learn more about interactive tables.';\n",
              "          element.innerHTML = '';\n",
              "          dataTable['output_type'] = 'display_data';\n",
              "          await google.colab.output.renderOutput(dataTable, element);\n",
              "          const docLink = document.createElement('div');\n",
              "          docLink.innerHTML = docLinkHtml;\n",
              "          element.appendChild(docLink);\n",
              "        }\n",
              "      </script>\n",
              "    </div>\n",
              "  </div>\n",
              "  "
            ]
          },
          "metadata": {},
          "execution_count": 54
        }
      ]
    },
    {
      "cell_type": "code",
      "source": [
        "# try one-hote encoding the DataFrame\n",
        "insurance_one_hot = pd.get_dummies(insurance)\n",
        "insurance_one_hot.head()"
      ],
      "metadata": {
        "colab": {
          "base_uri": "https://localhost:8080/",
          "height": 0
        },
        "id": "Eq26Umg87X6L",
        "outputId": "bba62373-1a3c-4c0d-af84-e26ce0206707"
      },
      "execution_count": 55,
      "outputs": [
        {
          "output_type": "execute_result",
          "data": {
            "text/plain": [
              "   age     bmi  children      charges  sex_female  sex_male  smoker_no  \\\n",
              "0   19  27.900         0  16884.92400           1         0          0   \n",
              "1   18  33.770         1   1725.55230           0         1          1   \n",
              "2   28  33.000         3   4449.46200           0         1          1   \n",
              "3   33  22.705         0  21984.47061           0         1          1   \n",
              "4   32  28.880         0   3866.85520           0         1          1   \n",
              "\n",
              "   smoker_yes  region_northeast  region_northwest  region_southeast  \\\n",
              "0           1                 0                 0                 0   \n",
              "1           0                 0                 0                 1   \n",
              "2           0                 0                 0                 1   \n",
              "3           0                 0                 1                 0   \n",
              "4           0                 0                 1                 0   \n",
              "\n",
              "   region_southwest  \n",
              "0                 1  \n",
              "1                 0  \n",
              "2                 0  \n",
              "3                 0  \n",
              "4                 0  "
            ],
            "text/html": [
              "\n",
              "  <div id=\"df-66d36e0f-0918-4857-a8c4-1efbf262c378\">\n",
              "    <div class=\"colab-df-container\">\n",
              "      <div>\n",
              "<style scoped>\n",
              "    .dataframe tbody tr th:only-of-type {\n",
              "        vertical-align: middle;\n",
              "    }\n",
              "\n",
              "    .dataframe tbody tr th {\n",
              "        vertical-align: top;\n",
              "    }\n",
              "\n",
              "    .dataframe thead th {\n",
              "        text-align: right;\n",
              "    }\n",
              "</style>\n",
              "<table border=\"1\" class=\"dataframe\">\n",
              "  <thead>\n",
              "    <tr style=\"text-align: right;\">\n",
              "      <th></th>\n",
              "      <th>age</th>\n",
              "      <th>bmi</th>\n",
              "      <th>children</th>\n",
              "      <th>charges</th>\n",
              "      <th>sex_female</th>\n",
              "      <th>sex_male</th>\n",
              "      <th>smoker_no</th>\n",
              "      <th>smoker_yes</th>\n",
              "      <th>region_northeast</th>\n",
              "      <th>region_northwest</th>\n",
              "      <th>region_southeast</th>\n",
              "      <th>region_southwest</th>\n",
              "    </tr>\n",
              "  </thead>\n",
              "  <tbody>\n",
              "    <tr>\n",
              "      <th>0</th>\n",
              "      <td>19</td>\n",
              "      <td>27.900</td>\n",
              "      <td>0</td>\n",
              "      <td>16884.92400</td>\n",
              "      <td>1</td>\n",
              "      <td>0</td>\n",
              "      <td>0</td>\n",
              "      <td>1</td>\n",
              "      <td>0</td>\n",
              "      <td>0</td>\n",
              "      <td>0</td>\n",
              "      <td>1</td>\n",
              "    </tr>\n",
              "    <tr>\n",
              "      <th>1</th>\n",
              "      <td>18</td>\n",
              "      <td>33.770</td>\n",
              "      <td>1</td>\n",
              "      <td>1725.55230</td>\n",
              "      <td>0</td>\n",
              "      <td>1</td>\n",
              "      <td>1</td>\n",
              "      <td>0</td>\n",
              "      <td>0</td>\n",
              "      <td>0</td>\n",
              "      <td>1</td>\n",
              "      <td>0</td>\n",
              "    </tr>\n",
              "    <tr>\n",
              "      <th>2</th>\n",
              "      <td>28</td>\n",
              "      <td>33.000</td>\n",
              "      <td>3</td>\n",
              "      <td>4449.46200</td>\n",
              "      <td>0</td>\n",
              "      <td>1</td>\n",
              "      <td>1</td>\n",
              "      <td>0</td>\n",
              "      <td>0</td>\n",
              "      <td>0</td>\n",
              "      <td>1</td>\n",
              "      <td>0</td>\n",
              "    </tr>\n",
              "    <tr>\n",
              "      <th>3</th>\n",
              "      <td>33</td>\n",
              "      <td>22.705</td>\n",
              "      <td>0</td>\n",
              "      <td>21984.47061</td>\n",
              "      <td>0</td>\n",
              "      <td>1</td>\n",
              "      <td>1</td>\n",
              "      <td>0</td>\n",
              "      <td>0</td>\n",
              "      <td>1</td>\n",
              "      <td>0</td>\n",
              "      <td>0</td>\n",
              "    </tr>\n",
              "    <tr>\n",
              "      <th>4</th>\n",
              "      <td>32</td>\n",
              "      <td>28.880</td>\n",
              "      <td>0</td>\n",
              "      <td>3866.85520</td>\n",
              "      <td>0</td>\n",
              "      <td>1</td>\n",
              "      <td>1</td>\n",
              "      <td>0</td>\n",
              "      <td>0</td>\n",
              "      <td>1</td>\n",
              "      <td>0</td>\n",
              "      <td>0</td>\n",
              "    </tr>\n",
              "  </tbody>\n",
              "</table>\n",
              "</div>\n",
              "      <button class=\"colab-df-convert\" onclick=\"convertToInteractive('df-66d36e0f-0918-4857-a8c4-1efbf262c378')\"\n",
              "              title=\"Convert this dataframe to an interactive table.\"\n",
              "              style=\"display:none;\">\n",
              "        \n",
              "  <svg xmlns=\"http://www.w3.org/2000/svg\" height=\"24px\"viewBox=\"0 0 24 24\"\n",
              "       width=\"24px\">\n",
              "    <path d=\"M0 0h24v24H0V0z\" fill=\"none\"/>\n",
              "    <path d=\"M18.56 5.44l.94 2.06.94-2.06 2.06-.94-2.06-.94-.94-2.06-.94 2.06-2.06.94zm-11 1L8.5 8.5l.94-2.06 2.06-.94-2.06-.94L8.5 2.5l-.94 2.06-2.06.94zm10 10l.94 2.06.94-2.06 2.06-.94-2.06-.94-.94-2.06-.94 2.06-2.06.94z\"/><path d=\"M17.41 7.96l-1.37-1.37c-.4-.4-.92-.59-1.43-.59-.52 0-1.04.2-1.43.59L10.3 9.45l-7.72 7.72c-.78.78-.78 2.05 0 2.83L4 21.41c.39.39.9.59 1.41.59.51 0 1.02-.2 1.41-.59l7.78-7.78 2.81-2.81c.8-.78.8-2.07 0-2.86zM5.41 20L4 18.59l7.72-7.72 1.47 1.35L5.41 20z\"/>\n",
              "  </svg>\n",
              "      </button>\n",
              "      \n",
              "  <style>\n",
              "    .colab-df-container {\n",
              "      display:flex;\n",
              "      flex-wrap:wrap;\n",
              "      gap: 12px;\n",
              "    }\n",
              "\n",
              "    .colab-df-convert {\n",
              "      background-color: #E8F0FE;\n",
              "      border: none;\n",
              "      border-radius: 50%;\n",
              "      cursor: pointer;\n",
              "      display: none;\n",
              "      fill: #1967D2;\n",
              "      height: 32px;\n",
              "      padding: 0 0 0 0;\n",
              "      width: 32px;\n",
              "    }\n",
              "\n",
              "    .colab-df-convert:hover {\n",
              "      background-color: #E2EBFA;\n",
              "      box-shadow: 0px 1px 2px rgba(60, 64, 67, 0.3), 0px 1px 3px 1px rgba(60, 64, 67, 0.15);\n",
              "      fill: #174EA6;\n",
              "    }\n",
              "\n",
              "    [theme=dark] .colab-df-convert {\n",
              "      background-color: #3B4455;\n",
              "      fill: #D2E3FC;\n",
              "    }\n",
              "\n",
              "    [theme=dark] .colab-df-convert:hover {\n",
              "      background-color: #434B5C;\n",
              "      box-shadow: 0px 1px 3px 1px rgba(0, 0, 0, 0.15);\n",
              "      filter: drop-shadow(0px 1px 2px rgba(0, 0, 0, 0.3));\n",
              "      fill: #FFFFFF;\n",
              "    }\n",
              "  </style>\n",
              "\n",
              "      <script>\n",
              "        const buttonEl =\n",
              "          document.querySelector('#df-66d36e0f-0918-4857-a8c4-1efbf262c378 button.colab-df-convert');\n",
              "        buttonEl.style.display =\n",
              "          google.colab.kernel.accessAllowed ? 'block' : 'none';\n",
              "\n",
              "        async function convertToInteractive(key) {\n",
              "          const element = document.querySelector('#df-66d36e0f-0918-4857-a8c4-1efbf262c378');\n",
              "          const dataTable =\n",
              "            await google.colab.kernel.invokeFunction('convertToInteractive',\n",
              "                                                     [key], {});\n",
              "          if (!dataTable) return;\n",
              "\n",
              "          const docLinkHtml = 'Like what you see? Visit the ' +\n",
              "            '<a target=\"_blank\" href=https://colab.research.google.com/notebooks/data_table.ipynb>data table notebook</a>'\n",
              "            + ' to learn more about interactive tables.';\n",
              "          element.innerHTML = '';\n",
              "          dataTable['output_type'] = 'display_data';\n",
              "          await google.colab.output.renderOutput(dataTable, element);\n",
              "          const docLink = document.createElement('div');\n",
              "          docLink.innerHTML = docLinkHtml;\n",
              "          element.appendChild(docLink);\n",
              "        }\n",
              "      </script>\n",
              "    </div>\n",
              "  </div>\n",
              "  "
            ]
          },
          "metadata": {},
          "execution_count": 55
        }
      ]
    },
    {
      "cell_type": "code",
      "source": [
        "# Create X & y values (features and labels)\n",
        "X = insurance_one_hot.drop(\"charges\", axis=1)\n",
        "y = insurance_one_hot[\"charges\"]\n",
        "# View X, y\n",
        "X.head(), y.head()"
      ],
      "metadata": {
        "colab": {
          "base_uri": "https://localhost:8080/"
        },
        "id": "RJo_IwgD8SkE",
        "outputId": "6bb94aca-e07c-4d25-edaf-fb832759a2c1"
      },
      "execution_count": 56,
      "outputs": [
        {
          "output_type": "execute_result",
          "data": {
            "text/plain": [
              "(   age     bmi  children  sex_female  sex_male  smoker_no  smoker_yes  \\\n",
              " 0   19  27.900         0           1         0          0           1   \n",
              " 1   18  33.770         1           0         1          1           0   \n",
              " 2   28  33.000         3           0         1          1           0   \n",
              " 3   33  22.705         0           0         1          1           0   \n",
              " 4   32  28.880         0           0         1          1           0   \n",
              " \n",
              "    region_northeast  region_northwest  region_southeast  region_southwest  \n",
              " 0                 0                 0                 0                 1  \n",
              " 1                 0                 0                 1                 0  \n",
              " 2                 0                 0                 1                 0  \n",
              " 3                 0                 1                 0                 0  \n",
              " 4                 0                 1                 0                 0  ,\n",
              " 0    16884.92400\n",
              " 1     1725.55230\n",
              " 2     4449.46200\n",
              " 3    21984.47061\n",
              " 4     3866.85520\n",
              " Name: charges, dtype: float64)"
            ]
          },
          "metadata": {},
          "execution_count": 56
        }
      ]
    },
    {
      "cell_type": "code",
      "source": [
        "# Create training and test sets\n",
        "from sklearn.model_selection import train_test_split\n",
        "X_train, X_test, y_train, y_test  = train_test_split(X,y,test_size=0.2, random_state=42)\n",
        "len(X), len(X_train), len(X_test), len(y_train), len(y_test )"
      ],
      "metadata": {
        "colab": {
          "base_uri": "https://localhost:8080/"
        },
        "id": "-SkD9ge384J6",
        "outputId": "bec50c74-1252-4161-aa74-ba5bf962d95e"
      },
      "execution_count": 57,
      "outputs": [
        {
          "output_type": "execute_result",
          "data": {
            "text/plain": [
              "(1338, 1070, 268, 1070, 268)"
            ]
          },
          "metadata": {},
          "execution_count": 57
        }
      ]
    },
    {
      "cell_type": "code",
      "source": [
        "# Build a neural network\n",
        "# Set random seed\n",
        "tf.random.set_seed(42)\n",
        "\n",
        "# 1. Create the model\n",
        "insurance_model = tf.keras.Sequential([\n",
        "  tf.keras.layers.Dense(10),\n",
        "  tf.keras.layers.Dense(1)\n",
        "])\n",
        "# 2. Compile the model\n",
        "insurance_model.compile(loss = tf.keras.losses.mae,\n",
        "                optimizer = tf.keras.optimizers.SGD(),\n",
        "                metrics=[\"mae\"])\n",
        "# 3. Fit the model\n",
        "insurance_model.fit(X_train, y_train, epochs=100)"
      ],
      "metadata": {
        "colab": {
          "base_uri": "https://localhost:8080/"
        },
        "id": "dYGCTDHk870G",
        "outputId": "6c090ed3-ede3-4111-b4fd-63f3da9e53a8"
      },
      "execution_count": 58,
      "outputs": [
        {
          "output_type": "stream",
          "name": "stdout",
          "text": [
            "Epoch 1/100\n",
            "34/34 [==============================] - 0s 2ms/step - loss: 8637.0996 - mae: 8637.0996\n",
            "Epoch 2/100\n",
            "34/34 [==============================] - 0s 2ms/step - loss: 7886.7769 - mae: 7886.7769\n",
            "Epoch 3/100\n",
            "34/34 [==============================] - 0s 1ms/step - loss: 7558.1475 - mae: 7558.1475\n",
            "Epoch 4/100\n",
            "34/34 [==============================] - 0s 2ms/step - loss: 7792.0220 - mae: 7792.0220\n",
            "Epoch 5/100\n",
            "34/34 [==============================] - 0s 2ms/step - loss: 7748.3892 - mae: 7748.3892\n",
            "Epoch 6/100\n",
            "34/34 [==============================] - 0s 2ms/step - loss: 7595.3940 - mae: 7595.3940\n",
            "Epoch 7/100\n",
            "34/34 [==============================] - 0s 2ms/step - loss: 7589.9849 - mae: 7589.9849\n",
            "Epoch 8/100\n",
            "34/34 [==============================] - 0s 2ms/step - loss: 7698.5591 - mae: 7698.5591\n",
            "Epoch 9/100\n",
            "34/34 [==============================] - 0s 2ms/step - loss: 7496.7788 - mae: 7496.7788\n",
            "Epoch 10/100\n",
            "34/34 [==============================] - 0s 2ms/step - loss: 7493.1743 - mae: 7493.1743\n",
            "Epoch 11/100\n",
            "34/34 [==============================] - 0s 2ms/step - loss: 7769.7314 - mae: 7769.7314\n",
            "Epoch 12/100\n",
            "34/34 [==============================] - 0s 2ms/step - loss: 7706.9033 - mae: 7706.9033\n",
            "Epoch 13/100\n",
            "34/34 [==============================] - 0s 2ms/step - loss: 7687.7227 - mae: 7687.7227\n",
            "Epoch 14/100\n",
            "34/34 [==============================] - 0s 2ms/step - loss: 7689.8999 - mae: 7689.8999\n",
            "Epoch 15/100\n",
            "34/34 [==============================] - 0s 2ms/step - loss: 7393.5322 - mae: 7393.5322\n",
            "Epoch 16/100\n",
            "34/34 [==============================] - 0s 2ms/step - loss: 7780.6982 - mae: 7780.6982\n",
            "Epoch 17/100\n",
            "34/34 [==============================] - 0s 2ms/step - loss: 7578.5093 - mae: 7578.5093\n",
            "Epoch 18/100\n",
            "34/34 [==============================] - 0s 2ms/step - loss: 7750.8350 - mae: 7750.8350\n",
            "Epoch 19/100\n",
            "34/34 [==============================] - 0s 2ms/step - loss: 7739.2134 - mae: 7739.2134\n",
            "Epoch 20/100\n",
            "34/34 [==============================] - 0s 2ms/step - loss: 7875.0635 - mae: 7875.0635\n",
            "Epoch 21/100\n",
            "34/34 [==============================] - 0s 2ms/step - loss: 7466.6768 - mae: 7466.6768\n",
            "Epoch 22/100\n",
            "34/34 [==============================] - 0s 2ms/step - loss: 7941.2310 - mae: 7941.2310\n",
            "Epoch 23/100\n",
            "34/34 [==============================] - 0s 2ms/step - loss: 7640.2725 - mae: 7640.2725\n",
            "Epoch 24/100\n",
            "34/34 [==============================] - 0s 2ms/step - loss: 7539.2656 - mae: 7539.2656\n",
            "Epoch 25/100\n",
            "34/34 [==============================] - 0s 2ms/step - loss: 7619.9658 - mae: 7619.9658\n",
            "Epoch 26/100\n",
            "34/34 [==============================] - 0s 2ms/step - loss: 7644.1709 - mae: 7644.1709\n",
            "Epoch 27/100\n",
            "34/34 [==============================] - 0s 2ms/step - loss: 7709.0361 - mae: 7709.0361\n",
            "Epoch 28/100\n",
            "34/34 [==============================] - 0s 2ms/step - loss: 7366.8662 - mae: 7366.8662\n",
            "Epoch 29/100\n",
            "34/34 [==============================] - 0s 2ms/step - loss: 7444.3135 - mae: 7444.3135\n",
            "Epoch 30/100\n",
            "34/34 [==============================] - 0s 2ms/step - loss: 7616.4087 - mae: 7616.4087\n",
            "Epoch 31/100\n",
            "34/34 [==============================] - 0s 2ms/step - loss: 7686.3853 - mae: 7686.3853\n",
            "Epoch 32/100\n",
            "34/34 [==============================] - 0s 2ms/step - loss: 7548.0981 - mae: 7548.0981\n",
            "Epoch 33/100\n",
            "34/34 [==============================] - 0s 2ms/step - loss: 7501.5532 - mae: 7501.5532\n",
            "Epoch 34/100\n",
            "34/34 [==============================] - 0s 2ms/step - loss: 7363.4155 - mae: 7363.4155\n",
            "Epoch 35/100\n",
            "34/34 [==============================] - 0s 2ms/step - loss: 7295.4468 - mae: 7295.4468\n",
            "Epoch 36/100\n",
            "34/34 [==============================] - 0s 2ms/step - loss: 7569.8813 - mae: 7569.8813\n",
            "Epoch 37/100\n",
            "34/34 [==============================] - 0s 2ms/step - loss: 7548.2002 - mae: 7548.2002\n",
            "Epoch 38/100\n",
            "34/34 [==============================] - 0s 2ms/step - loss: 7424.3979 - mae: 7424.3979\n",
            "Epoch 39/100\n",
            "34/34 [==============================] - 0s 2ms/step - loss: 7529.7739 - mae: 7529.7739\n",
            "Epoch 40/100\n",
            "34/34 [==============================] - 0s 2ms/step - loss: 7467.3232 - mae: 7467.3232\n",
            "Epoch 41/100\n",
            "34/34 [==============================] - 0s 2ms/step - loss: 7635.9282 - mae: 7635.9282\n",
            "Epoch 42/100\n",
            "34/34 [==============================] - 0s 2ms/step - loss: 7536.8398 - mae: 7536.8398\n",
            "Epoch 43/100\n",
            "34/34 [==============================] - 0s 2ms/step - loss: 7616.5845 - mae: 7616.5845\n",
            "Epoch 44/100\n",
            "34/34 [==============================] - 0s 2ms/step - loss: 7439.4932 - mae: 7439.4932\n",
            "Epoch 45/100\n",
            "34/34 [==============================] - 0s 2ms/step - loss: 7538.0156 - mae: 7538.0156\n",
            "Epoch 46/100\n",
            "34/34 [==============================] - 0s 2ms/step - loss: 7415.1460 - mae: 7415.1460\n",
            "Epoch 47/100\n",
            "34/34 [==============================] - 0s 2ms/step - loss: 7420.6938 - mae: 7420.6938\n",
            "Epoch 48/100\n",
            "34/34 [==============================] - 0s 2ms/step - loss: 7509.9829 - mae: 7509.9829\n",
            "Epoch 49/100\n",
            "34/34 [==============================] - 0s 4ms/step - loss: 7541.1123 - mae: 7541.1123\n",
            "Epoch 50/100\n",
            "34/34 [==============================] - 0s 4ms/step - loss: 7467.8633 - mae: 7467.8633\n",
            "Epoch 51/100\n",
            "34/34 [==============================] - 0s 5ms/step - loss: 7389.3545 - mae: 7389.3545\n",
            "Epoch 52/100\n",
            "34/34 [==============================] - 0s 4ms/step - loss: 7499.7749 - mae: 7499.7749\n",
            "Epoch 53/100\n",
            "34/34 [==============================] - 0s 3ms/step - loss: 7523.9282 - mae: 7523.9282\n",
            "Epoch 54/100\n",
            "34/34 [==============================] - 0s 3ms/step - loss: 7243.3120 - mae: 7243.3120\n",
            "Epoch 55/100\n",
            "34/34 [==============================] - 0s 3ms/step - loss: 7429.5854 - mae: 7429.5854\n",
            "Epoch 56/100\n",
            "34/34 [==============================] - 0s 3ms/step - loss: 7313.4004 - mae: 7313.4004\n",
            "Epoch 57/100\n",
            "34/34 [==============================] - 0s 3ms/step - loss: 7526.3887 - mae: 7526.3887\n",
            "Epoch 58/100\n",
            "34/34 [==============================] - 0s 3ms/step - loss: 7542.2661 - mae: 7542.2661\n",
            "Epoch 59/100\n",
            "34/34 [==============================] - 0s 4ms/step - loss: 7576.9277 - mae: 7576.9277\n",
            "Epoch 60/100\n",
            "34/34 [==============================] - 0s 3ms/step - loss: 7546.4058 - mae: 7546.4058\n",
            "Epoch 61/100\n",
            "34/34 [==============================] - 0s 5ms/step - loss: 7351.2261 - mae: 7351.2261\n",
            "Epoch 62/100\n",
            "34/34 [==============================] - 0s 3ms/step - loss: 7302.1436 - mae: 7302.1436\n",
            "Epoch 63/100\n",
            "34/34 [==============================] - 0s 3ms/step - loss: 7393.0874 - mae: 7393.0874\n",
            "Epoch 64/100\n",
            "34/34 [==============================] - 0s 3ms/step - loss: 7442.2886 - mae: 7442.2886\n",
            "Epoch 65/100\n",
            "34/34 [==============================] - 0s 3ms/step - loss: 7492.6782 - mae: 7492.6782\n",
            "Epoch 66/100\n",
            "34/34 [==============================] - 0s 3ms/step - loss: 7561.9165 - mae: 7561.9165\n",
            "Epoch 67/100\n",
            "34/34 [==============================] - 0s 4ms/step - loss: 7340.5137 - mae: 7340.5137\n",
            "Epoch 68/100\n",
            "34/34 [==============================] - 0s 3ms/step - loss: 7496.0850 - mae: 7496.0850\n",
            "Epoch 69/100\n",
            "34/34 [==============================] - 0s 3ms/step - loss: 7617.0298 - mae: 7617.0298\n",
            "Epoch 70/100\n",
            "34/34 [==============================] - 0s 4ms/step - loss: 7641.1958 - mae: 7641.1958\n",
            "Epoch 71/100\n",
            "34/34 [==============================] - 0s 4ms/step - loss: 7084.2744 - mae: 7084.2744\n",
            "Epoch 72/100\n",
            "34/34 [==============================] - 0s 5ms/step - loss: 7240.4907 - mae: 7240.4907\n",
            "Epoch 73/100\n",
            "34/34 [==============================] - 0s 5ms/step - loss: 7283.4883 - mae: 7283.4883\n",
            "Epoch 74/100\n",
            "34/34 [==============================] - 0s 4ms/step - loss: 7335.5063 - mae: 7335.5063\n",
            "Epoch 75/100\n",
            "34/34 [==============================] - 0s 2ms/step - loss: 7275.6392 - mae: 7275.6392\n",
            "Epoch 76/100\n",
            "34/34 [==============================] - 0s 3ms/step - loss: 7313.1855 - mae: 7313.1855\n",
            "Epoch 77/100\n",
            "34/34 [==============================] - 0s 2ms/step - loss: 7485.7578 - mae: 7485.7578\n",
            "Epoch 78/100\n",
            "34/34 [==============================] - 0s 3ms/step - loss: 7352.2798 - mae: 7352.2798\n",
            "Epoch 79/100\n",
            "34/34 [==============================] - 0s 4ms/step - loss: 7520.5703 - mae: 7520.5703\n",
            "Epoch 80/100\n",
            "34/34 [==============================] - 0s 6ms/step - loss: 7279.3784 - mae: 7279.3784\n",
            "Epoch 81/100\n",
            "34/34 [==============================] - 0s 3ms/step - loss: 7273.8477 - mae: 7273.8477\n",
            "Epoch 82/100\n",
            "34/34 [==============================] - 0s 3ms/step - loss: 7176.5205 - mae: 7176.5205\n",
            "Epoch 83/100\n",
            "34/34 [==============================] - 0s 4ms/step - loss: 7425.6289 - mae: 7425.6289\n",
            "Epoch 84/100\n",
            "34/34 [==============================] - 0s 3ms/step - loss: 7403.1289 - mae: 7403.1289\n",
            "Epoch 85/100\n",
            "34/34 [==============================] - 0s 3ms/step - loss: 7356.0093 - mae: 7356.0093\n",
            "Epoch 86/100\n",
            "34/34 [==============================] - 0s 3ms/step - loss: 7484.7271 - mae: 7484.7271\n",
            "Epoch 87/100\n",
            "34/34 [==============================] - 0s 3ms/step - loss: 7217.6079 - mae: 7217.6079\n",
            "Epoch 88/100\n",
            "34/34 [==============================] - 0s 4ms/step - loss: 7261.0000 - mae: 7261.0000\n",
            "Epoch 89/100\n",
            "34/34 [==============================] - 0s 3ms/step - loss: 7134.1553 - mae: 7134.1553\n",
            "Epoch 90/100\n",
            "34/34 [==============================] - 0s 3ms/step - loss: 7083.4351 - mae: 7083.4351\n",
            "Epoch 91/100\n",
            "34/34 [==============================] - 0s 4ms/step - loss: 7254.1782 - mae: 7254.1782\n",
            "Epoch 92/100\n",
            "34/34 [==============================] - 0s 4ms/step - loss: 7268.7456 - mae: 7268.7456\n",
            "Epoch 93/100\n",
            "34/34 [==============================] - 0s 4ms/step - loss: 7470.5225 - mae: 7470.5225\n",
            "Epoch 94/100\n",
            "34/34 [==============================] - 0s 6ms/step - loss: 7210.9541 - mae: 7210.9541\n",
            "Epoch 95/100\n",
            "34/34 [==============================] - 0s 4ms/step - loss: 7395.6807 - mae: 7395.6807\n",
            "Epoch 96/100\n",
            "34/34 [==============================] - 0s 5ms/step - loss: 7328.0884 - mae: 7328.0884\n",
            "Epoch 97/100\n",
            "34/34 [==============================] - 0s 6ms/step - loss: 7230.4375 - mae: 7230.4375\n",
            "Epoch 98/100\n",
            "34/34 [==============================] - 0s 3ms/step - loss: 7261.3936 - mae: 7261.3936\n",
            "Epoch 99/100\n",
            "34/34 [==============================] - 0s 4ms/step - loss: 7342.5684 - mae: 7342.5684\n",
            "Epoch 100/100\n",
            "34/34 [==============================] - 0s 5ms/step - loss: 7106.1709 - mae: 7106.1709\n"
          ]
        },
        {
          "output_type": "execute_result",
          "data": {
            "text/plain": [
              "<keras.callbacks.History at 0x7f3b5fdbfcd0>"
            ]
          },
          "metadata": {},
          "execution_count": 58
        }
      ]
    },
    {
      "cell_type": "code",
      "source": [
        "# check the result of the insurance model\n",
        "insurance_model.evaluate(X_test, y_test)"
      ],
      "metadata": {
        "colab": {
          "base_uri": "https://localhost:8080/"
        },
        "id": "8Q5xA1KFCQSl",
        "outputId": "c7486192-2b99-47bc-cd32-88d82b7731d6"
      },
      "execution_count": 59,
      "outputs": [
        {
          "output_type": "stream",
          "name": "stdout",
          "text": [
            "9/9 [==============================] - 0s 2ms/step - loss: 7023.3286 - mae: 7023.3286\n"
          ]
        },
        {
          "output_type": "execute_result",
          "data": {
            "text/plain": [
              "[7023.32861328125, 7023.32861328125]"
            ]
          },
          "metadata": {},
          "execution_count": 59
        }
      ]
    },
    {
      "cell_type": "code",
      "source": [
        "y_train.median(), y_train.mean()"
      ],
      "metadata": {
        "colab": {
          "base_uri": "https://localhost:8080/"
        },
        "id": "XF0VXrLmCsr4",
        "outputId": "0b678149-21ab-4a7e-998a-6b192803d624"
      },
      "execution_count": 60,
      "outputs": [
        {
          "output_type": "execute_result",
          "data": {
            "text/plain": [
              "(9575.4421, 13346.089736364485)"
            ]
          },
          "metadata": {},
          "execution_count": 60
        }
      ]
    },
    {
      "cell_type": "markdown",
      "source": [
        "### To improve the insurance Model"
      ],
      "metadata": {
        "id": "Zziy4dtZCCLR"
      }
    },
    {
      "cell_type": "code",
      "source": [
        "# Build a neural network\n",
        "# Set random seed\n",
        "tf.random.set_seed(42)\n",
        "\n",
        "# 1. Create the model\n",
        "insurance_model_2 = tf.keras.Sequential([\n",
        "  tf.keras.layers.Dense(100),\n",
        "  tf.keras.layers.Dense(10),\n",
        "  tf.keras.layers.Dense(1)\n",
        "])\n",
        "# 2. Compile the model\n",
        "insurance_model_2.compile(loss = tf.keras.losses.mae,\n",
        "                optimizer = tf.keras.optimizers.Adam(),\n",
        "                metrics=[\"mae\"])\n",
        "# 3. Fit the model\n",
        "history = insurance_model_2.fit(X_train, y_train, epochs=200, verbose = 1)"
      ],
      "metadata": {
        "colab": {
          "base_uri": "https://localhost:8080/"
        },
        "id": "25YQU-LDIQlN",
        "outputId": "520ba4fb-3cee-4de2-e778-62f305f54ab9"
      },
      "execution_count": 61,
      "outputs": [
        {
          "output_type": "stream",
          "name": "stdout",
          "text": [
            "Epoch 1/200\n",
            "34/34 [==============================] - 1s 2ms/step - loss: 13273.1602 - mae: 13273.1602\n",
            "Epoch 2/200\n",
            "34/34 [==============================] - 0s 2ms/step - loss: 13104.4297 - mae: 13104.4297\n",
            "Epoch 3/200\n",
            "34/34 [==============================] - 0s 3ms/step - loss: 12749.5420 - mae: 12749.5420\n",
            "Epoch 4/200\n",
            "34/34 [==============================] - 0s 3ms/step - loss: 12055.7510 - mae: 12055.7510\n",
            "Epoch 5/200\n",
            "34/34 [==============================] - 0s 2ms/step - loss: 10905.8154 - mae: 10905.8154\n",
            "Epoch 6/200\n",
            "34/34 [==============================] - 0s 2ms/step - loss: 9457.7217 - mae: 9457.7217\n",
            "Epoch 7/200\n",
            "34/34 [==============================] - 0s 2ms/step - loss: 8147.6543 - mae: 8147.6543\n",
            "Epoch 8/200\n",
            "34/34 [==============================] - 0s 3ms/step - loss: 7528.8408 - mae: 7528.8408\n",
            "Epoch 9/200\n",
            "34/34 [==============================] - 0s 2ms/step - loss: 7429.1528 - mae: 7429.1528\n",
            "Epoch 10/200\n",
            "34/34 [==============================] - 0s 2ms/step - loss: 7409.0811 - mae: 7409.0811\n",
            "Epoch 11/200\n",
            "34/34 [==============================] - 0s 2ms/step - loss: 7390.8042 - mae: 7390.8042\n",
            "Epoch 12/200\n",
            "34/34 [==============================] - 0s 2ms/step - loss: 7368.9180 - mae: 7368.9180\n",
            "Epoch 13/200\n",
            "34/34 [==============================] - 0s 2ms/step - loss: 7348.5190 - mae: 7348.5190\n",
            "Epoch 14/200\n",
            "34/34 [==============================] - 0s 2ms/step - loss: 7326.4893 - mae: 7326.4893\n",
            "Epoch 15/200\n",
            "34/34 [==============================] - 0s 2ms/step - loss: 7307.5815 - mae: 7307.5815\n",
            "Epoch 16/200\n",
            "34/34 [==============================] - 0s 2ms/step - loss: 7285.7734 - mae: 7285.7734\n",
            "Epoch 17/200\n",
            "34/34 [==============================] - 0s 3ms/step - loss: 7265.7104 - mae: 7265.7104\n",
            "Epoch 18/200\n",
            "34/34 [==============================] - 0s 2ms/step - loss: 7242.5488 - mae: 7242.5488\n",
            "Epoch 19/200\n",
            "34/34 [==============================] - 0s 2ms/step - loss: 7220.5068 - mae: 7220.5068\n",
            "Epoch 20/200\n",
            "34/34 [==============================] - 0s 2ms/step - loss: 7197.1978 - mae: 7197.1978\n",
            "Epoch 21/200\n",
            "34/34 [==============================] - 0s 2ms/step - loss: 7179.0195 - mae: 7179.0195\n",
            "Epoch 22/200\n",
            "34/34 [==============================] - 0s 2ms/step - loss: 7151.2104 - mae: 7151.2104\n",
            "Epoch 23/200\n",
            "34/34 [==============================] - 0s 2ms/step - loss: 7126.4639 - mae: 7126.4639\n",
            "Epoch 24/200\n",
            "34/34 [==============================] - 0s 2ms/step - loss: 7101.9199 - mae: 7101.9199\n",
            "Epoch 25/200\n",
            "34/34 [==============================] - 0s 2ms/step - loss: 7084.3379 - mae: 7084.3379\n",
            "Epoch 26/200\n",
            "34/34 [==============================] - 0s 2ms/step - loss: 7052.3296 - mae: 7052.3296\n",
            "Epoch 27/200\n",
            "34/34 [==============================] - 0s 3ms/step - loss: 7024.3506 - mae: 7024.3506\n",
            "Epoch 28/200\n",
            "34/34 [==============================] - 0s 2ms/step - loss: 6996.6963 - mae: 6996.6963\n",
            "Epoch 29/200\n",
            "34/34 [==============================] - 0s 2ms/step - loss: 6969.0112 - mae: 6969.0112\n",
            "Epoch 30/200\n",
            "34/34 [==============================] - 0s 2ms/step - loss: 6942.1899 - mae: 6942.1899\n",
            "Epoch 31/200\n",
            "34/34 [==============================] - 0s 3ms/step - loss: 6911.7275 - mae: 6911.7275\n",
            "Epoch 32/200\n",
            "34/34 [==============================] - 0s 2ms/step - loss: 6884.0205 - mae: 6884.0205\n",
            "Epoch 33/200\n",
            "34/34 [==============================] - 0s 2ms/step - loss: 6853.4648 - mae: 6853.4648\n",
            "Epoch 34/200\n",
            "34/34 [==============================] - 0s 2ms/step - loss: 6823.0674 - mae: 6823.0674\n",
            "Epoch 35/200\n",
            "34/34 [==============================] - 0s 2ms/step - loss: 6789.6855 - mae: 6789.6855\n",
            "Epoch 36/200\n",
            "34/34 [==============================] - 0s 2ms/step - loss: 6755.7646 - mae: 6755.7646\n",
            "Epoch 37/200\n",
            "34/34 [==============================] - 0s 2ms/step - loss: 6720.2026 - mae: 6720.2026\n",
            "Epoch 38/200\n",
            "34/34 [==============================] - 0s 3ms/step - loss: 6689.7158 - mae: 6689.7158\n",
            "Epoch 39/200\n",
            "34/34 [==============================] - 0s 2ms/step - loss: 6652.4614 - mae: 6652.4614\n",
            "Epoch 40/200\n",
            "34/34 [==============================] - 0s 2ms/step - loss: 6618.1016 - mae: 6618.1016\n",
            "Epoch 41/200\n",
            "34/34 [==============================] - 0s 2ms/step - loss: 6585.8643 - mae: 6585.8643\n",
            "Epoch 42/200\n",
            "34/34 [==============================] - 0s 3ms/step - loss: 6559.4956 - mae: 6559.4956\n",
            "Epoch 43/200\n",
            "34/34 [==============================] - 0s 2ms/step - loss: 6530.0439 - mae: 6530.0439\n",
            "Epoch 44/200\n",
            "34/34 [==============================] - 0s 2ms/step - loss: 6506.8071 - mae: 6506.8071\n",
            "Epoch 45/200\n",
            "34/34 [==============================] - 0s 2ms/step - loss: 6493.5718 - mae: 6493.5718\n",
            "Epoch 46/200\n",
            "34/34 [==============================] - 0s 3ms/step - loss: 6475.9258 - mae: 6475.9258\n",
            "Epoch 47/200\n",
            "34/34 [==============================] - 0s 2ms/step - loss: 6458.8984 - mae: 6458.8984\n",
            "Epoch 48/200\n",
            "34/34 [==============================] - 0s 2ms/step - loss: 6445.1494 - mae: 6445.1494\n",
            "Epoch 49/200\n",
            "34/34 [==============================] - 0s 2ms/step - loss: 6430.9639 - mae: 6430.9639\n",
            "Epoch 50/200\n",
            "34/34 [==============================] - 0s 2ms/step - loss: 6417.7510 - mae: 6417.7510\n",
            "Epoch 51/200\n",
            "34/34 [==============================] - 0s 2ms/step - loss: 6403.2754 - mae: 6403.2754\n",
            "Epoch 52/200\n",
            "34/34 [==============================] - 0s 2ms/step - loss: 6392.4141 - mae: 6392.4141\n",
            "Epoch 53/200\n",
            "34/34 [==============================] - 0s 2ms/step - loss: 6378.7451 - mae: 6378.7451\n",
            "Epoch 54/200\n",
            "34/34 [==============================] - 0s 3ms/step - loss: 6364.9126 - mae: 6364.9126\n",
            "Epoch 55/200\n",
            "34/34 [==============================] - 0s 2ms/step - loss: 6351.5269 - mae: 6351.5269\n",
            "Epoch 56/200\n",
            "34/34 [==============================] - 0s 2ms/step - loss: 6337.6606 - mae: 6337.6606\n",
            "Epoch 57/200\n",
            "34/34 [==============================] - 0s 2ms/step - loss: 6324.8369 - mae: 6324.8369\n",
            "Epoch 58/200\n",
            "34/34 [==============================] - 0s 2ms/step - loss: 6310.1948 - mae: 6310.1948\n",
            "Epoch 59/200\n",
            "34/34 [==============================] - 0s 2ms/step - loss: 6295.6035 - mae: 6295.6035\n",
            "Epoch 60/200\n",
            "34/34 [==============================] - 0s 2ms/step - loss: 6284.8696 - mae: 6284.8696\n",
            "Epoch 61/200\n",
            "34/34 [==============================] - 0s 3ms/step - loss: 6265.6411 - mae: 6265.6411\n",
            "Epoch 62/200\n",
            "34/34 [==============================] - 0s 2ms/step - loss: 6253.0107 - mae: 6253.0107\n",
            "Epoch 63/200\n",
            "34/34 [==============================] - 0s 2ms/step - loss: 6234.9292 - mae: 6234.9292\n",
            "Epoch 64/200\n",
            "34/34 [==============================] - 0s 2ms/step - loss: 6218.0430 - mae: 6218.0430\n",
            "Epoch 65/200\n",
            "34/34 [==============================] - 0s 2ms/step - loss: 6201.1899 - mae: 6201.1899\n",
            "Epoch 66/200\n",
            "34/34 [==============================] - 0s 2ms/step - loss: 6183.9590 - mae: 6183.9590\n",
            "Epoch 67/200\n",
            "34/34 [==============================] - 0s 2ms/step - loss: 6171.2993 - mae: 6171.2993\n",
            "Epoch 68/200\n",
            "34/34 [==============================] - 0s 2ms/step - loss: 6148.8398 - mae: 6148.8398\n",
            "Epoch 69/200\n",
            "34/34 [==============================] - 0s 2ms/step - loss: 6132.5981 - mae: 6132.5981\n",
            "Epoch 70/200\n",
            "34/34 [==============================] - 0s 2ms/step - loss: 6112.3848 - mae: 6112.3848\n",
            "Epoch 71/200\n",
            "34/34 [==============================] - 0s 2ms/step - loss: 6092.7202 - mae: 6092.7202\n",
            "Epoch 72/200\n",
            "34/34 [==============================] - 0s 3ms/step - loss: 6073.7422 - mae: 6073.7422\n",
            "Epoch 73/200\n",
            "34/34 [==============================] - 0s 2ms/step - loss: 6059.4883 - mae: 6059.4883\n",
            "Epoch 74/200\n",
            "34/34 [==============================] - 0s 3ms/step - loss: 6031.3843 - mae: 6031.3843\n",
            "Epoch 75/200\n",
            "34/34 [==============================] - 0s 3ms/step - loss: 6010.3350 - mae: 6010.3350\n",
            "Epoch 76/200\n",
            "34/34 [==============================] - 0s 2ms/step - loss: 5995.2168 - mae: 5995.2168\n",
            "Epoch 77/200\n",
            "34/34 [==============================] - 0s 2ms/step - loss: 5963.0723 - mae: 5963.0723\n",
            "Epoch 78/200\n",
            "34/34 [==============================] - 0s 2ms/step - loss: 5940.0610 - mae: 5940.0610\n",
            "Epoch 79/200\n",
            "34/34 [==============================] - 0s 3ms/step - loss: 5915.1064 - mae: 5915.1064\n",
            "Epoch 80/200\n",
            "34/34 [==============================] - 0s 2ms/step - loss: 5887.9990 - mae: 5887.9990\n",
            "Epoch 81/200\n",
            "34/34 [==============================] - 0s 2ms/step - loss: 5861.6992 - mae: 5861.6992\n",
            "Epoch 82/200\n",
            "34/34 [==============================] - 0s 2ms/step - loss: 5834.3071 - mae: 5834.3071\n",
            "Epoch 83/200\n",
            "34/34 [==============================] - 0s 3ms/step - loss: 5805.8242 - mae: 5805.8242\n",
            "Epoch 84/200\n",
            "34/34 [==============================] - 0s 2ms/step - loss: 5772.3232 - mae: 5772.3232\n",
            "Epoch 85/200\n",
            "34/34 [==============================] - 0s 2ms/step - loss: 5745.1514 - mae: 5745.1514\n",
            "Epoch 86/200\n",
            "34/34 [==============================] - 0s 2ms/step - loss: 5711.3477 - mae: 5711.3477\n",
            "Epoch 87/200\n",
            "34/34 [==============================] - 0s 2ms/step - loss: 5674.5215 - mae: 5674.5215\n",
            "Epoch 88/200\n",
            "34/34 [==============================] - 0s 2ms/step - loss: 5639.4927 - mae: 5639.4927\n",
            "Epoch 89/200\n",
            "34/34 [==============================] - 0s 3ms/step - loss: 5600.6655 - mae: 5600.6655\n",
            "Epoch 90/200\n",
            "34/34 [==============================] - 0s 2ms/step - loss: 5559.4326 - mae: 5559.4326\n",
            "Epoch 91/200\n",
            "34/34 [==============================] - 0s 2ms/step - loss: 5523.6187 - mae: 5523.6187\n",
            "Epoch 92/200\n",
            "34/34 [==============================] - 0s 2ms/step - loss: 5474.1250 - mae: 5474.1250\n",
            "Epoch 93/200\n",
            "34/34 [==============================] - 0s 2ms/step - loss: 5432.2656 - mae: 5432.2656\n",
            "Epoch 94/200\n",
            "34/34 [==============================] - 0s 3ms/step - loss: 5386.0527 - mae: 5386.0527\n",
            "Epoch 95/200\n",
            "34/34 [==============================] - 0s 2ms/step - loss: 5333.1812 - mae: 5333.1812\n",
            "Epoch 96/200\n",
            "34/34 [==============================] - 0s 2ms/step - loss: 5288.8159 - mae: 5288.8159\n",
            "Epoch 97/200\n",
            "34/34 [==============================] - 0s 2ms/step - loss: 5234.6787 - mae: 5234.6787\n",
            "Epoch 98/200\n",
            "34/34 [==============================] - 0s 2ms/step - loss: 5170.9360 - mae: 5170.9360\n",
            "Epoch 99/200\n",
            "34/34 [==============================] - 0s 2ms/step - loss: 5112.9443 - mae: 5112.9443\n",
            "Epoch 100/200\n",
            "34/34 [==============================] - 0s 2ms/step - loss: 5059.8447 - mae: 5059.8447\n",
            "Epoch 101/200\n",
            "34/34 [==============================] - 0s 2ms/step - loss: 4987.7090 - mae: 4987.7090\n",
            "Epoch 102/200\n",
            "34/34 [==============================] - 0s 2ms/step - loss: 4915.4390 - mae: 4915.4390\n",
            "Epoch 103/200\n",
            "34/34 [==============================] - 0s 2ms/step - loss: 4847.4639 - mae: 4847.4639\n",
            "Epoch 104/200\n",
            "34/34 [==============================] - 0s 2ms/step - loss: 4768.1533 - mae: 4768.1533\n",
            "Epoch 105/200\n",
            "34/34 [==============================] - 0s 2ms/step - loss: 4683.4321 - mae: 4683.4321\n",
            "Epoch 106/200\n",
            "34/34 [==============================] - 0s 2ms/step - loss: 4601.1826 - mae: 4601.1826\n",
            "Epoch 107/200\n",
            "34/34 [==============================] - 0s 2ms/step - loss: 4513.4478 - mae: 4513.4478\n",
            "Epoch 108/200\n",
            "34/34 [==============================] - 0s 2ms/step - loss: 4423.2485 - mae: 4423.2485\n",
            "Epoch 109/200\n",
            "34/34 [==============================] - 0s 2ms/step - loss: 4339.1406 - mae: 4339.1406\n",
            "Epoch 110/200\n",
            "34/34 [==============================] - 0s 2ms/step - loss: 4255.4292 - mae: 4255.4292\n",
            "Epoch 111/200\n",
            "34/34 [==============================] - 0s 2ms/step - loss: 4173.2402 - mae: 4173.2402\n",
            "Epoch 112/200\n",
            "34/34 [==============================] - 0s 2ms/step - loss: 4102.3032 - mae: 4102.3032\n",
            "Epoch 113/200\n",
            "34/34 [==============================] - 0s 2ms/step - loss: 4028.0874 - mae: 4028.0874\n",
            "Epoch 114/200\n",
            "34/34 [==============================] - 0s 2ms/step - loss: 3987.8625 - mae: 3987.8625\n",
            "Epoch 115/200\n",
            "34/34 [==============================] - 0s 2ms/step - loss: 3945.6594 - mae: 3945.6594\n",
            "Epoch 116/200\n",
            "34/34 [==============================] - 0s 2ms/step - loss: 3918.2410 - mae: 3918.2410\n",
            "Epoch 117/200\n",
            "34/34 [==============================] - 0s 3ms/step - loss: 3897.1462 - mae: 3897.1462\n",
            "Epoch 118/200\n",
            "34/34 [==============================] - 0s 2ms/step - loss: 3871.5635 - mae: 3871.5635\n",
            "Epoch 119/200\n",
            "34/34 [==============================] - 0s 2ms/step - loss: 3852.5767 - mae: 3852.5767\n",
            "Epoch 120/200\n",
            "34/34 [==============================] - 0s 2ms/step - loss: 3835.2859 - mae: 3835.2859\n",
            "Epoch 121/200\n",
            "34/34 [==============================] - 0s 3ms/step - loss: 3829.0356 - mae: 3829.0356\n",
            "Epoch 122/200\n",
            "34/34 [==============================] - 0s 2ms/step - loss: 3823.3438 - mae: 3823.3438\n",
            "Epoch 123/200\n",
            "34/34 [==============================] - 0s 2ms/step - loss: 3814.8372 - mae: 3814.8372\n",
            "Epoch 124/200\n",
            "34/34 [==============================] - 0s 2ms/step - loss: 3806.4585 - mae: 3806.4585\n",
            "Epoch 125/200\n",
            "34/34 [==============================] - 0s 2ms/step - loss: 3795.8462 - mae: 3795.8462\n",
            "Epoch 126/200\n",
            "34/34 [==============================] - 0s 2ms/step - loss: 3805.0994 - mae: 3805.0994\n",
            "Epoch 127/200\n",
            "34/34 [==============================] - 0s 2ms/step - loss: 3797.2935 - mae: 3797.2935\n",
            "Epoch 128/200\n",
            "34/34 [==============================] - 0s 3ms/step - loss: 3791.3442 - mae: 3791.3442\n",
            "Epoch 129/200\n",
            "34/34 [==============================] - 0s 3ms/step - loss: 3801.2888 - mae: 3801.2888\n",
            "Epoch 130/200\n",
            "34/34 [==============================] - 0s 2ms/step - loss: 3790.9077 - mae: 3790.9077\n",
            "Epoch 131/200\n",
            "34/34 [==============================] - 0s 2ms/step - loss: 3781.4385 - mae: 3781.4385\n",
            "Epoch 132/200\n",
            "34/34 [==============================] - 0s 2ms/step - loss: 3775.3513 - mae: 3775.3513\n",
            "Epoch 133/200\n",
            "34/34 [==============================] - 0s 2ms/step - loss: 3770.3953 - mae: 3770.3953\n",
            "Epoch 134/200\n",
            "34/34 [==============================] - 0s 2ms/step - loss: 3771.6887 - mae: 3771.6887\n",
            "Epoch 135/200\n",
            "34/34 [==============================] - 0s 2ms/step - loss: 3767.4382 - mae: 3767.4382\n",
            "Epoch 136/200\n",
            "34/34 [==============================] - 0s 2ms/step - loss: 3766.6711 - mae: 3766.6711\n",
            "Epoch 137/200\n",
            "34/34 [==============================] - 0s 2ms/step - loss: 3775.2358 - mae: 3775.2358\n",
            "Epoch 138/200\n",
            "34/34 [==============================] - 0s 2ms/step - loss: 3784.4844 - mae: 3784.4844\n",
            "Epoch 139/200\n",
            "34/34 [==============================] - 0s 3ms/step - loss: 3761.7339 - mae: 3761.7339\n",
            "Epoch 140/200\n",
            "34/34 [==============================] - 0s 2ms/step - loss: 3762.1360 - mae: 3762.1360\n",
            "Epoch 141/200\n",
            "34/34 [==============================] - 0s 2ms/step - loss: 3763.4084 - mae: 3763.4084\n",
            "Epoch 142/200\n",
            "34/34 [==============================] - 0s 2ms/step - loss: 3763.5349 - mae: 3763.5349\n",
            "Epoch 143/200\n",
            "34/34 [==============================] - 0s 3ms/step - loss: 3754.6104 - mae: 3754.6104\n",
            "Epoch 144/200\n",
            "34/34 [==============================] - 0s 2ms/step - loss: 3750.8074 - mae: 3750.8074\n",
            "Epoch 145/200\n",
            "34/34 [==============================] - 0s 2ms/step - loss: 3751.2629 - mae: 3751.2629\n",
            "Epoch 146/200\n",
            "34/34 [==============================] - 0s 3ms/step - loss: 3754.6194 - mae: 3754.6194\n",
            "Epoch 147/200\n",
            "34/34 [==============================] - 0s 2ms/step - loss: 3751.5325 - mae: 3751.5325\n",
            "Epoch 148/200\n",
            "34/34 [==============================] - 0s 3ms/step - loss: 3755.4758 - mae: 3755.4758\n",
            "Epoch 149/200\n",
            "34/34 [==============================] - 0s 2ms/step - loss: 3743.7812 - mae: 3743.7812\n",
            "Epoch 150/200\n",
            "34/34 [==============================] - 0s 3ms/step - loss: 3738.6592 - mae: 3738.6592\n",
            "Epoch 151/200\n",
            "34/34 [==============================] - 0s 2ms/step - loss: 3741.3877 - mae: 3741.3877\n",
            "Epoch 152/200\n",
            "34/34 [==============================] - 0s 3ms/step - loss: 3742.3994 - mae: 3742.3994\n",
            "Epoch 153/200\n",
            "34/34 [==============================] - 0s 2ms/step - loss: 3742.1941 - mae: 3742.1941\n",
            "Epoch 154/200\n",
            "34/34 [==============================] - 0s 2ms/step - loss: 3737.1804 - mae: 3737.1804\n",
            "Epoch 155/200\n",
            "34/34 [==============================] - 0s 2ms/step - loss: 3738.9939 - mae: 3738.9939\n",
            "Epoch 156/200\n",
            "34/34 [==============================] - 0s 2ms/step - loss: 3736.1038 - mae: 3736.1038\n",
            "Epoch 157/200\n",
            "34/34 [==============================] - 0s 2ms/step - loss: 3732.9739 - mae: 3732.9739\n",
            "Epoch 158/200\n",
            "34/34 [==============================] - 0s 2ms/step - loss: 3729.8025 - mae: 3729.8025\n",
            "Epoch 159/200\n",
            "34/34 [==============================] - 0s 2ms/step - loss: 3726.4563 - mae: 3726.4563\n",
            "Epoch 160/200\n",
            "34/34 [==============================] - 0s 2ms/step - loss: 3733.5449 - mae: 3733.5449\n",
            "Epoch 161/200\n",
            "34/34 [==============================] - 0s 3ms/step - loss: 3728.0251 - mae: 3728.0251\n",
            "Epoch 162/200\n",
            "34/34 [==============================] - 0s 2ms/step - loss: 3725.0784 - mae: 3725.0784\n",
            "Epoch 163/200\n",
            "34/34 [==============================] - 0s 3ms/step - loss: 3722.1675 - mae: 3722.1675\n",
            "Epoch 164/200\n",
            "34/34 [==============================] - 0s 2ms/step - loss: 3726.4907 - mae: 3726.4907\n",
            "Epoch 165/200\n",
            "34/34 [==============================] - 0s 2ms/step - loss: 3717.1108 - mae: 3717.1108\n",
            "Epoch 166/200\n",
            "34/34 [==============================] - 0s 2ms/step - loss: 3721.8940 - mae: 3721.8940\n",
            "Epoch 167/200\n",
            "34/34 [==============================] - 0s 2ms/step - loss: 3720.7314 - mae: 3720.7314\n",
            "Epoch 168/200\n",
            "34/34 [==============================] - 0s 3ms/step - loss: 3715.3101 - mae: 3715.3101\n",
            "Epoch 169/200\n",
            "34/34 [==============================] - 0s 2ms/step - loss: 3714.2400 - mae: 3714.2400\n",
            "Epoch 170/200\n",
            "34/34 [==============================] - 0s 2ms/step - loss: 3708.1538 - mae: 3708.1538\n",
            "Epoch 171/200\n",
            "34/34 [==============================] - 0s 3ms/step - loss: 3707.5684 - mae: 3707.5684\n",
            "Epoch 172/200\n",
            "34/34 [==============================] - 0s 2ms/step - loss: 3709.5637 - mae: 3709.5637\n",
            "Epoch 173/200\n",
            "34/34 [==============================] - 0s 3ms/step - loss: 3705.6372 - mae: 3705.6372\n",
            "Epoch 174/200\n",
            "34/34 [==============================] - 0s 2ms/step - loss: 3709.1023 - mae: 3709.1023\n",
            "Epoch 175/200\n",
            "34/34 [==============================] - 0s 2ms/step - loss: 3712.1282 - mae: 3712.1282\n",
            "Epoch 176/200\n",
            "34/34 [==============================] - 0s 2ms/step - loss: 3705.9382 - mae: 3705.9382\n",
            "Epoch 177/200\n",
            "34/34 [==============================] - 0s 3ms/step - loss: 3700.1218 - mae: 3700.1218\n",
            "Epoch 178/200\n",
            "34/34 [==============================] - 0s 2ms/step - loss: 3696.2852 - mae: 3696.2852\n",
            "Epoch 179/200\n",
            "34/34 [==============================] - 0s 2ms/step - loss: 3704.3589 - mae: 3704.3589\n",
            "Epoch 180/200\n",
            "34/34 [==============================] - 0s 2ms/step - loss: 3709.2507 - mae: 3709.2507\n",
            "Epoch 181/200\n",
            "34/34 [==============================] - 0s 2ms/step - loss: 3695.9170 - mae: 3695.9170\n",
            "Epoch 182/200\n",
            "34/34 [==============================] - 0s 3ms/step - loss: 3693.5237 - mae: 3693.5237\n",
            "Epoch 183/200\n",
            "34/34 [==============================] - 0s 2ms/step - loss: 3692.0999 - mae: 3692.0999\n",
            "Epoch 184/200\n",
            "34/34 [==============================] - 0s 2ms/step - loss: 3698.8428 - mae: 3698.8428\n",
            "Epoch 185/200\n",
            "34/34 [==============================] - 0s 3ms/step - loss: 3694.2781 - mae: 3694.2781\n",
            "Epoch 186/200\n",
            "34/34 [==============================] - 0s 2ms/step - loss: 3696.6104 - mae: 3696.6104\n",
            "Epoch 187/200\n",
            "34/34 [==============================] - 0s 2ms/step - loss: 3689.0247 - mae: 3689.0247\n",
            "Epoch 188/200\n",
            "34/34 [==============================] - 0s 2ms/step - loss: 3694.2280 - mae: 3694.2280\n",
            "Epoch 189/200\n",
            "34/34 [==============================] - 0s 2ms/step - loss: 3683.9485 - mae: 3683.9485\n",
            "Epoch 190/200\n",
            "34/34 [==============================] - 0s 2ms/step - loss: 3682.8477 - mae: 3682.8477\n",
            "Epoch 191/200\n",
            "34/34 [==============================] - 0s 2ms/step - loss: 3699.1458 - mae: 3699.1458\n",
            "Epoch 192/200\n",
            "34/34 [==============================] - 0s 2ms/step - loss: 3684.8535 - mae: 3684.8535\n",
            "Epoch 193/200\n",
            "34/34 [==============================] - 0s 3ms/step - loss: 3675.5303 - mae: 3675.5303\n",
            "Epoch 194/200\n",
            "34/34 [==============================] - 0s 2ms/step - loss: 3675.5764 - mae: 3675.5764\n",
            "Epoch 195/200\n",
            "34/34 [==============================] - 0s 2ms/step - loss: 3673.1936 - mae: 3673.1936\n",
            "Epoch 196/200\n",
            "34/34 [==============================] - 0s 2ms/step - loss: 3682.2253 - mae: 3682.2253\n",
            "Epoch 197/200\n",
            "34/34 [==============================] - 0s 2ms/step - loss: 3666.2056 - mae: 3666.2056\n",
            "Epoch 198/200\n",
            "34/34 [==============================] - 0s 2ms/step - loss: 3671.8359 - mae: 3671.8359\n",
            "Epoch 199/200\n",
            "34/34 [==============================] - 0s 2ms/step - loss: 3680.2209 - mae: 3680.2209\n",
            "Epoch 200/200\n",
            "34/34 [==============================] - 0s 2ms/step - loss: 3666.9414 - mae: 3666.9414\n"
          ]
        }
      ]
    },
    {
      "cell_type": "code",
      "source": [
        "# check the result of the insurance model 2\n",
        "insurance_model_2.evaluate(X_test, y_test), insurance_model.evaluate(X_test, y_test)"
      ],
      "metadata": {
        "colab": {
          "base_uri": "https://localhost:8080/"
        },
        "id": "MCpNlq8rIwD0",
        "outputId": "b9f2f859-3269-49ea-d2d1-cea129d77d9f"
      },
      "execution_count": 62,
      "outputs": [
        {
          "output_type": "stream",
          "name": "stdout",
          "text": [
            "9/9 [==============================] - 0s 3ms/step - loss: 3488.7854 - mae: 3488.7856\n",
            "9/9 [==============================] - 0s 2ms/step - loss: 7023.3286 - mae: 7023.3286\n"
          ]
        },
        {
          "output_type": "execute_result",
          "data": {
            "text/plain": [
              "([3488.785400390625, 3488.78564453125], [7023.32861328125, 7023.32861328125])"
            ]
          },
          "metadata": {},
          "execution_count": 62
        }
      ]
    },
    {
      "cell_type": "code",
      "source": [
        "X_train.head(), y_train.head()"
      ],
      "metadata": {
        "id": "jLzYRsrvJh9p",
        "colab": {
          "base_uri": "https://localhost:8080/"
        },
        "outputId": "22ff547f-8a1d-4d1c-a8af-270a84e9181f"
      },
      "execution_count": 63,
      "outputs": [
        {
          "output_type": "execute_result",
          "data": {
            "text/plain": [
              "(      age    bmi  children  sex_female  sex_male  smoker_no  smoker_yes  \\\n",
              " 560    46  19.95         2           1         0          1           0   \n",
              " 1285   47  24.32         0           1         0          1           0   \n",
              " 1142   52  24.86         0           1         0          1           0   \n",
              " 969    39  34.32         5           1         0          1           0   \n",
              " 486    54  21.47         3           1         0          1           0   \n",
              " \n",
              "       region_northeast  region_northwest  region_southeast  region_southwest  \n",
              " 560                  0                 1                 0                 0  \n",
              " 1285                 1                 0                 0                 0  \n",
              " 1142                 0                 0                 1                 0  \n",
              " 969                  0                 0                 1                 0  \n",
              " 486                  0                 1                 0                 0  ,\n",
              " 560      9193.83850\n",
              " 1285     8534.67180\n",
              " 1142    27117.99378\n",
              " 969      8596.82780\n",
              " 486     12475.35130\n",
              " Name: charges, dtype: float64)"
            ]
          },
          "metadata": {},
          "execution_count": 63
        }
      ]
    },
    {
      "cell_type": "code",
      "source": [
        "# Plot history\n",
        "\n",
        "pd.DataFrame(history.history).plot()\n",
        "plt.ylabel(\"loss\")\n",
        "plt.xlabel(\"epochs\")"
      ],
      "metadata": {
        "colab": {
          "base_uri": "https://localhost:8080/",
          "height": 0
        },
        "id": "59ggaovTSvuJ",
        "outputId": "7fc63830-ecde-4206-af4d-f4b6dc062bda"
      },
      "execution_count": 64,
      "outputs": [
        {
          "output_type": "execute_result",
          "data": {
            "text/plain": [
              "Text(0.5, 0, 'epochs')"
            ]
          },
          "metadata": {},
          "execution_count": 64
        },
        {
          "output_type": "display_data",
          "data": {
            "text/plain": [
              "<Figure size 432x288 with 1 Axes>"
            ],
            "image/png": "[encoded data removed]"
          },
          "metadata": {
            "needs_background": "light"
          }
        }
      ]
    },
    {
      "cell_type": "markdown",
      "source": [
        "Many People have solution which called the EarlyStopping Callback, which is a TensorFlow component you can add improving a certain metric"
      ],
      "metadata": {
        "id": "a560-YfgWwMR"
      }
    },
    {
      "cell_type": "markdown",
      "source": [
        "## Preprocessing Data (normalization and standardization)"
      ],
      "metadata": {
        "id": "iG9_nTHsW_D7"
      }
    },
    {
      "cell_type": "code",
      "source": [
        "# Import required libraries\n",
        "import tensorflow as tf\n",
        "import pandas as pd\n",
        "import matplotlib.pyplot as plt\n",
        "\n",
        "# Read in the insurance dataset\n",
        "insurance_preprocess = pd.read_csv(\"https://raw.githubusercontent.com/stedy/Machine-Learning-with-R-datasets/master/insurance.csv\")\n",
        "insurance_preprocess"
      ],
      "metadata": {
        "colab": {
          "base_uri": "https://localhost:8080/",
          "height": 424
        },
        "id": "F5tg4VLJYWHf",
        "outputId": "f9734a1e-9149-409b-f9d0-6476c5c1bab9"
      },
      "execution_count": 65,
      "outputs": [
        {
          "output_type": "execute_result",
          "data": {
            "text/plain": [
              "      age     sex     bmi  children smoker     region      charges\n",
              "0      19  female  27.900         0    yes  southwest  16884.92400\n",
              "1      18    male  33.770         1     no  southeast   1725.55230\n",
              "2      28    male  33.000         3     no  southeast   4449.46200\n",
              "3      33    male  22.705         0     no  northwest  21984.47061\n",
              "4      32    male  28.880         0     no  northwest   3866.85520\n",
              "...   ...     ...     ...       ...    ...        ...          ...\n",
              "1333   50    male  30.970         3     no  northwest  10600.54830\n",
              "1334   18  female  31.920         0     no  northeast   2205.98080\n",
              "1335   18  female  36.850         0     no  southeast   1629.83350\n",
              "1336   21  female  25.800         0     no  southwest   2007.94500\n",
              "1337   61  female  29.070         0    yes  northwest  29141.36030\n",
              "\n",
              "[1338 rows x 7 columns]"
            ],
            "text/html": [
              "\n",
              "  <div id=\"df-5b33771d-71ce-4c63-a8e5-8d36f1989092\">\n",
              "    <div class=\"colab-df-container\">\n",
              "      <div>\n",
              "<style scoped>\n",
              "    .dataframe tbody tr th:only-of-type {\n",
              "        vertical-align: middle;\n",
              "    }\n",
              "\n",
              "    .dataframe tbody tr th {\n",
              "        vertical-align: top;\n",
              "    }\n",
              "\n",
              "    .dataframe thead th {\n",
              "        text-align: right;\n",
              "    }\n",
              "</style>\n",
              "<table border=\"1\" class=\"dataframe\">\n",
              "  <thead>\n",
              "    <tr style=\"text-align: right;\">\n",
              "      <th></th>\n",
              "      <th>age</th>\n",
              "      <th>sex</th>\n",
              "      <th>bmi</th>\n",
              "      <th>children</th>\n",
              "      <th>smoker</th>\n",
              "      <th>region</th>\n",
              "      <th>charges</th>\n",
              "    </tr>\n",
              "  </thead>\n",
              "  <tbody>\n",
              "    <tr>\n",
              "      <th>0</th>\n",
              "      <td>19</td>\n",
              "      <td>female</td>\n",
              "      <td>27.900</td>\n",
              "      <td>0</td>\n",
              "      <td>yes</td>\n",
              "      <td>southwest</td>\n",
              "      <td>16884.92400</td>\n",
              "    </tr>\n",
              "    <tr>\n",
              "      <th>1</th>\n",
              "      <td>18</td>\n",
              "      <td>male</td>\n",
              "      <td>33.770</td>\n",
              "      <td>1</td>\n",
              "      <td>no</td>\n",
              "      <td>southeast</td>\n",
              "      <td>1725.55230</td>\n",
              "    </tr>\n",
              "    <tr>\n",
              "      <th>2</th>\n",
              "      <td>28</td>\n",
              "      <td>male</td>\n",
              "      <td>33.000</td>\n",
              "      <td>3</td>\n",
              "      <td>no</td>\n",
              "      <td>southeast</td>\n",
              "      <td>4449.46200</td>\n",
              "    </tr>\n",
              "    <tr>\n",
              "      <th>3</th>\n",
              "      <td>33</td>\n",
              "      <td>male</td>\n",
              "      <td>22.705</td>\n",
              "      <td>0</td>\n",
              "      <td>no</td>\n",
              "      <td>northwest</td>\n",
              "      <td>21984.47061</td>\n",
              "    </tr>\n",
              "    <tr>\n",
              "      <th>4</th>\n",
              "      <td>32</td>\n",
              "      <td>male</td>\n",
              "      <td>28.880</td>\n",
              "      <td>0</td>\n",
              "      <td>no</td>\n",
              "      <td>northwest</td>\n",
              "      <td>3866.85520</td>\n",
              "    </tr>\n",
              "    <tr>\n",
              "      <th>...</th>\n",
              "      <td>...</td>\n",
              "      <td>...</td>\n",
              "      <td>...</td>\n",
              "      <td>...</td>\n",
              "      <td>...</td>\n",
              "      <td>...</td>\n",
              "      <td>...</td>\n",
              "    </tr>\n",
              "    <tr>\n",
              "      <th>1333</th>\n",
              "      <td>50</td>\n",
              "      <td>male</td>\n",
              "      <td>30.970</td>\n",
              "      <td>3</td>\n",
              "      <td>no</td>\n",
              "      <td>northwest</td>\n",
              "      <td>10600.54830</td>\n",
              "    </tr>\n",
              "    <tr>\n",
              "      <th>1334</th>\n",
              "      <td>18</td>\n",
              "      <td>female</td>\n",
              "      <td>31.920</td>\n",
              "      <td>0</td>\n",
              "      <td>no</td>\n",
              "      <td>northeast</td>\n",
              "      <td>2205.98080</td>\n",
              "    </tr>\n",
              "    <tr>\n",
              "      <th>1335</th>\n",
              "      <td>18</td>\n",
              "      <td>female</td>\n",
              "      <td>36.850</td>\n",
              "      <td>0</td>\n",
              "      <td>no</td>\n",
              "      <td>southeast</td>\n",
              "      <td>1629.83350</td>\n",
              "    </tr>\n",
              "    <tr>\n",
              "      <th>1336</th>\n",
              "      <td>21</td>\n",
              "      <td>female</td>\n",
              "      <td>25.800</td>\n",
              "      <td>0</td>\n",
              "      <td>no</td>\n",
              "      <td>southwest</td>\n",
              "      <td>2007.94500</td>\n",
              "    </tr>\n",
              "    <tr>\n",
              "      <th>1337</th>\n",
              "      <td>61</td>\n",
              "      <td>female</td>\n",
              "      <td>29.070</td>\n",
              "      <td>0</td>\n",
              "      <td>yes</td>\n",
              "      <td>northwest</td>\n",
              "      <td>29141.36030</td>\n",
              "    </tr>\n",
              "  </tbody>\n",
              "</table>\n",
              "<p>1338 rows × 7 columns</p>\n",
              "</div>\n",
              "      <button class=\"colab-df-convert\" onclick=\"convertToInteractive('df-5b33771d-71ce-4c63-a8e5-8d36f1989092')\"\n",
              "              title=\"Convert this dataframe to an interactive table.\"\n",
              "              style=\"display:none;\">\n",
              "        \n",
              "  <svg xmlns=\"http://www.w3.org/2000/svg\" height=\"24px\"viewBox=\"0 0 24 24\"\n",
              "       width=\"24px\">\n",
              "    <path d=\"M0 0h24v24H0V0z\" fill=\"none\"/>\n",
              "    <path d=\"M18.56 5.44l.94 2.06.94-2.06 2.06-.94-2.06-.94-.94-2.06-.94 2.06-2.06.94zm-11 1L8.5 8.5l.94-2.06 2.06-.94-2.06-.94L8.5 2.5l-.94 2.06-2.06.94zm10 10l.94 2.06.94-2.06 2.06-.94-2.06-.94-.94-2.06-.94 2.06-2.06.94z\"/><path d=\"M17.41 7.96l-1.37-1.37c-.4-.4-.92-.59-1.43-.59-.52 0-1.04.2-1.43.59L10.3 9.45l-7.72 7.72c-.78.78-.78 2.05 0 2.83L4 21.41c.39.39.9.59 1.41.59.51 0 1.02-.2 1.41-.59l7.78-7.78 2.81-2.81c.8-.78.8-2.07 0-2.86zM5.41 20L4 18.59l7.72-7.72 1.47 1.35L5.41 20z\"/>\n",
              "  </svg>\n",
              "      </button>\n",
              "      \n",
              "  <style>\n",
              "    .colab-df-container {\n",
              "      display:flex;\n",
              "      flex-wrap:wrap;\n",
              "      gap: 12px;\n",
              "    }\n",
              "\n",
              "    .colab-df-convert {\n",
              "      background-color: #E8F0FE;\n",
              "      border: none;\n",
              "      border-radius: 50%;\n",
              "      cursor: pointer;\n",
              "      display: none;\n",
              "      fill: #1967D2;\n",
              "      height: 32px;\n",
              "      padding: 0 0 0 0;\n",
              "      width: 32px;\n",
              "    }\n",
              "\n",
              "    .colab-df-convert:hover {\n",
              "      background-color: #E2EBFA;\n",
              "      box-shadow: 0px 1px 2px rgba(60, 64, 67, 0.3), 0px 1px 3px 1px rgba(60, 64, 67, 0.15);\n",
              "      fill: #174EA6;\n",
              "    }\n",
              "\n",
              "    [theme=dark] .colab-df-convert {\n",
              "      background-color: #3B4455;\n",
              "      fill: #D2E3FC;\n",
              "    }\n",
              "\n",
              "    [theme=dark] .colab-df-convert:hover {\n",
              "      background-color: #434B5C;\n",
              "      box-shadow: 0px 1px 3px 1px rgba(0, 0, 0, 0.15);\n",
              "      filter: drop-shadow(0px 1px 2px rgba(0, 0, 0, 0.3));\n",
              "      fill: #FFFFFF;\n",
              "    }\n",
              "  </style>\n",
              "\n",
              "      <script>\n",
              "        const buttonEl =\n",
              "          document.querySelector('#df-5b33771d-71ce-4c63-a8e5-8d36f1989092 button.colab-df-convert');\n",
              "        buttonEl.style.display =\n",
              "          google.colab.kernel.accessAllowed ? 'block' : 'none';\n",
              "\n",
              "        async function convertToInteractive(key) {\n",
              "          const element = document.querySelector('#df-5b33771d-71ce-4c63-a8e5-8d36f1989092');\n",
              "          const dataTable =\n",
              "            await google.colab.kernel.invokeFunction('convertToInteractive',\n",
              "                                                     [key], {});\n",
              "          if (!dataTable) return;\n",
              "\n",
              "          const docLinkHtml = 'Like what you see? Visit the ' +\n",
              "            '<a target=\"_blank\" href=https://colab.research.google.com/notebooks/data_table.ipynb>data table notebook</a>'\n",
              "            + ' to learn more about interactive tables.';\n",
              "          element.innerHTML = '';\n",
              "          dataTable['output_type'] = 'display_data';\n",
              "          await google.colab.output.renderOutput(dataTable, element);\n",
              "          const docLink = document.createElement('div');\n",
              "          docLink.innerHTML = docLinkHtml;\n",
              "          element.appendChild(docLink);\n",
              "        }\n",
              "      </script>\n",
              "    </div>\n",
              "  </div>\n",
              "  "
            ]
          },
          "metadata": {},
          "execution_count": 65
        }
      ]
    },
    {
      "cell_type": "code",
      "source": [
        "# \"age\" & \"bmi\" column\n",
        "insurance_preprocess[\"age\"].plot(kind=\"hist\"), insurance_preprocess[\"bmi\"].plot(kind=\"hist\")"
      ],
      "metadata": {
        "colab": {
          "base_uri": "https://localhost:8080/",
          "height": 300
        },
        "id": "D4YbecQtY-hW",
        "outputId": "2cbcc119-ca7f-41f3-9128-2428c03ebc49"
      },
      "execution_count": 66,
      "outputs": [
        {
          "output_type": "execute_result",
          "data": {
            "text/plain": [
              "(<matplotlib.axes._subplots.AxesSubplot at 0x7f3b62941450>,\n",
              " <matplotlib.axes._subplots.AxesSubplot at 0x7f3b62941450>)"
            ]
          },
          "metadata": {},
          "execution_count": 66
        },
        {
          "output_type": "display_data",
          "data": {
            "text/plain": [
              "<Figure size 432x288 with 1 Axes>"
            ],
            "image/png": "[encoded data removed]"
          },
          "metadata": {
            "needs_background": "light"
          }
        }
      ]
    },
    {
      "cell_type": "markdown",
      "source": [
        "To prepare our data"
      ],
      "metadata": {
        "id": "DCCqhrsYZRnz"
      }
    },
    {
      "cell_type": "code",
      "source": [
        "from sklearn.compose import make_column_transformer\n",
        "from sklearn.preprocessing import MinMaxScaler, OneHotEncoder\n",
        "from sklearn.model_selection import train_test_split\n",
        "# Create a column transformer\n",
        "ct = make_column_transformer(\n",
        "    (MinMaxScaler(), [\"age\", \"bmi\",\"children\"]), # turn all numeric values in between 0 - 1\n",
        "    (OneHotEncoder(handle_unknown=\"ignore\"), [\"sex\", \"smoker\", \"region\"])\n",
        ")\n",
        "# Create X & y\n",
        "X = insurance_preprocess.drop(\"charges\", axis=1)\n",
        "y = insurance[\"charges\"]\n",
        "\n",
        "# Build train and test sets\n",
        "X_NTrain, X_NTest, y_NTrain, y_NTest = train_test_split(X, y, test_size=0.2, random_state=42)\n",
        "\n",
        "# Fit the column transformer to training data\n",
        "ct.fit(X_NTrain)\n",
        "\n",
        "# Transform training and test data with normalization (MinMaxScaler) and OneHotEncoder\n",
        "X_Train_Normal = ct.transform(X_NTrain)\n",
        "X_test_Normal = ct.transform(X_NTest)"
      ],
      "metadata": {
        "id": "2xLeaH6OcHL5"
      },
      "execution_count": 67,
      "outputs": []
    },
    {
      "cell_type": "code",
      "source": [
        "# our data looks like\n",
        "X_NTrain.loc[0]"
      ],
      "metadata": {
        "colab": {
          "base_uri": "https://localhost:8080/"
        },
        "id": "oF2Z6sEmhqqA",
        "outputId": "91c0b807-1099-4700-8baf-e313ffff7e53"
      },
      "execution_count": 68,
      "outputs": [
        {
          "output_type": "execute_result",
          "data": {
            "text/plain": [
              "age                19\n",
              "sex            female\n",
              "bmi              27.9\n",
              "children            0\n",
              "smoker            yes\n",
              "region      southwest\n",
              "Name: 0, dtype: object"
            ]
          },
          "metadata": {},
          "execution_count": 68
        }
      ]
    },
    {
      "cell_type": "code",
      "source": [
        "X_NTrain.shape,X_Train_Normal.shape"
      ],
      "metadata": {
        "colab": {
          "base_uri": "https://localhost:8080/"
        },
        "id": "BnVCXu1kh0AS",
        "outputId": "43d7533d-a54c-4df0-8f84-fd64bee48aa0"
      },
      "execution_count": 69,
      "outputs": [
        {
          "output_type": "execute_result",
          "data": {
            "text/plain": [
              "((1070, 6), (1070, 11))"
            ]
          },
          "metadata": {},
          "execution_count": 69
        }
      ]
    },
    {
      "cell_type": "markdown",
      "source": [
        "Our data has been normalized and one hot encoded.So, we have to rebuild neural network with beautiful dataset"
      ],
      "metadata": {
        "id": "cHrz86ZdsRgS"
      }
    },
    {
      "cell_type": "code",
      "source": [
        "# Build a neural network\n",
        "# Set random seed\n",
        "tf.random.set_seed(42)\n",
        "\n",
        "# 1. Create the model\n",
        "insurance_model_N = tf.keras.Sequential([\n",
        "  tf.keras.layers.Dense(100),\n",
        "  tf.keras.layers.Dense(10),\n",
        "  tf.keras.layers.Dense(1)\n",
        "])\n",
        "# 2. Compile the model\n",
        "insurance_model_N.compile(loss = tf.keras.losses.mae,\n",
        "                optimizer = tf.keras.optimizers.Adam(),\n",
        "                metrics=[\"mae\"])\n",
        "# 3. Fit the model\n",
        "history_N = insurance_model_N.fit(X_Train_Normal, y_train, epochs=200, verbose = 1)"
      ],
      "metadata": {
        "colab": {
          "base_uri": "https://localhost:8080/"
        },
        "id": "hhx_s05Ksc1a",
        "outputId": "0dc801db-da62-44e8-f2aa-189546596b64"
      },
      "execution_count": 70,
      "outputs": [
        {
          "output_type": "stream",
          "name": "stdout",
          "text": [
            "Epoch 1/200\n",
            "34/34 [==============================] - 1s 2ms/step - loss: 13342.6494 - mae: 13342.6494\n",
            "Epoch 2/200\n",
            "34/34 [==============================] - 0s 3ms/step - loss: 13333.4785 - mae: 13333.4785\n",
            "Epoch 3/200\n",
            "34/34 [==============================] - 0s 2ms/step - loss: 13312.0234 - mae: 13312.0234\n",
            "Epoch 4/200\n",
            "34/34 [==============================] - 0s 2ms/step - loss: 13267.7930 - mae: 13267.7930\n",
            "Epoch 5/200\n",
            "34/34 [==============================] - 0s 3ms/step - loss: 13189.5830 - mae: 13189.5830\n",
            "Epoch 6/200\n",
            "34/34 [==============================] - 0s 2ms/step - loss: 13066.4502 - mae: 13066.4502\n",
            "Epoch 7/200\n",
            "34/34 [==============================] - 0s 2ms/step - loss: 12888.1953 - mae: 12888.1953\n",
            "Epoch 8/200\n",
            "34/34 [==============================] - 0s 2ms/step - loss: 12644.6523 - mae: 12644.6523\n",
            "Epoch 9/200\n",
            "34/34 [==============================] - 0s 2ms/step - loss: 12325.5469 - mae: 12325.5469\n",
            "Epoch 10/200\n",
            "34/34 [==============================] - 0s 3ms/step - loss: 11925.9658 - mae: 11925.9658\n",
            "Epoch 11/200\n",
            "34/34 [==============================] - 0s 3ms/step - loss: 11454.3350 - mae: 11454.3350\n",
            "Epoch 12/200\n",
            "34/34 [==============================] - 0s 2ms/step - loss: 10949.8076 - mae: 10949.8076\n",
            "Epoch 13/200\n",
            "34/34 [==============================] - 0s 2ms/step - loss: 10448.9404 - mae: 10448.9404\n",
            "Epoch 14/200\n",
            "34/34 [==============================] - 0s 2ms/step - loss: 9951.6250 - mae: 9951.6250\n",
            "Epoch 15/200\n",
            "34/34 [==============================] - 0s 2ms/step - loss: 9482.7422 - mae: 9482.7422\n",
            "Epoch 16/200\n",
            "34/34 [==============================] - 0s 3ms/step - loss: 9066.7461 - mae: 9066.7461\n",
            "Epoch 17/200\n",
            "34/34 [==============================] - 0s 2ms/step - loss: 8721.9854 - mae: 8721.9854\n",
            "Epoch 18/200\n",
            "34/34 [==============================] - 0s 3ms/step - loss: 8441.2002 - mae: 8441.2002\n",
            "Epoch 19/200\n",
            "34/34 [==============================] - 0s 3ms/step - loss: 8227.5117 - mae: 8227.5117\n",
            "Epoch 20/200\n",
            "34/34 [==============================] - 0s 2ms/step - loss: 8081.9775 - mae: 8081.9775\n",
            "Epoch 21/200\n",
            "34/34 [==============================] - 0s 3ms/step - loss: 7973.8945 - mae: 7973.8945\n",
            "Epoch 22/200\n",
            "34/34 [==============================] - 0s 3ms/step - loss: 7899.1597 - mae: 7899.1597\n",
            "Epoch 23/200\n",
            "34/34 [==============================] - 0s 2ms/step - loss: 7840.3906 - mae: 7840.3906\n",
            "Epoch 24/200\n",
            "34/34 [==============================] - 0s 2ms/step - loss: 7787.9619 - mae: 7787.9619\n",
            "Epoch 25/200\n",
            "34/34 [==============================] - 0s 2ms/step - loss: 7749.2622 - mae: 7749.2622\n",
            "Epoch 26/200\n",
            "34/34 [==============================] - 0s 2ms/step - loss: 7697.9600 - mae: 7697.9600\n",
            "Epoch 27/200\n",
            "34/34 [==============================] - 0s 2ms/step - loss: 7656.0269 - mae: 7656.0269\n",
            "Epoch 28/200\n",
            "34/34 [==============================] - 0s 2ms/step - loss: 7613.4780 - mae: 7613.4780\n",
            "Epoch 29/200\n",
            "34/34 [==============================] - 0s 2ms/step - loss: 7570.9482 - mae: 7570.9482\n",
            "Epoch 30/200\n",
            "34/34 [==============================] - 0s 2ms/step - loss: 7527.4175 - mae: 7527.4175\n",
            "Epoch 31/200\n",
            "34/34 [==============================] - 0s 2ms/step - loss: 7483.5947 - mae: 7483.5947\n",
            "Epoch 32/200\n",
            "34/34 [==============================] - 0s 3ms/step - loss: 7439.4424 - mae: 7439.4424\n",
            "Epoch 33/200\n",
            "34/34 [==============================] - 0s 2ms/step - loss: 7395.0547 - mae: 7395.0547\n",
            "Epoch 34/200\n",
            "34/34 [==============================] - 0s 2ms/step - loss: 7346.8120 - mae: 7346.8120\n",
            "Epoch 35/200\n",
            "34/34 [==============================] - 0s 2ms/step - loss: 7300.0488 - mae: 7300.0488\n",
            "Epoch 36/200\n",
            "34/34 [==============================] - 0s 2ms/step - loss: 7249.8452 - mae: 7249.8452\n",
            "Epoch 37/200\n",
            "34/34 [==============================] - 0s 2ms/step - loss: 7199.5303 - mae: 7199.5303\n",
            "Epoch 38/200\n",
            "34/34 [==============================] - 0s 2ms/step - loss: 7148.4805 - mae: 7148.4805\n",
            "Epoch 39/200\n",
            "34/34 [==============================] - 0s 2ms/step - loss: 7093.6650 - mae: 7093.6650\n",
            "Epoch 40/200\n",
            "34/34 [==============================] - 0s 2ms/step - loss: 7038.1797 - mae: 7038.1797\n",
            "Epoch 41/200\n",
            "34/34 [==============================] - 0s 2ms/step - loss: 6981.7393 - mae: 6981.7393\n",
            "Epoch 42/200\n",
            "34/34 [==============================] - 0s 2ms/step - loss: 6922.7847 - mae: 6922.7847\n",
            "Epoch 43/200\n",
            "34/34 [==============================] - 0s 3ms/step - loss: 6860.1724 - mae: 6860.1724\n",
            "Epoch 44/200\n",
            "34/34 [==============================] - 0s 2ms/step - loss: 6793.7969 - mae: 6793.7969\n",
            "Epoch 45/200\n",
            "34/34 [==============================] - 0s 3ms/step - loss: 6726.6201 - mae: 6726.6201\n",
            "Epoch 46/200\n",
            "34/34 [==============================] - 0s 2ms/step - loss: 6657.4683 - mae: 6657.4683\n",
            "Epoch 47/200\n",
            "34/34 [==============================] - 0s 2ms/step - loss: 6586.3086 - mae: 6586.3086\n",
            "Epoch 48/200\n",
            "34/34 [==============================] - 0s 3ms/step - loss: 6507.5063 - mae: 6507.5063\n",
            "Epoch 49/200\n",
            "34/34 [==============================] - 0s 3ms/step - loss: 6428.6021 - mae: 6428.6021\n",
            "Epoch 50/200\n",
            "34/34 [==============================] - 0s 3ms/step - loss: 6342.7100 - mae: 6342.7100\n",
            "Epoch 51/200\n",
            "34/34 [==============================] - 0s 2ms/step - loss: 6258.0718 - mae: 6258.0718\n",
            "Epoch 52/200\n",
            "34/34 [==============================] - 0s 2ms/step - loss: 6164.7046 - mae: 6164.7046\n",
            "Epoch 53/200\n",
            "34/34 [==============================] - 0s 3ms/step - loss: 6068.6748 - mae: 6068.6748\n",
            "Epoch 54/200\n",
            "34/34 [==============================] - 0s 3ms/step - loss: 5970.0981 - mae: 5970.0981\n",
            "Epoch 55/200\n",
            "34/34 [==============================] - 0s 2ms/step - loss: 5862.5625 - mae: 5862.5625\n",
            "Epoch 56/200\n",
            "34/34 [==============================] - 0s 2ms/step - loss: 5753.9526 - mae: 5753.9526\n",
            "Epoch 57/200\n",
            "34/34 [==============================] - 0s 2ms/step - loss: 5638.0942 - mae: 5638.0942\n",
            "Epoch 58/200\n",
            "34/34 [==============================] - 0s 2ms/step - loss: 5519.8687 - mae: 5519.8687\n",
            "Epoch 59/200\n",
            "34/34 [==============================] - 0s 2ms/step - loss: 5401.3198 - mae: 5401.3198\n",
            "Epoch 60/200\n",
            "34/34 [==============================] - 0s 2ms/step - loss: 5277.3506 - mae: 5277.3506\n",
            "Epoch 61/200\n",
            "34/34 [==============================] - 0s 2ms/step - loss: 5149.7637 - mae: 5149.7637\n",
            "Epoch 62/200\n",
            "34/34 [==============================] - 0s 2ms/step - loss: 5019.3535 - mae: 5019.3535\n",
            "Epoch 63/200\n",
            "34/34 [==============================] - 0s 2ms/step - loss: 4889.6865 - mae: 4889.6865\n",
            "Epoch 64/200\n",
            "34/34 [==============================] - 0s 2ms/step - loss: 4756.8560 - mae: 4756.8560\n",
            "Epoch 65/200\n",
            "34/34 [==============================] - 0s 3ms/step - loss: 4629.4370 - mae: 4629.4370\n",
            "Epoch 66/200\n",
            "34/34 [==============================] - 0s 2ms/step - loss: 4503.5991 - mae: 4503.5991\n",
            "Epoch 67/200\n",
            "34/34 [==============================] - 0s 2ms/step - loss: 4392.9922 - mae: 4392.9922\n",
            "Epoch 68/200\n",
            "34/34 [==============================] - 0s 2ms/step - loss: 4284.3862 - mae: 4284.3862\n",
            "Epoch 69/200\n",
            "34/34 [==============================] - 0s 2ms/step - loss: 4182.6182 - mae: 4182.6182\n",
            "Epoch 70/200\n",
            "34/34 [==============================] - 0s 2ms/step - loss: 4089.5725 - mae: 4089.5725\n",
            "Epoch 71/200\n",
            "34/34 [==============================] - 0s 2ms/step - loss: 4003.3896 - mae: 4003.3896\n",
            "Epoch 72/200\n",
            "34/34 [==============================] - 0s 2ms/step - loss: 3929.0093 - mae: 3929.0093\n",
            "Epoch 73/200\n",
            "34/34 [==============================] - 0s 2ms/step - loss: 3866.3110 - mae: 3866.3110\n",
            "Epoch 74/200\n",
            "34/34 [==============================] - 0s 2ms/step - loss: 3813.7144 - mae: 3813.7144\n",
            "Epoch 75/200\n",
            "34/34 [==============================] - 0s 2ms/step - loss: 3773.0317 - mae: 3773.0317\n",
            "Epoch 76/200\n",
            "34/34 [==============================] - 0s 3ms/step - loss: 3744.1995 - mae: 3744.1995\n",
            "Epoch 77/200\n",
            "34/34 [==============================] - 0s 3ms/step - loss: 3719.6870 - mae: 3719.6870\n",
            "Epoch 78/200\n",
            "34/34 [==============================] - 0s 3ms/step - loss: 3702.9109 - mae: 3702.9109\n",
            "Epoch 79/200\n",
            "34/34 [==============================] - 0s 2ms/step - loss: 3691.8787 - mae: 3691.8787\n",
            "Epoch 80/200\n",
            "34/34 [==============================] - 0s 2ms/step - loss: 3682.8350 - mae: 3682.8350\n",
            "Epoch 81/200\n",
            "34/34 [==============================] - 0s 2ms/step - loss: 3676.9763 - mae: 3676.9763\n",
            "Epoch 82/200\n",
            "34/34 [==============================] - 0s 2ms/step - loss: 3673.9492 - mae: 3673.9492\n",
            "Epoch 83/200\n",
            "34/34 [==============================] - 0s 2ms/step - loss: 3667.8452 - mae: 3667.8452\n",
            "Epoch 84/200\n",
            "34/34 [==============================] - 0s 2ms/step - loss: 3664.5757 - mae: 3664.5757\n",
            "Epoch 85/200\n",
            "34/34 [==============================] - 0s 2ms/step - loss: 3661.8562 - mae: 3661.8562\n",
            "Epoch 86/200\n",
            "34/34 [==============================] - 0s 2ms/step - loss: 3660.3044 - mae: 3660.3044\n",
            "Epoch 87/200\n",
            "34/34 [==============================] - 0s 2ms/step - loss: 3657.5137 - mae: 3657.5137\n",
            "Epoch 88/200\n",
            "34/34 [==============================] - 0s 3ms/step - loss: 3655.2200 - mae: 3655.2200\n",
            "Epoch 89/200\n",
            "34/34 [==============================] - 0s 2ms/step - loss: 3653.8831 - mae: 3653.8831\n",
            "Epoch 90/200\n",
            "34/34 [==============================] - 0s 2ms/step - loss: 3652.0198 - mae: 3652.0198\n",
            "Epoch 91/200\n",
            "34/34 [==============================] - 0s 2ms/step - loss: 3648.9990 - mae: 3648.9990\n",
            "Epoch 92/200\n",
            "34/34 [==============================] - 0s 2ms/step - loss: 3648.4460 - mae: 3648.4460\n",
            "Epoch 93/200\n",
            "34/34 [==============================] - 0s 2ms/step - loss: 3646.2300 - mae: 3646.2300\n",
            "Epoch 94/200\n",
            "34/34 [==============================] - 0s 2ms/step - loss: 3644.4377 - mae: 3644.4377\n",
            "Epoch 95/200\n",
            "34/34 [==============================] - 0s 2ms/step - loss: 3645.8772 - mae: 3645.8772\n",
            "Epoch 96/200\n",
            "34/34 [==============================] - 0s 2ms/step - loss: 3642.2576 - mae: 3642.2576\n",
            "Epoch 97/200\n",
            "34/34 [==============================] - 0s 2ms/step - loss: 3640.1189 - mae: 3640.1189\n",
            "Epoch 98/200\n",
            "34/34 [==============================] - 0s 2ms/step - loss: 3638.0647 - mae: 3638.0647\n",
            "Epoch 99/200\n",
            "34/34 [==============================] - 0s 3ms/step - loss: 3637.2051 - mae: 3637.2051\n",
            "Epoch 100/200\n",
            "34/34 [==============================] - 0s 2ms/step - loss: 3636.1707 - mae: 3636.1707\n",
            "Epoch 101/200\n",
            "34/34 [==============================] - 0s 2ms/step - loss: 3633.0803 - mae: 3633.0803\n",
            "Epoch 102/200\n",
            "34/34 [==============================] - 0s 2ms/step - loss: 3630.6155 - mae: 3630.6155\n",
            "Epoch 103/200\n",
            "34/34 [==============================] - 0s 2ms/step - loss: 3629.4307 - mae: 3629.4307\n",
            "Epoch 104/200\n",
            "34/34 [==============================] - 0s 2ms/step - loss: 3627.0293 - mae: 3627.0293\n",
            "Epoch 105/200\n",
            "34/34 [==============================] - 0s 3ms/step - loss: 3625.3787 - mae: 3625.3787\n",
            "Epoch 106/200\n",
            "34/34 [==============================] - 0s 3ms/step - loss: 3624.1885 - mae: 3624.1885\n",
            "Epoch 107/200\n",
            "34/34 [==============================] - 0s 2ms/step - loss: 3623.4670 - mae: 3623.4670\n",
            "Epoch 108/200\n",
            "34/34 [==============================] - 0s 2ms/step - loss: 3621.1238 - mae: 3621.1238\n",
            "Epoch 109/200\n",
            "34/34 [==============================] - 0s 3ms/step - loss: 3621.1895 - mae: 3621.1895\n",
            "Epoch 110/200\n",
            "34/34 [==============================] - 0s 3ms/step - loss: 3618.2805 - mae: 3618.2805\n",
            "Epoch 111/200\n",
            "34/34 [==============================] - 0s 2ms/step - loss: 3615.2791 - mae: 3615.2791\n",
            "Epoch 112/200\n",
            "34/34 [==============================] - 0s 2ms/step - loss: 3613.2451 - mae: 3613.2451\n",
            "Epoch 113/200\n",
            "34/34 [==============================] - 0s 3ms/step - loss: 3611.9092 - mae: 3611.9092\n",
            "Epoch 114/200\n",
            "34/34 [==============================] - 0s 2ms/step - loss: 3610.8164 - mae: 3610.8164\n",
            "Epoch 115/200\n",
            "34/34 [==============================] - 0s 2ms/step - loss: 3609.1033 - mae: 3609.1033\n",
            "Epoch 116/200\n",
            "34/34 [==============================] - 0s 2ms/step - loss: 3607.6526 - mae: 3607.6526\n",
            "Epoch 117/200\n",
            "34/34 [==============================] - 0s 2ms/step - loss: 3604.7556 - mae: 3604.7556\n",
            "Epoch 118/200\n",
            "34/34 [==============================] - 0s 2ms/step - loss: 3600.8137 - mae: 3600.8137\n",
            "Epoch 119/200\n",
            "34/34 [==============================] - 0s 2ms/step - loss: 3602.6387 - mae: 3602.6387\n",
            "Epoch 120/200\n",
            "34/34 [==============================] - 0s 2ms/step - loss: 3600.3208 - mae: 3600.3208\n",
            "Epoch 121/200\n",
            "34/34 [==============================] - 0s 3ms/step - loss: 3595.2522 - mae: 3595.2522\n",
            "Epoch 122/200\n",
            "34/34 [==============================] - 0s 2ms/step - loss: 3594.6338 - mae: 3594.6338\n",
            "Epoch 123/200\n",
            "34/34 [==============================] - 0s 2ms/step - loss: 3592.6138 - mae: 3592.6138\n",
            "Epoch 124/200\n",
            "34/34 [==============================] - 0s 2ms/step - loss: 3590.3994 - mae: 3590.3994\n",
            "Epoch 125/200\n",
            "34/34 [==============================] - 0s 2ms/step - loss: 3588.4041 - mae: 3588.4041\n",
            "Epoch 126/200\n",
            "34/34 [==============================] - 0s 3ms/step - loss: 3587.5059 - mae: 3587.5059\n",
            "Epoch 127/200\n",
            "34/34 [==============================] - 0s 2ms/step - loss: 3588.0415 - mae: 3588.0415\n",
            "Epoch 128/200\n",
            "34/34 [==============================] - 0s 2ms/step - loss: 3584.1001 - mae: 3584.1001\n",
            "Epoch 129/200\n",
            "34/34 [==============================] - 0s 2ms/step - loss: 3582.7317 - mae: 3582.7317\n",
            "Epoch 130/200\n",
            "34/34 [==============================] - 0s 2ms/step - loss: 3579.1135 - mae: 3579.1135\n",
            "Epoch 131/200\n",
            "34/34 [==============================] - 0s 3ms/step - loss: 3577.7139 - mae: 3577.7139\n",
            "Epoch 132/200\n",
            "34/34 [==============================] - 0s 3ms/step - loss: 3574.9951 - mae: 3574.9951\n",
            "Epoch 133/200\n",
            "34/34 [==============================] - 0s 3ms/step - loss: 3573.2947 - mae: 3573.2947\n",
            "Epoch 134/200\n",
            "34/34 [==============================] - 0s 2ms/step - loss: 3571.3865 - mae: 3571.3865\n",
            "Epoch 135/200\n",
            "34/34 [==============================] - 0s 2ms/step - loss: 3569.3606 - mae: 3569.3606\n",
            "Epoch 136/200\n",
            "34/34 [==============================] - 0s 2ms/step - loss: 3568.0547 - mae: 3568.0547\n",
            "Epoch 137/200\n",
            "34/34 [==============================] - 0s 3ms/step - loss: 3566.1060 - mae: 3566.1060\n",
            "Epoch 138/200\n",
            "34/34 [==============================] - 0s 2ms/step - loss: 3563.9617 - mae: 3563.9617\n",
            "Epoch 139/200\n",
            "34/34 [==============================] - 0s 2ms/step - loss: 3563.3350 - mae: 3563.3350\n",
            "Epoch 140/200\n",
            "34/34 [==============================] - 0s 2ms/step - loss: 3561.2305 - mae: 3561.2305\n",
            "Epoch 141/200\n",
            "34/34 [==============================] - 0s 2ms/step - loss: 3561.1250 - mae: 3561.1250\n",
            "Epoch 142/200\n",
            "34/34 [==============================] - 0s 2ms/step - loss: 3558.0391 - mae: 3558.0391\n",
            "Epoch 143/200\n",
            "34/34 [==============================] - 0s 3ms/step - loss: 3558.0339 - mae: 3558.0339\n",
            "Epoch 144/200\n",
            "34/34 [==============================] - 0s 2ms/step - loss: 3555.1953 - mae: 3555.1953\n",
            "Epoch 145/200\n",
            "34/34 [==============================] - 0s 2ms/step - loss: 3553.2446 - mae: 3553.2446\n",
            "Epoch 146/200\n",
            "34/34 [==============================] - 0s 2ms/step - loss: 3553.4751 - mae: 3553.4751\n",
            "Epoch 147/200\n",
            "34/34 [==============================] - 0s 2ms/step - loss: 3551.0720 - mae: 3551.0720\n",
            "Epoch 148/200\n",
            "34/34 [==============================] - 0s 2ms/step - loss: 3549.7551 - mae: 3549.7551\n",
            "Epoch 149/200\n",
            "34/34 [==============================] - 0s 3ms/step - loss: 3547.0066 - mae: 3547.0066\n",
            "Epoch 150/200\n",
            "34/34 [==============================] - 0s 2ms/step - loss: 3546.9910 - mae: 3546.9910\n",
            "Epoch 151/200\n",
            "34/34 [==============================] - 0s 3ms/step - loss: 3545.1938 - mae: 3545.1938\n",
            "Epoch 152/200\n",
            "34/34 [==============================] - 0s 2ms/step - loss: 3543.3826 - mae: 3543.3826\n",
            "Epoch 153/200\n",
            "34/34 [==============================] - 0s 2ms/step - loss: 3541.9124 - mae: 3541.9124\n",
            "Epoch 154/200\n",
            "34/34 [==============================] - 0s 3ms/step - loss: 3543.1577 - mae: 3543.1577\n",
            "Epoch 155/200\n",
            "34/34 [==============================] - 0s 2ms/step - loss: 3540.6167 - mae: 3540.6167\n",
            "Epoch 156/200\n",
            "34/34 [==============================] - 0s 2ms/step - loss: 3538.9226 - mae: 3538.9226\n",
            "Epoch 157/200\n",
            "34/34 [==============================] - 0s 3ms/step - loss: 3537.4109 - mae: 3537.4109\n",
            "Epoch 158/200\n",
            "34/34 [==============================] - 0s 2ms/step - loss: 3534.4917 - mae: 3534.4917\n",
            "Epoch 159/200\n",
            "34/34 [==============================] - 0s 3ms/step - loss: 3532.9485 - mae: 3532.9485\n",
            "Epoch 160/200\n",
            "34/34 [==============================] - 0s 2ms/step - loss: 3532.6985 - mae: 3532.6985\n",
            "Epoch 161/200\n",
            "34/34 [==============================] - 0s 2ms/step - loss: 3529.6243 - mae: 3529.6243\n",
            "Epoch 162/200\n",
            "34/34 [==============================] - 0s 2ms/step - loss: 3529.0967 - mae: 3529.0967\n",
            "Epoch 163/200\n",
            "34/34 [==============================] - 0s 3ms/step - loss: 3527.5425 - mae: 3527.5425\n",
            "Epoch 164/200\n",
            "34/34 [==============================] - 0s 2ms/step - loss: 3526.2844 - mae: 3526.2844\n",
            "Epoch 165/200\n",
            "34/34 [==============================] - 0s 3ms/step - loss: 3524.1594 - mae: 3524.1594\n",
            "Epoch 166/200\n",
            "34/34 [==============================] - 0s 2ms/step - loss: 3522.7070 - mae: 3522.7070\n",
            "Epoch 167/200\n",
            "34/34 [==============================] - 0s 2ms/step - loss: 3521.8069 - mae: 3521.8069\n",
            "Epoch 168/200\n",
            "34/34 [==============================] - 0s 2ms/step - loss: 3520.5659 - mae: 3520.5659\n",
            "Epoch 169/200\n",
            "34/34 [==============================] - 0s 2ms/step - loss: 3519.4631 - mae: 3519.4631\n",
            "Epoch 170/200\n",
            "34/34 [==============================] - 0s 2ms/step - loss: 3518.0566 - mae: 3518.0566\n",
            "Epoch 171/200\n",
            "34/34 [==============================] - 0s 2ms/step - loss: 3517.6172 - mae: 3517.6172\n",
            "Epoch 172/200\n",
            "34/34 [==============================] - 0s 3ms/step - loss: 3516.0525 - mae: 3516.0525\n",
            "Epoch 173/200\n",
            "34/34 [==============================] - 0s 2ms/step - loss: 3514.9302 - mae: 3514.9302\n",
            "Epoch 174/200\n",
            "34/34 [==============================] - 0s 2ms/step - loss: 3513.6685 - mae: 3513.6685\n",
            "Epoch 175/200\n",
            "34/34 [==============================] - 0s 2ms/step - loss: 3512.3582 - mae: 3512.3582\n",
            "Epoch 176/200\n",
            "34/34 [==============================] - 0s 3ms/step - loss: 3512.1816 - mae: 3512.1816\n",
            "Epoch 177/200\n",
            "34/34 [==============================] - 0s 2ms/step - loss: 3512.5046 - mae: 3512.5046\n",
            "Epoch 178/200\n",
            "34/34 [==============================] - 0s 2ms/step - loss: 3510.2725 - mae: 3510.2725\n",
            "Epoch 179/200\n",
            "34/34 [==============================] - 0s 2ms/step - loss: 3512.1841 - mae: 3512.1841\n",
            "Epoch 180/200\n",
            "34/34 [==============================] - 0s 3ms/step - loss: 3507.1208 - mae: 3507.1208\n",
            "Epoch 181/200\n",
            "34/34 [==============================] - 0s 3ms/step - loss: 3505.0276 - mae: 3505.0276\n",
            "Epoch 182/200\n",
            "34/34 [==============================] - 0s 2ms/step - loss: 3504.4312 - mae: 3504.4312\n",
            "Epoch 183/200\n",
            "34/34 [==============================] - 0s 2ms/step - loss: 3502.5483 - mae: 3502.5483\n",
            "Epoch 184/200\n",
            "34/34 [==============================] - 0s 2ms/step - loss: 3501.8333 - mae: 3501.8333\n",
            "Epoch 185/200\n",
            "34/34 [==============================] - 0s 2ms/step - loss: 3501.4792 - mae: 3501.4792\n",
            "Epoch 186/200\n",
            "34/34 [==============================] - 0s 2ms/step - loss: 3498.9011 - mae: 3498.9011\n",
            "Epoch 187/200\n",
            "34/34 [==============================] - 0s 2ms/step - loss: 3499.2842 - mae: 3499.2842\n",
            "Epoch 188/200\n",
            "34/34 [==============================] - 0s 3ms/step - loss: 3496.6895 - mae: 3496.6895\n",
            "Epoch 189/200\n",
            "34/34 [==============================] - 0s 2ms/step - loss: 3495.1077 - mae: 3495.1077\n",
            "Epoch 190/200\n",
            "34/34 [==============================] - 0s 2ms/step - loss: 3496.6016 - mae: 3496.6016\n",
            "Epoch 191/200\n",
            "34/34 [==============================] - 0s 3ms/step - loss: 3502.1326 - mae: 3502.1326\n",
            "Epoch 192/200\n",
            "34/34 [==============================] - 0s 2ms/step - loss: 3491.8506 - mae: 3491.8506\n",
            "Epoch 193/200\n",
            "34/34 [==============================] - 0s 2ms/step - loss: 3491.6604 - mae: 3491.6604\n",
            "Epoch 194/200\n",
            "34/34 [==============================] - 0s 3ms/step - loss: 3488.8264 - mae: 3488.8264\n",
            "Epoch 195/200\n",
            "34/34 [==============================] - 0s 2ms/step - loss: 3488.7256 - mae: 3488.7256\n",
            "Epoch 196/200\n",
            "34/34 [==============================] - 0s 2ms/step - loss: 3489.5098 - mae: 3489.5098\n",
            "Epoch 197/200\n",
            "34/34 [==============================] - 0s 3ms/step - loss: 3485.7688 - mae: 3485.7688\n",
            "Epoch 198/200\n",
            "34/34 [==============================] - 0s 3ms/step - loss: 3484.7117 - mae: 3484.7117\n",
            "Epoch 199/200\n",
            "34/34 [==============================] - 0s 2ms/step - loss: 3483.4468 - mae: 3483.4468\n",
            "Epoch 200/200\n",
            "34/34 [==============================] - 0s 2ms/step - loss: 3484.3950 - mae: 3484.3950\n"
          ]
        }
      ]
    },
    {
      "cell_type": "code",
      "source": [
        "# check the result of the insurance model normal\n",
        "insurance_model_N.evaluate(X_test_Normal, y_test)"
      ],
      "metadata": {
        "colab": {
          "base_uri": "https://localhost:8080/"
        },
        "id": "ZgsxdI7otBvt",
        "outputId": "94783548-0838-4967-c777-f6fa5589ed2b"
      },
      "execution_count": 71,
      "outputs": [
        {
          "output_type": "stream",
          "name": "stdout",
          "text": [
            "9/9 [==============================] - 0s 2ms/step - loss: 3171.5776 - mae: 3171.5776\n"
          ]
        },
        {
          "output_type": "execute_result",
          "data": {
            "text/plain": [
              "[3171.57763671875, 3171.57763671875]"
            ]
          },
          "metadata": {},
          "execution_count": 71
        }
      ]
    }
  ]
}