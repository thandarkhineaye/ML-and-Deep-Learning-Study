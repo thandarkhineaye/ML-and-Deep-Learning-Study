{
  "cells": [
    {
      "cell_type": "markdown",
      "metadata": {
        "id": "DPiF2ksfZtCJ"
      },
      "source": [
        "# Transfer Learning with TensorFlow Part 1: Feature Extraction\n",
        "\n",
        "Transfer learning is leveraging a working model's exitsting architecture and learned patterns for over own problem.\n",
        "\n",
        "There are two main benefits:\n",
        "1. Can leverage an existing neural network architecture proven to work on problems similar to our own.\n",
        "2. Can leverage a working neural network architecture which has already learned patterns on similar data to our own, then we can adapt those patterns to our own data"
      ]
    },
    {
      "cell_type": "code",
      "execution_count": 2,
      "metadata": {
        "colab": {
          "base_uri": "https://localhost:8080/"
        },
        "id": "GJAaICe1bgeb",
        "outputId": "822a0cfc-e695-49ce-b036-ff4302120318"
      },
      "outputs": [
        {
          "output_type": "stream",
          "name": "stdout",
          "text": [
            "Mon Oct 31 05:17:45 2022       \n",
            "+-----------------------------------------------------------------------------+\n",
            "| NVIDIA-SMI 460.32.03    Driver Version: 460.32.03    CUDA Version: 11.2     |\n",
            "|-------------------------------+----------------------+----------------------+\n",
            "| GPU  Name        Persistence-M| Bus-Id        Disp.A | Volatile Uncorr. ECC |\n",
            "| Fan  Temp  Perf  Pwr:Usage/Cap|         Memory-Usage | GPU-Util  Compute M. |\n",
            "|                               |                      |               MIG M. |\n",
            "|===============================+======================+======================|\n",
            "|   0  Tesla T4            Off  | 00000000:00:04.0 Off |                    0 |\n",
            "| N/A   58C    P8    10W /  70W |      0MiB / 15109MiB |      0%      Default |\n",
            "|                               |                      |                  N/A |\n",
            "+-------------------------------+----------------------+----------------------+\n",
            "                                                                               \n",
            "+-----------------------------------------------------------------------------+\n",
            "| Processes:                                                                  |\n",
            "|  GPU   GI   CI        PID   Type   Process name                  GPU Memory |\n",
            "|        ID   ID                                                   Usage      |\n",
            "|=============================================================================|\n",
            "|  No running processes found                                                 |\n",
            "+-----------------------------------------------------------------------------+\n"
          ]
        }
      ],
      "source": [
        "# Are we using a GPU?\n",
        "!nvidia-smi"
      ]
    },
    {
      "cell_type": "markdown",
      "metadata": {
        "id": "MHAcvoDhdJA7"
      },
      "source": [
        "# Downloading and becoming one with the data"
      ]
    },
    {
      "cell_type": "code",
      "execution_count": 3,
      "metadata": {
        "colab": {
          "base_uri": "https://localhost:8080/"
        },
        "id": "gXcZ5UbFdKm8",
        "outputId": "bff8b662-0fb3-4118-a900-130407e9398d"
      },
      "outputs": [
        {
          "output_type": "stream",
          "name": "stdout",
          "text": [
            "--2022-10-31 05:17:48--  https://storage.googleapis.com/ztm_tf_course/food_vision/10_food_classes_10_percent.zip\n",
            "Resolving storage.googleapis.com (storage.googleapis.com)... 74.125.24.128, 142.251.10.128, 142.251.12.128, ...\n",
            "Connecting to storage.googleapis.com (storage.googleapis.com)|74.125.24.128|:443... connected.\n",
            "HTTP request sent, awaiting response... 200 OK\n",
            "Length: 168546183 (161M) [application/zip]\n",
            "Saving to: ‘10_food_classes_10_percent.zip’\n",
            "\n",
            "10_food_classes_10_ 100%[===================>] 160.74M   297MB/s    in 0.5s    \n",
            "\n",
            "2022-10-31 05:17:49 (297 MB/s) - ‘10_food_classes_10_percent.zip’ saved [168546183/168546183]\n",
            "\n"
          ]
        }
      ],
      "source": [
        "# Get data (10% of labels)\n",
        "import zipfile\n",
        "\n",
        "# Download data\n",
        "!wget https://storage.googleapis.com/ztm_tf_course/food_vision/10_food_classes_10_percent.zip\n",
        "\n",
        "# Unzip the downloaded file\n",
        "zip_ref = zipfile.ZipFile(\"10_food_classes_10_percent.zip\", \"r\")\n",
        "zip_ref.extractall()\n",
        "zip_ref.close()"
      ]
    },
    {
      "cell_type": "code",
      "execution_count": 4,
      "metadata": {
        "colab": {
          "base_uri": "https://localhost:8080/"
        },
        "id": "TnQhlykSfjVu",
        "outputId": "31a94951-6983-4369-92a5-90e545fefce8"
      },
      "outputs": [
        {
          "output_type": "stream",
          "name": "stdout",
          "text": [
            "There are 2 directories and 0 images in '10_food_classes_10_percent'.\n",
            "There are 10 directories and 0 images in '10_food_classes_10_percent/train'.\n",
            "There are 0 directories and 75 images in '10_food_classes_10_percent/train/fried_rice'.\n",
            "There are 0 directories and 75 images in '10_food_classes_10_percent/train/chicken_curry'.\n",
            "There are 0 directories and 75 images in '10_food_classes_10_percent/train/ice_cream'.\n",
            "There are 0 directories and 75 images in '10_food_classes_10_percent/train/chicken_wings'.\n",
            "There are 0 directories and 75 images in '10_food_classes_10_percent/train/sushi'.\n",
            "There are 0 directories and 75 images in '10_food_classes_10_percent/train/grilled_salmon'.\n",
            "There are 0 directories and 75 images in '10_food_classes_10_percent/train/ramen'.\n",
            "There are 0 directories and 75 images in '10_food_classes_10_percent/train/pizza'.\n",
            "There are 0 directories and 75 images in '10_food_classes_10_percent/train/hamburger'.\n",
            "There are 0 directories and 75 images in '10_food_classes_10_percent/train/steak'.\n",
            "There are 10 directories and 0 images in '10_food_classes_10_percent/test'.\n",
            "There are 0 directories and 250 images in '10_food_classes_10_percent/test/fried_rice'.\n",
            "There are 0 directories and 250 images in '10_food_classes_10_percent/test/chicken_curry'.\n",
            "There are 0 directories and 250 images in '10_food_classes_10_percent/test/ice_cream'.\n",
            "There are 0 directories and 250 images in '10_food_classes_10_percent/test/chicken_wings'.\n",
            "There are 0 directories and 250 images in '10_food_classes_10_percent/test/sushi'.\n",
            "There are 0 directories and 250 images in '10_food_classes_10_percent/test/grilled_salmon'.\n",
            "There are 0 directories and 250 images in '10_food_classes_10_percent/test/ramen'.\n",
            "There are 0 directories and 250 images in '10_food_classes_10_percent/test/pizza'.\n",
            "There are 0 directories and 250 images in '10_food_classes_10_percent/test/hamburger'.\n",
            "There are 0 directories and 250 images in '10_food_classes_10_percent/test/steak'.\n"
          ]
        }
      ],
      "source": [
        "# How many images in each folder?\n",
        "import os\n",
        "# Walk through 10 percent data directory and list number of files\n",
        "for dirpath, dirnames, filenames in os.walk(\"10_food_classes_10_percent\"):\n",
        "  print(f\"There are {len(dirnames)} directories and {len(filenames)} images in '{dirpath}'.\")"
      ]
    },
    {
      "cell_type": "markdown",
      "metadata": {
        "id": "4-gKmUfYf1_m"
      },
      "source": [
        "Notice: how each of the training directories now has 75 images rather than 750 images.  \n",
        "This is key to demonstrating how well transfer learning can perform with less labelled images.\n",
        "\n",
        "The test directories still have the same amount of images.  \n",
        "This means we'll be training on less data but evaluating our models on the same amount of test data."
      ]
    },
    {
      "cell_type": "markdown",
      "metadata": {
        "id": "Je26hd3JgHWw"
      },
      "source": [
        "## Creating data loaders (preparing the data)\n",
        "\n",
        "Now we've downloaded the data, we'll the ImageDataGenerator class along with the flow_from_directory method to load in our images."
      ]
    },
    {
      "cell_type": "code",
      "execution_count": 5,
      "metadata": {
        "colab": {
          "base_uri": "https://localhost:8080/"
        },
        "id": "FQn1EbRRgNdY",
        "outputId": "f8d47d50-0e78-4bf4-d3fc-689e6a7c1c27"
      },
      "outputs": [
        {
          "output_type": "stream",
          "name": "stdout",
          "text": [
            "Training images:\n",
            "Found 750 images belonging to 10 classes.\n",
            "Testing images:\n",
            "Found 2500 images belonging to 10 classes.\n"
          ]
        }
      ],
      "source": [
        "# Setup data inputs\n",
        "from tensorflow.keras.preprocessing.image import ImageDataGenerator\n",
        "\n",
        "# Define image shape and batch size\n",
        "IMAGE_SHAPE = (224, 224)\n",
        "BATCH_SIZE = 32\n",
        "\n",
        "# Set train and test data set\n",
        "train_dir = \"10_food_classes_10_percent/train/\"\n",
        "test_dir = \"10_food_classes_10_percent/test/\"\n",
        "\n",
        "# Set train and test datagen\n",
        "train_datagen = ImageDataGenerator(rescale=1/255.)\n",
        "test_datagen = ImageDataGenerator(rescale=1/255.)\n",
        "\n",
        "print(\"Training images:\")\n",
        "train_data_10_percent = train_datagen.flow_from_directory(train_dir,\n",
        "                                               target_size=IMAGE_SHAPE,\n",
        "                                               batch_size=BATCH_SIZE,\n",
        "                                               class_mode=\"categorical\")\n",
        "\n",
        "print(\"Testing images:\")\n",
        "test_data = train_datagen.flow_from_directory(test_dir,\n",
        "                                              target_size=IMAGE_SHAPE,\n",
        "                                              batch_size=BATCH_SIZE,\n",
        "                                              class_mode=\"categorical\")\n"
      ]
    },
    {
      "cell_type": "markdown",
      "metadata": {
        "id": "dzW29QGkgQ-a"
      },
      "source": [
        "## Setting up callbacks (things to run whilst our model trains)\n",
        "\n",
        "Callbacks are extra functionality you can add to your models to be performed during or after training. Some of the most popular callbacks include:\n",
        "Some of the most popular callbacks:\n",
        "* **Tracking experiments with the TensorBoard callback** : log the performance of multiple models and then view and compare these models in a visual way on TensorBoard (a dashboard for inspecting neural network parameters). Helpful to compare the results of different models on your data.\n",
        "* **Model checkpoint with the ModelCheclpoint callback** : save your model as it trains so you can stop training if needed and come back to continue off where you left. Helpful if training takes a long time and can't be done in one sitting.\n",
        "* **Stopping a model from training (before it trains too long and overfits)with the EarlyStoping callback** : leave your model training for an arbitrary amount of time and have it stop training automatically when it ceases to improve. Helpful when you've got a large dataset and don't know how long training will take."
      ]
    },
    {
      "cell_type": "code",
      "execution_count": 1,
      "metadata": {
        "id": "5rr9xV1ekvdO"
      },
      "outputs": [],
      "source": [
        "# Create tensorboard callback (functionized because need to create a new one for each model)\n",
        "import datetime\n",
        "def create_tensorboard_callback(dir_name, experiment_name):\n",
        "  log_dir = dir_name + \"/\" + experiment_name + \"/\" + datetime.datetime.now().strftime(\"%Y%m%d-%H%M%S\")\n",
        "  tensorboard_callback = tf.keras.callbacks.TensorBoard(\n",
        "      log_dir=log_dir\n",
        "  )\n",
        "  print(f\"Saving TensorBoard log files to: {log_dir}\")\n",
        "  return tensorboard_callback"
      ]
    },
    {
      "cell_type": "markdown",
      "metadata": {
        "id": "BWXkoG1zx8WX"
      },
      "source": [
        "## Creating models using TensorFlow Hub\n",
        "In the past we've used TensorFlow to create our own models layer by layer from scratch.\n",
        "\n",
        "Now we're going to do a similar process, except the majority of our model's layers are going to come from TensorFlow Hub.\n",
        "We can access pretrained models on: https://tfhub.dev/"
      ]
    },
    {
      "cell_type": "code",
      "execution_count": 6,
      "metadata": {
        "id": "IVeLccOQ97N8"
      },
      "outputs": [],
      "source": [
        "import tensorflow as tf\n",
        "import tensorflow_hub as hub\n",
        "from tensorflow.keras import layers"
      ]
    },
    {
      "cell_type": "code",
      "execution_count": 7,
      "metadata": {
        "id": "Yi5ExnYF9_al"
      },
      "outputs": [],
      "source": [
        "# Resnet 50 V2 feature vector\n",
        "resnet_url = \"https://tfhub.dev/google/imagenet/resnet_v2_50/feature_vector/4\"\n",
        "\n",
        "# Original: EfficientNetB0 feature vector (version 1)\n",
        "efficientnet_url = \"https://tfhub.dev/tensorflow/efficientnet/b0/feature-vector/1\"\n",
        "\n",
        "# # New: EfficientNetB0 feature vector (version 2)\n",
        "# efficientnet_url = \"https://tfhub.dev/google/imagenet/efficientnet_v2_imagenet1k_b0/feature_vector/2\""
      ]
    },
    {
      "cell_type": "code",
      "execution_count": 8,
      "metadata": {
        "id": "m86IXITX-ZYP"
      },
      "outputs": [],
      "source": [
        "# Let's make a create_model() function to create a model from a URL\n",
        "def create_model(model_url, num_classes=10):\n",
        "    \"\"\"Takes a TensorFlow Hub URL and creates a Keras Sequential model with it.\n",
        "  \n",
        "    Args:\n",
        "      model_url (str): A TensorFlow Hub feature extraction URL.\n",
        "      num_classes (int): Number of output neurons in output layer,\n",
        "        should be equal to number of target classes, default 10.\n",
        "\n",
        "    Returns:\n",
        "      An uncompiled Keras Sequential model with model_url as feature\n",
        "      extractor layer and Dense output layer with num_classes outputs.\n",
        "    \"\"\"\n",
        "    # Download the pretrained model and save it as a Keras layer\n",
        "    feature_extractor_layer = hub.KerasLayer(model_url,\n",
        "                                            trainable=False, # freeze the underlying patterns\n",
        "                                            name='feature_extraction_layer',\n",
        "                                            input_shape=IMAGE_SHAPE+(3,)) # define the input image shape\n",
        "    \n",
        "    # Create our own model\n",
        "    model = tf.keras.Sequential([\n",
        "      feature_extractor_layer, # use the feature extraction layer as the base\n",
        "      layers.Dense(num_classes, activation='softmax', name='output_layer') # create our own output layer      \n",
        "    ])\n",
        "\n",
        "    return model"
      ]
    },
    {
      "cell_type": "markdown",
      "metadata": {
        "id": "0XijuuVCAY21"
      },
      "source": [
        "### Creating and testing ResNet Tensoflow Hub Feature Extraction model"
      ]
    },
    {
      "cell_type": "code",
      "execution_count": 9,
      "metadata": {
        "id": "2NSW4-8DAlm9"
      },
      "outputs": [],
      "source": [
        "# Create model\n",
        "resnet_model = create_model(resnet_url, num_classes=train_data_10_percent.num_classes)\n"
      ]
    },
    {
      "cell_type": "code",
      "execution_count": 10,
      "metadata": {
        "id": "4Zr3EuUfA9OB"
      },
      "outputs": [],
      "source": [
        "# Compile\n",
        "resnet_model.compile(loss='categorical_crossentropy',\n",
        "                     optimizer=tf.keras.optimizers.Adam(),\n",
        "                     metrics=['accuracy'])"
      ]
    },
    {
      "cell_type": "code",
      "execution_count": 11,
      "metadata": {
        "colab": {
          "base_uri": "https://localhost:8080/"
        },
        "id": "cmCC-buTA1So",
        "outputId": "10a39316-b3c9-4724-9bf7-454d2920a068"
      },
      "outputs": [
        {
          "output_type": "stream",
          "name": "stdout",
          "text": [
            "Model: \"sequential\"\n",
            "_________________________________________________________________\n",
            " Layer (type)                Output Shape              Param #   \n",
            "=================================================================\n",
            " feature_extraction_layer (K  (None, 2048)             23564800  \n",
            " erasLayer)                                                      \n",
            "                                                                 \n",
            " output_layer (Dense)        (None, 10)                20490     \n",
            "                                                                 \n",
            "=================================================================\n",
            "Total params: 23,585,290\n",
            "Trainable params: 20,490\n",
            "Non-trainable params: 23,564,800\n",
            "_________________________________________________________________\n"
          ]
        }
      ],
      "source": [
        "resnet_model.summary()"
      ]
    },
    {
      "cell_type": "code",
      "execution_count": 12,
      "metadata": {
        "colab": {
          "base_uri": "https://localhost:8080/"
        },
        "id": "JutP-83ODMFI",
        "outputId": "3fab3fc6-3ee0-4e65-9391-df1cf92cece4"
      },
      "outputs": [
        {
          "output_type": "stream",
          "name": "stdout",
          "text": [
            "Saving TensorBoard log files to: tensorflow_hub/resnet50V2/20221031-051902\n",
            "Epoch 1/5\n",
            "24/24 [==============================] - 30s 778ms/step - loss: 1.9443 - accuracy: 0.3480 - val_loss: 1.2819 - val_accuracy: 0.5996\n",
            "Epoch 2/5\n",
            "24/24 [==============================] - 16s 680ms/step - loss: 0.9461 - accuracy: 0.7093 - val_loss: 0.8871 - val_accuracy: 0.7152\n",
            "Epoch 3/5\n",
            "24/24 [==============================] - 17s 717ms/step - loss: 0.6327 - accuracy: 0.8147 - val_loss: 0.7644 - val_accuracy: 0.7488\n",
            "Epoch 4/5\n",
            "24/24 [==============================] - 17s 719ms/step - loss: 0.4941 - accuracy: 0.8747 - val_loss: 0.7210 - val_accuracy: 0.7744\n",
            "Epoch 5/5\n",
            "24/24 [==============================] - 16s 677ms/step - loss: 0.3999 - accuracy: 0.9067 - val_loss: 0.6895 - val_accuracy: 0.7844\n"
          ]
        }
      ],
      "source": [
        "# Fit the model\n",
        "resnet_history = resnet_model.fit(train_data_10_percent,\n",
        "                                  epochs=5,\n",
        "                                  steps_per_epoch=len(train_data_10_percent),\n",
        "                                  validation_data=test_data,\n",
        "                                  validation_steps=len(test_data),\n",
        "                                  # Add TensorBoard callback to model (callbacks parameter takes a list)\n",
        "                                  callbacks=[create_tensorboard_callback(dir_name=\"tensorflow_hub\", # save experiment logs here\n",
        "                                                                         experiment_name=\"resnet50V2\")]) # name of log files"
      ]
    },
    {
      "cell_type": "markdown",
      "metadata": {
        "id": "S3wYHKcDERrU"
      },
      "source": [
        "Wow!\n",
        "\n",
        "It seems that after only 5 epochs, the ResNetV250 feature extraction model was able to blow any of the architectures we made out of the water, achieving around 90% accuracy on the training set and nearly 80% accuracy on the test set...with only 10 percent of the training images!\n",
        "\n",
        "That goes to show the power of transfer learning. And it's one of the main reasons whenever you're trying to model your own datasets, you should look into what pretrained models already exist.\n",
        "\n",
        "Let's check out our model's training curves using our plot_loss_curves function."
      ]
    },
    {
      "cell_type": "code",
      "execution_count": 13,
      "metadata": {
        "id": "_wveJYqpEMwq"
      },
      "outputs": [],
      "source": [
        "# If you wanted to, you could really turn this into a helper function to load in with a helper.py script...\n",
        "import matplotlib.pyplot as plt\n",
        "\n",
        "# Plot the validation and training data separately\n",
        "def plot_loss_curves(history):\n",
        "  \"\"\"\n",
        "  Returns separate loss curves for training and validation metrics.\n",
        "\n",
        "  Args: \n",
        "    history: TensorFlow History object.\n",
        "\n",
        "  Returns:\n",
        "    Plots of training/validation loss and accuracy metrics.\n",
        "  \"\"\" \n",
        "  loss = history.history['loss']\n",
        "  val_loss = history.history['val_loss']\n",
        "\n",
        "  accuracy = history.history['accuracy']\n",
        "  val_accuracy = history.history['val_accuracy']\n",
        "\n",
        "  epochs = range(len(history.history['loss']))\n",
        "\n",
        "  # Plot loss\n",
        "  plt.plot(epochs, loss, label='training_loss')\n",
        "  plt.plot(epochs, val_loss, label='val_loss')\n",
        "  plt.title('Loss')\n",
        "  plt.xlabel('Epochs')\n",
        "  plt.legend()\n",
        "\n",
        "  # Plot accuracy\n",
        "  plt.figure()\n",
        "  plt.plot(epochs, accuracy, label='training_accuracy')\n",
        "  plt.plot(epochs, val_accuracy, label='val_accuracy')\n",
        "  plt.title('Accuracy')\n",
        "  plt.xlabel('Epochs')\n",
        "  plt.legend();"
      ]
    },
    {
      "cell_type": "code",
      "execution_count": 14,
      "metadata": {
        "id": "fE3BFHi9EngH",
        "colab": {
          "base_uri": "https://localhost:8080/",
          "height": 573
        },
        "outputId": "77f504f6-a1b1-4c6e-c0c7-ccae70e8c35f"
      },
      "outputs": [
        {
          "output_type": "display_data",
          "data": {
            "text/plain": [
              "<Figure size 432x288 with 1 Axes>"
            ],
            "image/png": "[encoded data removed]"
          },
          "metadata": {
            "needs_background": "light"
          }
        },
        {
          "output_type": "display_data",
          "data": {
            "text/plain": [
              "<Figure size 432x288 with 1 Axes>"
            ],
            "image/png": "[encoded data removed]"
          },
          "metadata": {
            "needs_background": "light"
          }
        }
      ],
      "source": [
        "plot_loss_curves(resnet_history)"
      ]
    },
    {
      "cell_type": "code",
      "source": [
        "resnet_model.summary()"
      ],
      "metadata": {
        "id": "k8Okm4B48hru",
        "colab": {
          "base_uri": "https://localhost:8080/"
        },
        "outputId": "2884cd13-190c-40aa-abee-d1b3837d7286"
      },
      "execution_count": 15,
      "outputs": [
        {
          "output_type": "stream",
          "name": "stdout",
          "text": [
            "Model: \"sequential\"\n",
            "_________________________________________________________________\n",
            " Layer (type)                Output Shape              Param #   \n",
            "=================================================================\n",
            " feature_extraction_layer (K  (None, 2048)             23564800  \n",
            " erasLayer)                                                      \n",
            "                                                                 \n",
            " output_layer (Dense)        (None, 10)                20490     \n",
            "                                                                 \n",
            "=================================================================\n",
            "Total params: 23,585,290\n",
            "Trainable params: 20,490\n",
            "Non-trainable params: 23,564,800\n",
            "_________________________________________________________________\n"
          ]
        }
      ]
    },
    {
      "cell_type": "markdown",
      "metadata": {
        "id": "bJj7Q0BtGVYf"
      },
      "source": [
        "Our transfer learning feature extractor model out performed ALL of the previous models we built by hand ... (substantially) and in a quicker training time and with only 10% of the training examples"
      ]
    },
    {
      "cell_type": "markdown",
      "metadata": {
        "id": "JQrqDd-gLcFx"
      },
      "source": [
        "### Creating and testing EfficientNetB0 Tensoflow Hub Feature Extraction model"
      ]
    },
    {
      "cell_type": "code",
      "source": [
        "#Create EfficientNetB0 feature extractor model\n",
        "efficientnet_model = create_model(model_url=efficientnet_url, # use EfficientNetB0 TensorFlow Hub URL\n",
        "                                  num_classes=train_data_10_percent.num_classes)\n",
        "#Compile EfficientNet Model\n",
        "efficientnet_model.compile(loss='categorical_crossentropy',\n",
        "                           optimizer=tf.keras.optimizers.Adam(),\n",
        "                           metrics=['accuracy'])\n",
        "#Fit EfficientNet model to 10% of training data\n",
        "efficientnet_history = efficientnet_model.fit(train_data_10_percent, # only use 10% of training data\n",
        "                                              epochs=5, # train for 5 epochs\n",
        "                                              steps_per_epoch=len(train_data_10_percent),\n",
        "                                              validation_data=test_data,\n",
        "                                              validation_steps=len(test_data),\n",
        "                                              callbacks=[create_tensorboard_callback(dir_name=\"tensorflow_hub\", \n",
        "                                                                                     # Track logs under different experiment name\n",
        "                                                                                     experiment_name=\"efficientnetB0\")])"
      ],
      "metadata": {
        "colab": {
          "base_uri": "https://localhost:8080/"
        },
        "id": "oR4Wr9TBjzaM",
        "outputId": "c23cf240-6c19-430c-8b01-e40c5ebf7536"
      },
      "execution_count": 17,
      "outputs": [
        {
          "output_type": "stream",
          "name": "stdout",
          "text": [
            "Saving TensorBoard log files to: tensorflow_hub/efficientnetB0/20221031-054531\n",
            "Epoch 1/5\n",
            "24/24 [==============================] - 26s 731ms/step - loss: 1.8460 - accuracy: 0.4307 - val_loss: 1.3020 - val_accuracy: 0.7280\n",
            "Epoch 2/5\n",
            "24/24 [==============================] - 15s 654ms/step - loss: 1.0616 - accuracy: 0.7880 - val_loss: 0.8697 - val_accuracy: 0.8088\n",
            "Epoch 3/5\n",
            "24/24 [==============================] - 15s 657ms/step - loss: 0.7521 - accuracy: 0.8333 - val_loss: 0.6988 - val_accuracy: 0.8360\n",
            "Epoch 4/5\n",
            "24/24 [==============================] - 15s 661ms/step - loss: 0.6050 - accuracy: 0.8680 - val_loss: 0.6097 - val_accuracy: 0.8512\n",
            "Epoch 5/5\n",
            "24/24 [==============================] - 15s 658ms/step - loss: 0.5124 - accuracy: 0.8907 - val_loss: 0.5604 - val_accuracy: 0.8572\n"
          ]
        }
      ]
    },
    {
      "cell_type": "markdown",
      "source": [
        "The EfficientNetB0 model does even better than the ResNetV250 model! Achieving over 85% accuracy on the test set...again with only 10% of the training data."
      ],
      "metadata": {
        "id": "o3yHcFCUlhQM"
      }
    },
    {
      "cell_type": "code",
      "source": [
        "plot_loss_curves(efficientnet_history)"
      ],
      "metadata": {
        "colab": {
          "base_uri": "https://localhost:8080/",
          "height": 573
        },
        "id": "Huy9sBQKlWJu",
        "outputId": "ddd6b2ba-189a-4b35-b465-c7643d03d1a3"
      },
      "execution_count": 18,
      "outputs": [
        {
          "output_type": "display_data",
          "data": {
            "text/plain": [
              "<Figure size 432x288 with 1 Axes>"
            ],
            "image/png": "[encoded data removed]"
          },
          "metadata": {
            "needs_background": "light"
          }
        },
        {
          "output_type": "display_data",
          "data": {
            "text/plain": [
              "<Figure size 432x288 with 1 Axes>"
            ],
            "image/png": "[encoded data removed]"
          },
          "metadata": {
            "needs_background": "light"
          }
        }
      ]
    },
    {
      "cell_type": "markdown",
      "source": [
        "From the look of the EfficientNetB0 model's loss curves, it looks like if we kept training our model for longer, it might improve even further. Perhaps that's something you might want to try?\n",
        "\n",
        "Let's check out the model summary."
      ],
      "metadata": {
        "id": "tVJsLzx0l2DP"
      }
    },
    {
      "cell_type": "code",
      "source": [
        "efficientnet_model.summary()"
      ],
      "metadata": {
        "colab": {
          "base_uri": "https://localhost:8080/"
        },
        "id": "hLxCWBChl4P4",
        "outputId": "e6e4c1c7-ab5b-438b-d58d-fb3c2f0c6f02"
      },
      "execution_count": 19,
      "outputs": [
        {
          "output_type": "stream",
          "name": "stdout",
          "text": [
            "Model: \"sequential_1\"\n",
            "_________________________________________________________________\n",
            " Layer (type)                Output Shape              Param #   \n",
            "=================================================================\n",
            " feature_extraction_layer (K  (None, 1280)             4049564   \n",
            " erasLayer)                                                      \n",
            "                                                                 \n",
            " output_layer (Dense)        (None, 10)                12810     \n",
            "                                                                 \n",
            "=================================================================\n",
            "Total params: 4,062,374\n",
            "Trainable params: 12,810\n",
            "Non-trainable params: 4,049,564\n",
            "_________________________________________________________________\n"
          ]
        }
      ]
    },
    {
      "cell_type": "code",
      "source": [
        "resnet_model.summary()"
      ],
      "metadata": {
        "colab": {
          "base_uri": "https://localhost:8080/"
        },
        "id": "8ijeVB1GmTY-",
        "outputId": "8fb5c6b9-0661-46a9-c299-08a90e392685"
      },
      "execution_count": 21,
      "outputs": [
        {
          "output_type": "stream",
          "name": "stdout",
          "text": [
            "Model: \"sequential\"\n",
            "_________________________________________________________________\n",
            " Layer (type)                Output Shape              Param #   \n",
            "=================================================================\n",
            " feature_extraction_layer (K  (None, 2048)             23564800  \n",
            " erasLayer)                                                      \n",
            "                                                                 \n",
            " output_layer (Dense)        (None, 10)                20490     \n",
            "                                                                 \n",
            "=================================================================\n",
            "Total params: 23,585,290\n",
            "Trainable params: 20,490\n",
            "Non-trainable params: 23,564,800\n",
            "_________________________________________________________________\n"
          ]
        }
      ]
    },
    {
      "cell_type": "markdown",
      "source": [
        "## Different types of Transfer Learning\n",
        "\n",
        "* **\"As is\" transfer learning** - using an existing model with no changes what so ever (eg using ImageNet model on 1000 ImageNet classes, none of your own)\n",
        "* **\"Feature extraction\" transfer learning** - use the prelearned patterns of an existing model (eg. EfficientNetB0 trained on ImageNet) and adjust the output layer for your own problem (e.g 1000 classes -> 10 classes of food)\n",
        "* **\"Fine-tuning\" transfer learning** - use the prelearned patterns of an existing model and \"fine-tune\" many or all of the underlying layers (including new output layers)"
      ],
      "metadata": {
        "id": "qGp9mztYmUYM"
      }
    },
    {
      "cell_type": "markdown",
      "source": [
        "## Comparing result models using TensorBoard\n",
        "\n",
        ">🔑 Note: TensorBoard.dev experiments are public, do not upload sensitive data. You can delete experiments if needed."
      ],
      "metadata": {
        "id": "eJ1E6vB3pg4p"
      }
    },
    {
      "cell_type": "markdown",
      "source": [
        "Where:\n",
        "\n",
        "* --logdir is the target upload directory\n",
        "* --name is the name of the experiment\n",
        "* --description is a brief description of the experiment\n",
        "* --one_shot exits the TensorBoard uploader once uploading is finished\n",
        "Running the tensorboard dev upload command will first ask you to authorize the upload to TensorBoard.dev. After you've authorized the upload, your log files will be uploaded."
      ],
      "metadata": {
        "id": "ObgP_B0_wfVY"
      }
    },
    {
      "cell_type": "code",
      "source": [
        "# Upload TensorBoard dev records\n",
        "!tensorboard dev upload --logdir ./tensorflow_hub/ \\\n",
        "  --name \"EfficientNetB0 vs. ResNet50V2\" \\\n",
        "  --description \"Comparing two different TF Hub feature extraction models architectures using 10% of training data\" \\\n",
        "  --one_shot"
      ],
      "metadata": {
        "colab": {
          "base_uri": "https://localhost:8080/"
        },
        "id": "Cuqskw0ft1lu",
        "outputId": "868dd8c4-7693-4cde-ccab-63cb5812a693"
      },
      "execution_count": 25,
      "outputs": [
        {
          "output_type": "stream",
          "name": "stdout",
          "text": [
            "\n",
            "***** TensorBoard Uploader *****\n",
            "\n",
            "This will upload your TensorBoard logs to https://tensorboard.dev/ from\n",
            "the following directory:\n",
            "\n",
            "./tensorflow_hub/\n",
            "\n",
            "This TensorBoard will be visible to everyone. Do not upload sensitive\n",
            "data.\n",
            "\n",
            "Your use of this service is subject to Google's Terms of Service\n",
            "<https://policies.google.com/terms> and Privacy Policy\n",
            "<https://policies.google.com/privacy>, and TensorBoard.dev's Terms of Service\n",
            "<https://tensorboard.dev/policy/terms/>.\n",
            "\n",
            "This notice will not be shown again while you are logged into the uploader.\n",
            "To log out, run `tensorboard dev auth revoke`.\n",
            "\n",
            "Continue? (yes/NO) yes\n",
            "\n",
            "Please visit this URL to authorize this application: https://accounts.google.com/o/oauth2/auth?response_type=code&client_id=373649185512-8v619h5kft38l4456nm2dj4ubeqsrvh6.apps.googleusercontent.com&redirect_uri=urn%3Aietf%3Awg%3Aoauth%3A2.0%3Aoob&scope=openid+https%3A%2F%2Fwww.googleapis.com%2Fauth%2Fuserinfo.email&state=uCFnilxUyL3mhDAr2UdfIqQPTTqHC7&prompt=consent&access_type=offline\n",
            "Enter the authorization code: 4/1ARtbsJoJblAAcKJDV_F6U4KW3evbVqb_wR4ql8onD2eWfN3GpbA2iGyRKUo\n",
            "\n",
            "\n",
            "New experiment created. View your TensorBoard at: https://tensorboard.dev/experiment/wNjj0fahQiWDk32wuExdHQ/\n",
            "\n",
            "\u001b[1m[2022-10-31T06:29:43]\u001b[0m Started scanning logdir.\n",
            "\u001b[1m[2022-10-31T06:29:48]\u001b[0m Total uploaded: 60 scalars, 0 tensors, 2 binary objects (5.6 MB)\n",
            "\u001b[1m[2022-10-31T06:29:48]\u001b[0m Done scanning logdir.\n",
            "\n",
            "\n",
            "Done. View your TensorBoard at https://tensorboard.dev/experiment/wNjj0fahQiWDk32wuExdHQ/\n"
          ]
        }
      ]
    },
    {
      "cell_type": "markdown",
      "source": [
        "Our Tensoboard experiments are uploaded publically here: https://tensorboard.dev/experiment/wNjj0fahQiWDk32wuExdHQ/"
      ],
      "metadata": {
        "id": "vtpQGMkWu9Po"
      }
    },
    {
      "cell_type": "markdown",
      "source": [
        "### Listing experiments you've saved to TensorBoard\n",
        "To see all of the experiments you've uploaded you can use the command:\n",
        "\n",
        "tensorboard dev list"
      ],
      "metadata": {
        "id": "zklum_W9wk_g"
      }
    },
    {
      "cell_type": "code",
      "source": [
        "# Check out experiments\n",
        "!tensorboard dev list"
      ],
      "metadata": {
        "colab": {
          "base_uri": "https://localhost:8080/"
        },
        "id": "864RsODFwsKA",
        "outputId": "232e540c-ee61-4a10-9557-2b5959f83599"
      },
      "execution_count": 26,
      "outputs": [
        {
          "output_type": "stream",
          "name": "stdout",
          "text": [
            "https://tensorboard.dev/experiment/wNjj0fahQiWDk32wuExdHQ/\n",
            "\tName                 EfficientNetB0 vs. ResNet50V2\n",
            "\tDescription          Comparing two different TF Hub feature extraction models architectures using 10% of training data\n",
            "\tId                   wNjj0fahQiWDk32wuExdHQ\n",
            "\tCreated              2022-10-31 06:29:43 (8 minutes ago)\n",
            "\tUpdated              2022-10-31 06:29:48 (8 minutes ago)\n",
            "\tRuns                 4\n",
            "\tTags                 5\n",
            "\tScalars              60\n",
            "\tTensor bytes         0\n",
            "\tBinary object bytes  5918466\n",
            "Total: 1 experiment(s)\n"
          ]
        }
      ]
    },
    {
      "cell_type": "markdown",
      "source": [
        "### Deleting experiments from TensorBoard\n",
        "Remember, all uploads to TensorBoard.dev are public, so to delete an experiment you can use the command:\n",
        "\n",
        "tensorboard dev delete --experiment_id [INSERT_EXPERIMENT_ID]"
      ],
      "metadata": {
        "id": "pZmEy_lxw48z"
      }
    },
    {
      "cell_type": "code",
      "source": [
        "# Delete an experiment\n",
        "!tensorboard dev delete --experiment_id ???????????????????????"
      ],
      "metadata": {
        "id": "rnpDtLMWw9tr"
      },
      "execution_count": null,
      "outputs": []
    },
    {
      "cell_type": "code",
      "source": [
        "# Check to see if experiments still exist\n",
        "!tensorboard dev list"
      ],
      "metadata": {
        "id": "hW3Jk8FqxEft"
      },
      "execution_count": null,
      "outputs": []
    },
    {
      "cell_type": "markdown",
      "source": [
        "## 🛠 Exercises\n",
        "\n",
        "1. Build and fit a model using the same data we have here but with the MobileNetV2 architecture feature extraction ([`mobilenet_v2_100_224/feature_vector`](https://tfhub.dev/google/imagenet/mobilenet_v2_100_224/feature_vector/4)) from TensorFlow Hub, how does it perform compared to our other models?\n",
        "2. Name 3 different image classification models on TensorFlow Hub that we haven't used.\n",
        "3. Build a model to classify images of two different things you've taken photos of.\n",
        "  * You can use any feature extraction layer from TensorFlow Hub you like for this.\n",
        "  * You should aim to have at least 10 images of each class, for example to build a fridge versus oven classifier, you'll want 10 images of fridges and 10 images of ovens.\n",
        "4. What is the current best performing model on ImageNet?\n",
        "  * Hint: you might want to check [sotabench.com](https://www.sotabench.com) for this."
      ],
      "metadata": {
        "id": "mpGLRn7KxPMI"
      }
    },
    {
      "cell_type": "code",
      "source": [
        "# MobileNetV2\n",
        "mobilenetv2_url = \"https://tfhub.dev/google/imagenet/mobilenet_v2_100_224/feature_vector/5\""
      ],
      "metadata": {
        "id": "6STY3A9qzGt5"
      },
      "execution_count": 28,
      "outputs": []
    },
    {
      "cell_type": "code",
      "source": [
        "#Create MobileNetV2 feature extractor model\n",
        "mobilenetv2_model = create_model(model_url=mobilenetv2_url, # use EfficientNetB0 TensorFlow Hub URL\n",
        "                                  num_classes=train_data_10_percent.num_classes)\n",
        "#Compile MobileNetV2 Model\n",
        "mobilenetv2_model.compile(loss='categorical_crossentropy',\n",
        "                           optimizer=tf.keras.optimizers.Adam(),\n",
        "                           metrics=['accuracy'])\n",
        "#Fit MobileNetV2 model to 10% of training data\n",
        "mobilenetv2_history = mobilenetv2_model.fit(train_data_10_percent, # only use 10% of training data\n",
        "                                              epochs=5, # train for 5 epochs\n",
        "                                              steps_per_epoch=len(train_data_10_percent),\n",
        "                                              validation_data=test_data,\n",
        "                                              validation_steps=len(test_data),\n",
        "                                              callbacks=[create_tensorboard_callback(dir_name=\"tensorflow_hub\", \n",
        "                                                                                     # Track logs under different experiment name\n",
        "                                                                                     experiment_name=\"mobilenetv2\")])"
      ],
      "metadata": {
        "colab": {
          "base_uri": "https://localhost:8080/"
        },
        "id": "GANTxFbxzp04",
        "outputId": "8faf75f4-734f-467a-a89c-822209b15a80"
      },
      "execution_count": 29,
      "outputs": [
        {
          "output_type": "stream",
          "name": "stdout",
          "text": [
            "Saving TensorBoard log files to: tensorflow_hub/mobilenetv2/20221031-065142\n",
            "Epoch 1/5\n",
            "24/24 [==============================] - 20s 677ms/step - loss: 1.9215 - accuracy: 0.3747 - val_loss: 1.2862 - val_accuracy: 0.6040\n",
            "Epoch 2/5\n",
            "24/24 [==============================] - 16s 696ms/step - loss: 1.0717 - accuracy: 0.6733 - val_loss: 0.9390 - val_accuracy: 0.7156\n",
            "Epoch 3/5\n",
            "24/24 [==============================] - 16s 674ms/step - loss: 0.7547 - accuracy: 0.7893 - val_loss: 0.7561 - val_accuracy: 0.7712\n",
            "Epoch 4/5\n",
            "24/24 [==============================] - 15s 660ms/step - loss: 0.5955 - accuracy: 0.8360 - val_loss: 0.6989 - val_accuracy: 0.7780\n",
            "Epoch 5/5\n",
            "24/24 [==============================] - 16s 674ms/step - loss: 0.4936 - accuracy: 0.8733 - val_loss: 0.6559 - val_accuracy: 0.7888\n"
          ]
        }
      ]
    },
    {
      "cell_type": "code",
      "source": [
        "plot_loss_curves(efficientnet_history)"
      ],
      "metadata": {
        "colab": {
          "base_uri": "https://localhost:8080/",
          "height": 573
        },
        "id": "eof18ASf0QFe",
        "outputId": "7e58fc4b-e846-471e-b9cc-c23a701df0de"
      },
      "execution_count": 30,
      "outputs": [
        {
          "output_type": "display_data",
          "data": {
            "text/plain": [
              "<Figure size 432x288 with 1 Axes>"
            ],
            "image/png": "[encoded data removed]"
          },
          "metadata": {
            "needs_background": "light"
          }
        },
        {
          "output_type": "display_data",
          "data": {
            "text/plain": [
              "<Figure size 432x288 with 1 Axes>"
            ],
            "image/png": "[encoded data removed]"
          },
          "metadata": {
            "needs_background": "light"
          }
        }
      ]
    },
    {
      "cell_type": "code",
      "source": [
        "mobilenetv2_model.summary()"
      ],
      "metadata": {
        "colab": {
          "base_uri": "https://localhost:8080/"
        },
        "id": "oytQjqEN0VLW",
        "outputId": "f05b590c-4154-481f-a820-c749a5bd8fb2"
      },
      "execution_count": 31,
      "outputs": [
        {
          "output_type": "stream",
          "name": "stdout",
          "text": [
            "Model: \"sequential_2\"\n",
            "_________________________________________________________________\n",
            " Layer (type)                Output Shape              Param #   \n",
            "=================================================================\n",
            " feature_extraction_layer (K  (None, 1280)             2257984   \n",
            " erasLayer)                                                      \n",
            "                                                                 \n",
            " output_layer (Dense)        (None, 10)                12810     \n",
            "                                                                 \n",
            "=================================================================\n",
            "Total params: 2,270,794\n",
            "Trainable params: 12,810\n",
            "Non-trainable params: 2,257,984\n",
            "_________________________________________________________________\n"
          ]
        }
      ]
    },
    {
      "cell_type": "code",
      "source": [
        "# Upload TensorBoard dev records\n",
        "!tensorboard dev upload --logdir ./tensorflow_hub/ \\\n",
        "  --name \"Mobile Net V2\" \\\n",
        "  --description \"Mobile Net V2: architectures using 10% of training data\" \\\n",
        "  --one_shot"
      ],
      "metadata": {
        "colab": {
          "base_uri": "https://localhost:8080/"
        },
        "id": "xat4-b4m0cNo",
        "outputId": "b120c1fc-2749-4224-d700-c8e84868bbfa"
      },
      "execution_count": 32,
      "outputs": [
        {
          "output_type": "stream",
          "name": "stdout",
          "text": [
            "\n",
            "New experiment created. View your TensorBoard at: https://tensorboard.dev/experiment/UDZxAY5ERa6OckRfGVz3Ag/\n",
            "\n",
            "\u001b[1m[2022-10-31T06:54:52]\u001b[0m Started scanning logdir.\n",
            "\u001b[1m[2022-10-31T06:54:57]\u001b[0m Total uploaded: 90 scalars, 0 tensors, 3 binary objects (7.2 MB)\n",
            "\u001b[1m[2022-10-31T06:54:57]\u001b[0m Done scanning logdir.\n",
            "\n",
            "\n",
            "Done. View your TensorBoard at https://tensorboard.dev/experiment/UDZxAY5ERa6OckRfGVz3Ag/\n"
          ]
        }
      ]
    }
  ],
  "metadata": {
    "accelerator": "GPU",
    "colab": {
      "provenance": []
    },
    "kernelspec": {
      "display_name": "Python 3",
      "name": "python3"
    },
    "language_info": {
      "name": "python"
    },
    "gpuClass": "standard"
  },
  "nbformat": 4,
  "nbformat_minor": 0
}